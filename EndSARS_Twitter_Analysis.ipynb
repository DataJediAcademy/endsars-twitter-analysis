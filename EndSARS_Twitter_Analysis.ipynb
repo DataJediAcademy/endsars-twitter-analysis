{
 "cells": [
  {
   "cell_type": "markdown",
   "metadata": {},
   "source": [
    "# EndSARS Twitter Analysis\n",
    "\n",
    "Sentiment and Network Analysis of the #EndSARS protest movement that occured in 2020 in Nigeria. "
   ]
  },
  {
   "cell_type": "markdown",
   "metadata": {},
   "source": [
    "## SetUp"
   ]
  },
  {
   "cell_type": "markdown",
   "metadata": {},
   "source": [
    "### Import Python Libraries"
   ]
  },
  {
   "cell_type": "code",
   "execution_count": 1,
   "metadata": {},
   "outputs": [],
   "source": [
    "import pandas as pd\n",
    "import numpy as np\n",
    "import seaborn as sns\n",
    "import yaml\n",
    "import requests\n",
    "import os\n",
    "import json\n",
    "import re\n",
    "import ast\n",
    "import csv\n",
    "import gensim\n",
    "from searchtweets import ResultStream, gen_request_parameters, load_credentials, collect_results\n",
    "# import fastText as ft\n",
    "from sklearn.model_selection import train_test_split\n",
    "import numpy as np\n",
    "from datetime import datetime, timedelta, date\n",
    "import networkx as nx\n",
    "\n",
    "\n",
    "%matplotlib inline\n",
    "pd.set_option(\"display.max_rows\", 500)\n",
    "pd.set_option(\"display.max_columns\", 500)"
   ]
  },
  {
   "cell_type": "markdown",
   "metadata": {
    "heading_collapsed": true
   },
   "source": [
    "### Connecting to Twitter\n",
    "\n",
    "I suggest you use Twitter's official searchtweets api which is easy to use and reliable.\n",
    "<br>In order to get past the tweets retrieval limit, you might also need to  use the premium search api."
   ]
  },
  {
   "cell_type": "markdown",
   "metadata": {
    "hidden": true
   },
   "source": [
    "- Create a hidden yaml file (.yaml) which contains details about your twitter api keys\n",
    "- Create a variable that stores the twitter api credentials from the hiddem yaml file above."
   ]
  },
  {
   "cell_type": "markdown",
   "metadata": {
    "hidden": true
   },
   "source": [
    "**Keywords**: EndSARS, Soro Soke, Police Brutality, lekki toll gate, anti-robbery, lekki massacre, End bad governance,\n",
    "End swat, buhari is a bad boy, sanwa-olu is a murderer, #LekkiMassacre"
   ]
  },
  {
   "cell_type": "markdown",
   "metadata": {
    "hidden": true
   },
   "source": [
    "Helpful links:\n",
    "- https://developer.twitter.com/en/docs/twitter-api/tweets/search/api-reference/get-tweets-search-recent\n",
    "- https://github.com/twitterdev/search-tweets-python/tree/v2#using-the-twitter-search-apis-python-wrapper"
   ]
  },
  {
   "cell_type": "code",
   "execution_count": 2,
   "metadata": {
    "hidden": true
   },
   "outputs": [],
   "source": [
    "bode_all_search_args = load_credentials(\".twitter_keys.yaml\",\n",
    "                                        yaml_key=\"search_tweets_all_bode_v2\",\n",
    "                                        env_overwrite=False)"
   ]
  },
  {
   "cell_type": "code",
   "execution_count": 3,
   "metadata": {
    "hidden": true
   },
   "outputs": [],
   "source": [
    "def retrieve_tweets(start_date, \n",
    "                    end_date,\n",
    "                    max_tweets=30000,\n",
    "                    results_per_call=100,\n",
    "                    search_args=bode_all_search_args,\n",
    "                    keywords_query=\"\"\"#EndSARS OR \"Soro Soke\" OR \"lekki toll gate\" OR \"anti-robbery squad\" OR\n",
    "\"lekki massacre\" OR \"End bad governance\" OR \"End swat\" OR #LekkiMassacre lang:en\"\"\",\n",
    "                    tweet_resp_fields=\"id,author_id,created_at,text,geo,referenced_tweets,in_reply_to_user_id,\\\n",
    "                    entities,public_metrics\", \n",
    "                    expansions_resp_fields=\"author_id,entities.mentions.username,geo.place_id,in_reply_to_user_id,\\\n",
    "referenced_tweets.id,referenced_tweets.id.author_id\", \n",
    "                    user_resp_fields=\"id,created_at,location,username,verified,public_metrics\",\n",
    "                    place_resp_fields=\"country,country_code,full_name,geo,id,name,place_type\"):\n",
    "    \"\"\"\n",
    "    Create a function that gets tweets using the premium search API where matching a certain keyword during a\n",
    "    certain date range and returns all these tweets as a list\n",
    "    \"\"\"\n",
    "    tweets_query = gen_request_parameters(query=keywords_query, \n",
    "                                          start_time=start_date, \n",
    "                                          end_time=end_date,\n",
    "                                          expansions=expansions_resp_fields,\n",
    "                                          tweet_fields=tweet_resp_fields,\n",
    "                                          user_fields=user_resp_fields,\n",
    "                                          place_fields=place_resp_fields,\n",
    "                                          results_per_call=results_per_call)\n",
    "    tweets = collect_results(tweets_query,\n",
    "                             max_tweets=max_tweets,\n",
    "                             result_stream_args=search_args)\n",
    "    return tweets"
   ]
  },
  {
   "cell_type": "code",
   "execution_count": 4,
   "metadata": {
    "hidden": true
   },
   "outputs": [],
   "source": [
    "def get_dt_after(start_date, delta=timedelta(days=7)):\n",
    "    start_dt = datetime.strptime(start_date, \"%Y-%m-%d\")\n",
    "    end_dt = start_dt + delta\n",
    "    return end_dt.strftime(\"%Y-%m-%d\")"
   ]
  },
  {
   "cell_type": "code",
   "execution_count": 5,
   "metadata": {
    "hidden": true
   },
   "outputs": [],
   "source": [
    "def create_tweets_df(dates_list, \n",
    "                     max_tweets=30000,\n",
    "                     results_per_call=100,\n",
    "                     search_args=bode_all_search_args,\n",
    "                     keywords_query=\"\"\"#EndSARS OR \"Soro Soke\" OR \"lekki toll gate\" OR \"anti-robbery squad\" OR\n",
    "\"lekki massacre\" OR \"End bad governance\" OR \"End swat\" OR #LekkiMassacre lang:en\"\"\",\n",
    "                     tweet_resp_fields=\"\"\"id,author_id,created_at,text,geo,referenced_tweets,in_reply_to_user_id,entities,public_metrics\"\"\",\n",
    "                     expansions_resp_fields=\"\"\"author_id,entities.mentions.username,geo.place_id,in_reply_to_user_id,referenced_tweets.id,referenced_tweets.id.author_id\"\"\", \n",
    "                     user_resp_fields=\"id,created_at,location,username,verified,public_metrics\",\n",
    "                     place_resp_fields=\"country,country_code,full_name,geo,id,name,place_type\"):\n",
    "    \"\"\"\n",
    "    Create a function that Creates a dataframe from the tweets you've retrieved using the retieve_tweets function \n",
    "    you created above. This functions should also take a list of datest you want to get tweets from\n",
    "    \"\"\"\n",
    "    tweets = []\n",
    "    for date in dates_list:\n",
    "        tweets += retrieve_tweets(start_date=date, end_date=get_dt_after(start_date=date),\n",
    "                                  max_tweets=max_tweets, results_per_call=results_per_call, \n",
    "                                  search_args=search_args, keywords_query=keywords_query, \n",
    "                                  tweet_resp_fields=tweet_resp_fields, user_resp_fields=user_resp_fields, \n",
    "                                  place_resp_fields=place_resp_fields, expansions_resp_fields=expansions_resp_fields\n",
    "                                 )\n",
    "    df = pd.DataFrame(tweets)\n",
    "    df.to_pickle(f\"./data/endsars_tweets_{dates_list[0].replace('-', '')}_{dates_list[-1].replace('-', '')}.pkl\")\n",
    "    return df"
   ]
  },
  {
   "cell_type": "code",
   "execution_count": 6,
   "metadata": {
    "hidden": true
   },
   "outputs": [],
   "source": [
    "my_search_args = load_credentials(\".twitter_keys.yaml\",\n",
    "                                  yaml_key=\"search_tweets_recent_v2\",\n",
    "                                  env_overwrite=False)"
   ]
  },
  {
   "cell_type": "code",
   "execution_count": 18,
   "metadata": {
    "hidden": true
   },
   "outputs": [],
   "source": [
    "def create_url(user_ids, user_fields=\"user.fields=username,name,created_at,location,verified,public_metrics\"):\n",
    "    url = \"https://api.twitter.com/2/users?ids={}&{}\".format(user_ids, user_fields)\n",
    "    return url\n",
    "\n",
    "\n",
    "def create_headers(bearer_token):\n",
    "    headers = {\"Authorization\": \"Bearer {}\".format(bearer_token)}\n",
    "    return headers\n",
    "\n",
    "\n",
    "def connect_to_endpoint(url, headers):\n",
    "    response = requests.request(\"GET\", url, headers=headers)\n",
    "#     print(response.status_code)\n",
    "    if response.status_code != 200:\n",
    "        raise Exception(\n",
    "            \"Request returned an error: {} {}\".format(\n",
    "                response.status_code, response.text\n",
    "            )\n",
    "        )\n",
    "    return response.json()['data']\n",
    "\n",
    "def get_user_details(user_id_list):\n",
    "    \"\"\"\n",
    "    user_id_list: list of lists which contains user ids, each list should have a maximum of 100 ids\n",
    "    \"\"\"\n",
    "    users = []\n",
    "    headers = create_headers(my_search_args['bearer_token'])\n",
    "    for user_list in user_id_list:\n",
    "        user_ids = \",\".join(user_list)\n",
    "        url = create_url(user_ids=user_ids)\n",
    "        users += connect_to_endpoint(url=url, headers=headers)\n",
    "    users_df = pd.DataFrame(users)\n",
    "    users_df.to_pickle(f\"./data/endsars_tweets_user_details.pkl\")\n",
    "    return users_df"
   ]
  },
  {
   "cell_type": "markdown",
   "metadata": {},
   "source": [
    "## Fetch and Clean Data"
   ]
  },
  {
   "cell_type": "markdown",
   "metadata": {},
   "source": [
    "Use the functions you've created above to collect all the tweets"
   ]
  },
  {
   "cell_type": "markdown",
   "metadata": {
    "heading_collapsed": true
   },
   "source": [
    "### Get Tweets"
   ]
  },
  {
   "cell_type": "code",
   "execution_count": 22,
   "metadata": {
    "hidden": true
   },
   "outputs": [],
   "source": [
    "def days_cur_month(m=1, y=2021):\n",
    "    if m == 12:\n",
    "        ndays = (date(y+1, 1, 1) - date(y, m, 1)).days\n",
    "    else:\n",
    "        ndays = (date(y, m+1, 1) - date(y, m, 1)).days\n",
    "    d1 = date(y, m, 1)\n",
    "    d2 = date(y, m, ndays)\n",
    "    delta = d2 - d1\n",
    "    return [(d1 + timedelta(days=i)).strftime('%Y-%m-%d') for i in range(0, delta.days+1, 7)]"
   ]
  },
  {
   "cell_type": "code",
   "execution_count": 23,
   "metadata": {
    "hidden": true
   },
   "outputs": [],
   "source": [
    "# dates = []\n",
    "# for dt in range(2, 8):\n",
    "#     dates += days_cur_month(m=dt, y=2020)\n",
    "# dates += days_cur_month(12, 2020)\n",
    "# dates += days_cur_month()"
   ]
  },
  {
   "cell_type": "code",
   "execution_count": 35,
   "metadata": {
    "hidden": true,
    "scrolled": true
   },
   "outputs": [],
   "source": [
    "# tweets_df = create_tweets_df(dates_list=dates, max_tweets=5000)\n",
    "# tweets_df.shape"
   ]
  },
  {
   "cell_type": "code",
   "execution_count": 8,
   "metadata": {
    "hidden": true
   },
   "outputs": [],
   "source": [
    "# tweets_1020 = pd.read_pickle(\"./data/endsars_tweets_20201001_20201029.pkl\")\n",
    "# tweets_1020.shape"
   ]
  },
  {
   "cell_type": "code",
   "execution_count": 9,
   "metadata": {
    "hidden": true
   },
   "outputs": [],
   "source": [
    "# tweets_0120_0221 = pd.read_pickle(\"./data/endsars_tweets_20200101_20210222.pkl\")\n",
    "# tweets_0120_0221.shape"
   ]
  },
  {
   "cell_type": "code",
   "execution_count": 10,
   "metadata": {
    "hidden": true
   },
   "outputs": [],
   "source": [
    "# tweets_0220_0121 = pd.read_pickle(\"./data/endsars_tweets_20200201_20210129.pkl\")\n",
    "# tweets_0220_0121.shape"
   ]
  },
  {
   "cell_type": "code",
   "execution_count": 11,
   "metadata": {
    "hidden": true
   },
   "outputs": [],
   "source": [
    "# tweets_011220_081220 = pd.read_pickle(\"./data/endsars_tweets_20201201_20201208.pkl\")\n",
    "# tweets_011220_081220.shape"
   ]
  },
  {
   "cell_type": "code",
   "execution_count": 12,
   "metadata": {
    "hidden": true
   },
   "outputs": [],
   "source": [
    "# tweets_201020 = pd.read_pickle(\"./data/endsars_tweets_20201019_20201020.pkl\")\n",
    "# tweets_201020.shape"
   ]
  },
  {
   "cell_type": "code",
   "execution_count": 13,
   "metadata": {
    "hidden": true
   },
   "outputs": [],
   "source": [
    "# tweets_df = pd.concat([tweets_0220_0121, tweets_0120_0221, tweets_1020, tweets_201020, tweets_011220_081220])\n",
    "# tweets_df.shape"
   ]
  },
  {
   "cell_type": "code",
   "execution_count": 14,
   "metadata": {
    "hidden": true
   },
   "outputs": [],
   "source": [
    "# tweets_df['created_at'] = pd.to_datetime(tweets_df['created_at'])"
   ]
  },
  {
   "cell_type": "code",
   "execution_count": 15,
   "metadata": {
    "hidden": true
   },
   "outputs": [],
   "source": [
    "# tweets_df.info()"
   ]
  },
  {
   "cell_type": "code",
   "execution_count": 16,
   "metadata": {
    "hidden": true
   },
   "outputs": [],
   "source": [
    "# tweets_df.to_pickle(\"./data/endsars_tweets_master_db.pkl\")"
   ]
  },
  {
   "cell_type": "code",
   "execution_count": 17,
   "metadata": {
    "hidden": true
   },
   "outputs": [],
   "source": [
    "# tweets_df = pd.read_pickle(\"./data/endsars_tweets_master_db.pkl\")\n",
    "# tweets_df.shape"
   ]
  },
  {
   "cell_type": "markdown",
   "metadata": {
    "hidden": true
   },
   "source": [
    "Make sure to save the tweets after this process, use a file format that won't comprimise the characters in tweets"
   ]
  },
  {
   "cell_type": "markdown",
   "metadata": {
    "heading_collapsed": true
   },
   "source": [
    "### Get User details"
   ]
  },
  {
   "cell_type": "code",
   "execution_count": 1,
   "metadata": {
    "hidden": true
   },
   "outputs": [],
   "source": [
    "# author_ids = list(tweets_df[~tweets_df.author_id.isnull()].author_id.unique())\n",
    "# len(author_ids)"
   ]
  },
  {
   "cell_type": "code",
   "execution_count": 2,
   "metadata": {
    "hidden": true
   },
   "outputs": [],
   "source": [
    "# c = 0\n",
    "# list_of_auth_ids = []\n",
    "# temp_list = []\n",
    "# for auth_id in author_ids:\n",
    "#     temp_list.append(auth_id)\n",
    "#     if len(temp_list) == 99:\n",
    "#         list_of_auth_ids.append(temp_list)\n",
    "#         temp_list = []\n",
    "# list_of_auth_ids.append(temp_list)"
   ]
  },
  {
   "cell_type": "code",
   "execution_count": 222,
   "metadata": {
    "hidden": true
   },
   "outputs": [
    {
     "data": {
      "text/html": [
       "<div>\n",
       "<style scoped>\n",
       "    .dataframe tbody tr th:only-of-type {\n",
       "        vertical-align: middle;\n",
       "    }\n",
       "\n",
       "    .dataframe tbody tr th {\n",
       "        vertical-align: top;\n",
       "    }\n",
       "\n",
       "    .dataframe thead th {\n",
       "        text-align: right;\n",
       "    }\n",
       "</style>\n",
       "<table border=\"1\" class=\"dataframe\">\n",
       "  <thead>\n",
       "    <tr style=\"text-align: right;\">\n",
       "      <th></th>\n",
       "      <th>verified</th>\n",
       "      <th>created_at</th>\n",
       "      <th>public_metrics</th>\n",
       "      <th>name</th>\n",
       "      <th>location</th>\n",
       "      <th>username</th>\n",
       "      <th>id</th>\n",
       "    </tr>\n",
       "  </thead>\n",
       "  <tbody>\n",
       "    <tr>\n",
       "      <th>0</th>\n",
       "      <td>False</td>\n",
       "      <td>2011-11-06T20:55:51.000Z</td>\n",
       "      <td>{'followers_count': 1287, 'following_count': 1...</td>\n",
       "      <td>Alexander</td>\n",
       "      <td>Lagos, Nigeria</td>\n",
       "      <td>xanderwayne</td>\n",
       "      <td>406533892</td>\n",
       "    </tr>\n",
       "    <tr>\n",
       "      <th>1</th>\n",
       "      <td>False</td>\n",
       "      <td>2014-10-28T18:33:01.000Z</td>\n",
       "      <td>{'followers_count': 224, 'following_count': 10...</td>\n",
       "      <td>Carrot Top</td>\n",
       "      <td>Lagos, Nigeria</td>\n",
       "      <td>carrotop_ds</td>\n",
       "      <td>2848603625</td>\n",
       "    </tr>\n",
       "    <tr>\n",
       "      <th>2</th>\n",
       "      <td>False</td>\n",
       "      <td>2018-01-05T09:47:27.000Z</td>\n",
       "      <td>{'followers_count': 384, 'following_count': 13...</td>\n",
       "      <td>kenny</td>\n",
       "      <td>Lagos, Nigeria</td>\n",
       "      <td>proudtwinnie</td>\n",
       "      <td>949215757988171776</td>\n",
       "    </tr>\n",
       "  </tbody>\n",
       "</table>\n",
       "</div>"
      ],
      "text/plain": [
       "   verified                created_at  \\\n",
       "0     False  2011-11-06T20:55:51.000Z   \n",
       "1     False  2014-10-28T18:33:01.000Z   \n",
       "2     False  2018-01-05T09:47:27.000Z   \n",
       "\n",
       "                                      public_metrics        name  \\\n",
       "0  {'followers_count': 1287, 'following_count': 1...   Alexander   \n",
       "1  {'followers_count': 224, 'following_count': 10...  Carrot Top   \n",
       "2  {'followers_count': 384, 'following_count': 13...       kenny   \n",
       "\n",
       "         location      username                  id  \n",
       "0  Lagos, Nigeria   xanderwayne           406533892  \n",
       "1  Lagos, Nigeria   carrotop_ds          2848603625  \n",
       "2  Lagos, Nigeria  proudtwinnie  949215757988171776  "
      ]
     },
     "execution_count": 222,
     "metadata": {},
     "output_type": "execute_result"
    }
   ],
   "source": [
    "get_user_details([['406533892','2848603625','949215757988171776']])"
   ]
  },
  {
   "cell_type": "code",
   "execution_count": 22,
   "metadata": {
    "hidden": true
   },
   "outputs": [
    {
     "data": {
      "text/plain": [
       "(112380, 7)"
      ]
     },
     "execution_count": 22,
     "metadata": {},
     "output_type": "execute_result"
    }
   ],
   "source": [
    "users_df = pd.read_pickle(\"./data/endsars_tweets_user_details.pkl\")\n",
    "users_df.shape"
   ]
  },
  {
   "cell_type": "code",
   "execution_count": 23,
   "metadata": {
    "hidden": true
   },
   "outputs": [
    {
     "data": {
      "text/plain": [
       "{'id': 'author_id',\n",
       " 'public_metrics': 'user_public_metrics',\n",
       " 'location': 'user_location',\n",
       " 'created_at': 'user_created_at',\n",
       " 'name': 'user_name',\n",
       " 'verified': 'user_verified'}"
      ]
     },
     "execution_count": 23,
     "metadata": {},
     "output_type": "execute_result"
    }
   ],
   "source": [
    "cols_rename = {'id': 'author_id'}\n",
    "cols_rename.update({col: f\"user_{col}\" for col in ['public_metrics', 'location', 'created_at', 'name', 'verified']})\n",
    "cols_rename"
   ]
  },
  {
   "cell_type": "code",
   "execution_count": 24,
   "metadata": {
    "hidden": true
   },
   "outputs": [],
   "source": [
    "users_df.rename(columns=cols_rename, inplace=True)"
   ]
  },
  {
   "cell_type": "code",
   "execution_count": 25,
   "metadata": {
    "hidden": true
   },
   "outputs": [
    {
     "data": {
      "text/html": [
       "<div>\n",
       "<style scoped>\n",
       "    .dataframe tbody tr th:only-of-type {\n",
       "        vertical-align: middle;\n",
       "    }\n",
       "\n",
       "    .dataframe tbody tr th {\n",
       "        vertical-align: top;\n",
       "    }\n",
       "\n",
       "    .dataframe thead th {\n",
       "        text-align: right;\n",
       "    }\n",
       "</style>\n",
       "<table border=\"1\" class=\"dataframe\">\n",
       "  <thead>\n",
       "    <tr style=\"text-align: right;\">\n",
       "      <th></th>\n",
       "      <th>user_public_metrics</th>\n",
       "      <th>author_id</th>\n",
       "      <th>user_location</th>\n",
       "      <th>user_created_at</th>\n",
       "      <th>user_name</th>\n",
       "      <th>username</th>\n",
       "      <th>user_verified</th>\n",
       "    </tr>\n",
       "  </thead>\n",
       "  <tbody>\n",
       "    <tr>\n",
       "      <th>0</th>\n",
       "      <td>{'followers_count': 1288, 'following_count': 1...</td>\n",
       "      <td>406533892</td>\n",
       "      <td>Lagos, Nigeria</td>\n",
       "      <td>2011-11-06T20:55:51.000Z</td>\n",
       "      <td>Alexander</td>\n",
       "      <td>xanderwayne</td>\n",
       "      <td>False</td>\n",
       "    </tr>\n",
       "    <tr>\n",
       "      <th>1</th>\n",
       "      <td>{'followers_count': 224, 'following_count': 10...</td>\n",
       "      <td>2848603625</td>\n",
       "      <td>Lagos, Nigeria</td>\n",
       "      <td>2014-10-28T18:33:01.000Z</td>\n",
       "      <td>Carrot Top</td>\n",
       "      <td>carrotop_ds</td>\n",
       "      <td>False</td>\n",
       "    </tr>\n",
       "    <tr>\n",
       "      <th>2</th>\n",
       "      <td>{'followers_count': 384, 'following_count': 13...</td>\n",
       "      <td>949215757988171776</td>\n",
       "      <td>Lagos, Nigeria</td>\n",
       "      <td>2018-01-05T09:47:27.000Z</td>\n",
       "      <td>kenny</td>\n",
       "      <td>proudtwinnie</td>\n",
       "      <td>False</td>\n",
       "    </tr>\n",
       "    <tr>\n",
       "      <th>3</th>\n",
       "      <td>{'followers_count': 647, 'following_count': 13...</td>\n",
       "      <td>3062901987</td>\n",
       "      <td>Ilorin, Nigeria</td>\n",
       "      <td>2015-02-25T18:46:16.000Z</td>\n",
       "      <td>A.A: ELDORADO</td>\n",
       "      <td>Eldorado4eva</td>\n",
       "      <td>False</td>\n",
       "    </tr>\n",
       "    <tr>\n",
       "      <th>4</th>\n",
       "      <td>{'followers_count': 1173, 'following_count': 9...</td>\n",
       "      <td>1081991545497284608</td>\n",
       "      <td>NaN</td>\n",
       "      <td>2019-01-06T19:11:01.000Z</td>\n",
       "      <td>Florence Ade Bimpe👑</td>\n",
       "      <td>Flobim1</td>\n",
       "      <td>False</td>\n",
       "    </tr>\n",
       "  </tbody>\n",
       "</table>\n",
       "</div>"
      ],
      "text/plain": [
       "                                 user_public_metrics            author_id  \\\n",
       "0  {'followers_count': 1288, 'following_count': 1...            406533892   \n",
       "1  {'followers_count': 224, 'following_count': 10...           2848603625   \n",
       "2  {'followers_count': 384, 'following_count': 13...   949215757988171776   \n",
       "3  {'followers_count': 647, 'following_count': 13...           3062901987   \n",
       "4  {'followers_count': 1173, 'following_count': 9...  1081991545497284608   \n",
       "\n",
       "     user_location           user_created_at            user_name  \\\n",
       "0   Lagos, Nigeria  2011-11-06T20:55:51.000Z            Alexander   \n",
       "1   Lagos, Nigeria  2014-10-28T18:33:01.000Z           Carrot Top   \n",
       "2   Lagos, Nigeria  2018-01-05T09:47:27.000Z                kenny   \n",
       "3  Ilorin, Nigeria  2015-02-25T18:46:16.000Z        A.A: ELDORADO   \n",
       "4              NaN  2019-01-06T19:11:01.000Z  Florence Ade Bimpe👑   \n",
       "\n",
       "       username  user_verified  \n",
       "0   xanderwayne          False  \n",
       "1   carrotop_ds          False  \n",
       "2  proudtwinnie          False  \n",
       "3  Eldorado4eva          False  \n",
       "4       Flobim1          False  "
      ]
     },
     "execution_count": 25,
     "metadata": {},
     "output_type": "execute_result"
    }
   ],
   "source": [
    "users_df.head()"
   ]
  },
  {
   "cell_type": "markdown",
   "metadata": {
    "heading_collapsed": true
   },
   "source": [
    "### Join Dataframes"
   ]
  },
  {
   "cell_type": "code",
   "execution_count": 26,
   "metadata": {
    "hidden": true
   },
   "outputs": [
    {
     "data": {
      "text/plain": [
       "(288358, 23)"
      ]
     },
     "execution_count": 26,
     "metadata": {},
     "output_type": "execute_result"
    }
   ],
   "source": [
    "tweets_df = tweets_df.merge(users_df, on='author_id', how='left')\n",
    "tweets_df.shape"
   ]
  },
  {
   "cell_type": "code",
   "execution_count": 27,
   "metadata": {
    "hidden": true
   },
   "outputs": [
    {
     "data": {
      "text/html": [
       "<div>\n",
       "<style scoped>\n",
       "    .dataframe tbody tr th:only-of-type {\n",
       "        vertical-align: middle;\n",
       "    }\n",
       "\n",
       "    .dataframe tbody tr th {\n",
       "        vertical-align: top;\n",
       "    }\n",
       "\n",
       "    .dataframe thead th {\n",
       "        text-align: right;\n",
       "    }\n",
       "</style>\n",
       "<table border=\"1\" class=\"dataframe\">\n",
       "  <thead>\n",
       "    <tr style=\"text-align: right;\">\n",
       "      <th></th>\n",
       "      <th>id</th>\n",
       "      <th>author_id</th>\n",
       "      <th>text</th>\n",
       "      <th>created_at</th>\n",
       "      <th>entities</th>\n",
       "      <th>public_metrics</th>\n",
       "      <th>referenced_tweets</th>\n",
       "      <th>in_reply_to_user_id</th>\n",
       "      <th>geo</th>\n",
       "      <th>users</th>\n",
       "      <th>tweets</th>\n",
       "      <th>places</th>\n",
       "      <th>newest_id</th>\n",
       "      <th>oldest_id</th>\n",
       "      <th>result_count</th>\n",
       "      <th>next_token</th>\n",
       "      <th>withheld</th>\n",
       "      <th>user_public_metrics</th>\n",
       "      <th>user_location</th>\n",
       "      <th>user_created_at</th>\n",
       "      <th>user_name</th>\n",
       "      <th>username</th>\n",
       "      <th>user_verified</th>\n",
       "    </tr>\n",
       "  </thead>\n",
       "  <tbody>\n",
       "    <tr>\n",
       "      <th>0</th>\n",
       "      <td>1225932212933144581</td>\n",
       "      <td>406533892</td>\n",
       "      <td>RT @bbcnewspidgin: Victor, Ifeanyi &amp;amp; Osaze...</td>\n",
       "      <td>2020-02-07 23:59:50+00:00</td>\n",
       "      <td>{'mentions': [{'start': 3, 'end': 17, 'usernam...</td>\n",
       "      <td>{'retweet_count': 2097, 'reply_count': 0, 'lik...</td>\n",
       "      <td>[{'type': 'retweeted', 'id': '1225671357100199...</td>\n",
       "      <td>NaN</td>\n",
       "      <td>NaN</td>\n",
       "      <td>NaN</td>\n",
       "      <td>NaN</td>\n",
       "      <td>NaN</td>\n",
       "      <td>NaN</td>\n",
       "      <td>NaN</td>\n",
       "      <td>NaN</td>\n",
       "      <td>NaN</td>\n",
       "      <td>NaN</td>\n",
       "      <td>{'followers_count': 1288, 'following_count': 1...</td>\n",
       "      <td>Lagos, Nigeria</td>\n",
       "      <td>2011-11-06T20:55:51.000Z</td>\n",
       "      <td>Alexander</td>\n",
       "      <td>xanderwayne</td>\n",
       "      <td>False</td>\n",
       "    </tr>\n",
       "    <tr>\n",
       "      <th>1</th>\n",
       "      <td>1225932207711281152</td>\n",
       "      <td>2848603625</td>\n",
       "      <td>Even God love dreads that was why he gave sams...</td>\n",
       "      <td>2020-02-07 23:59:49+00:00</td>\n",
       "      <td>{'hashtags': [{'start': 112, 'end': 120, 'tag'...</td>\n",
       "      <td>{'retweet_count': 0, 'reply_count': 0, 'like_c...</td>\n",
       "      <td>NaN</td>\n",
       "      <td>NaN</td>\n",
       "      <td>NaN</td>\n",
       "      <td>NaN</td>\n",
       "      <td>NaN</td>\n",
       "      <td>NaN</td>\n",
       "      <td>NaN</td>\n",
       "      <td>NaN</td>\n",
       "      <td>NaN</td>\n",
       "      <td>NaN</td>\n",
       "      <td>NaN</td>\n",
       "      <td>{'followers_count': 224, 'following_count': 10...</td>\n",
       "      <td>Lagos, Nigeria</td>\n",
       "      <td>2014-10-28T18:33:01.000Z</td>\n",
       "      <td>Carrot Top</td>\n",
       "      <td>carrotop_ds</td>\n",
       "      <td>False</td>\n",
       "    </tr>\n",
       "    <tr>\n",
       "      <th>2</th>\n",
       "      <td>1225932128002678792</td>\n",
       "      <td>949215757988171776</td>\n",
       "      <td>RT @bbcnewspidgin: Victor, Ifeanyi &amp;amp; Osaze...</td>\n",
       "      <td>2020-02-07 23:59:30+00:00</td>\n",
       "      <td>{'mentions': [{'start': 3, 'end': 17, 'usernam...</td>\n",
       "      <td>{'retweet_count': 2097, 'reply_count': 0, 'lik...</td>\n",
       "      <td>[{'type': 'retweeted', 'id': '1225671357100199...</td>\n",
       "      <td>NaN</td>\n",
       "      <td>NaN</td>\n",
       "      <td>NaN</td>\n",
       "      <td>NaN</td>\n",
       "      <td>NaN</td>\n",
       "      <td>NaN</td>\n",
       "      <td>NaN</td>\n",
       "      <td>NaN</td>\n",
       "      <td>NaN</td>\n",
       "      <td>NaN</td>\n",
       "      <td>{'followers_count': 384, 'following_count': 13...</td>\n",
       "      <td>Lagos, Nigeria</td>\n",
       "      <td>2018-01-05T09:47:27.000Z</td>\n",
       "      <td>kenny</td>\n",
       "      <td>proudtwinnie</td>\n",
       "      <td>False</td>\n",
       "    </tr>\n",
       "    <tr>\n",
       "      <th>3</th>\n",
       "      <td>1225932101926707200</td>\n",
       "      <td>3062901987</td>\n",
       "      <td>RT @bbcnewspidgin: Victor, Ifeanyi &amp;amp; Osaze...</td>\n",
       "      <td>2020-02-07 23:59:24+00:00</td>\n",
       "      <td>{'mentions': [{'start': 3, 'end': 17, 'usernam...</td>\n",
       "      <td>{'retweet_count': 2097, 'reply_count': 0, 'lik...</td>\n",
       "      <td>[{'type': 'retweeted', 'id': '1225671357100199...</td>\n",
       "      <td>NaN</td>\n",
       "      <td>NaN</td>\n",
       "      <td>NaN</td>\n",
       "      <td>NaN</td>\n",
       "      <td>NaN</td>\n",
       "      <td>NaN</td>\n",
       "      <td>NaN</td>\n",
       "      <td>NaN</td>\n",
       "      <td>NaN</td>\n",
       "      <td>NaN</td>\n",
       "      <td>{'followers_count': 647, 'following_count': 13...</td>\n",
       "      <td>Ilorin, Nigeria</td>\n",
       "      <td>2015-02-25T18:46:16.000Z</td>\n",
       "      <td>A.A: ELDORADO</td>\n",
       "      <td>Eldorado4eva</td>\n",
       "      <td>False</td>\n",
       "    </tr>\n",
       "    <tr>\n",
       "      <th>4</th>\n",
       "      <td>1225932076735700992</td>\n",
       "      <td>1081991545497284608</td>\n",
       "      <td>RT @bbcnewspidgin: Victor, Ifeanyi &amp;amp; Osaze...</td>\n",
       "      <td>2020-02-07 23:59:18+00:00</td>\n",
       "      <td>{'mentions': [{'start': 3, 'end': 17, 'usernam...</td>\n",
       "      <td>{'retweet_count': 2097, 'reply_count': 0, 'lik...</td>\n",
       "      <td>[{'type': 'retweeted', 'id': '1225671357100199...</td>\n",
       "      <td>NaN</td>\n",
       "      <td>NaN</td>\n",
       "      <td>NaN</td>\n",
       "      <td>NaN</td>\n",
       "      <td>NaN</td>\n",
       "      <td>NaN</td>\n",
       "      <td>NaN</td>\n",
       "      <td>NaN</td>\n",
       "      <td>NaN</td>\n",
       "      <td>NaN</td>\n",
       "      <td>{'followers_count': 1173, 'following_count': 9...</td>\n",
       "      <td>NaN</td>\n",
       "      <td>2019-01-06T19:11:01.000Z</td>\n",
       "      <td>Florence Ade Bimpe👑</td>\n",
       "      <td>Flobim1</td>\n",
       "      <td>False</td>\n",
       "    </tr>\n",
       "  </tbody>\n",
       "</table>\n",
       "</div>"
      ],
      "text/plain": [
       "                    id            author_id  \\\n",
       "0  1225932212933144581            406533892   \n",
       "1  1225932207711281152           2848603625   \n",
       "2  1225932128002678792   949215757988171776   \n",
       "3  1225932101926707200           3062901987   \n",
       "4  1225932076735700992  1081991545497284608   \n",
       "\n",
       "                                                text  \\\n",
       "0  RT @bbcnewspidgin: Victor, Ifeanyi &amp; Osaze...   \n",
       "1  Even God love dreads that was why he gave sams...   \n",
       "2  RT @bbcnewspidgin: Victor, Ifeanyi &amp; Osaze...   \n",
       "3  RT @bbcnewspidgin: Victor, Ifeanyi &amp; Osaze...   \n",
       "4  RT @bbcnewspidgin: Victor, Ifeanyi &amp; Osaze...   \n",
       "\n",
       "                 created_at  \\\n",
       "0 2020-02-07 23:59:50+00:00   \n",
       "1 2020-02-07 23:59:49+00:00   \n",
       "2 2020-02-07 23:59:30+00:00   \n",
       "3 2020-02-07 23:59:24+00:00   \n",
       "4 2020-02-07 23:59:18+00:00   \n",
       "\n",
       "                                            entities  \\\n",
       "0  {'mentions': [{'start': 3, 'end': 17, 'usernam...   \n",
       "1  {'hashtags': [{'start': 112, 'end': 120, 'tag'...   \n",
       "2  {'mentions': [{'start': 3, 'end': 17, 'usernam...   \n",
       "3  {'mentions': [{'start': 3, 'end': 17, 'usernam...   \n",
       "4  {'mentions': [{'start': 3, 'end': 17, 'usernam...   \n",
       "\n",
       "                                      public_metrics  \\\n",
       "0  {'retweet_count': 2097, 'reply_count': 0, 'lik...   \n",
       "1  {'retweet_count': 0, 'reply_count': 0, 'like_c...   \n",
       "2  {'retweet_count': 2097, 'reply_count': 0, 'lik...   \n",
       "3  {'retweet_count': 2097, 'reply_count': 0, 'lik...   \n",
       "4  {'retweet_count': 2097, 'reply_count': 0, 'lik...   \n",
       "\n",
       "                                   referenced_tweets in_reply_to_user_id  geo  \\\n",
       "0  [{'type': 'retweeted', 'id': '1225671357100199...                 NaN  NaN   \n",
       "1                                                NaN                 NaN  NaN   \n",
       "2  [{'type': 'retweeted', 'id': '1225671357100199...                 NaN  NaN   \n",
       "3  [{'type': 'retweeted', 'id': '1225671357100199...                 NaN  NaN   \n",
       "4  [{'type': 'retweeted', 'id': '1225671357100199...                 NaN  NaN   \n",
       "\n",
       "  users tweets places newest_id oldest_id  result_count next_token withheld  \\\n",
       "0   NaN    NaN    NaN       NaN       NaN           NaN        NaN      NaN   \n",
       "1   NaN    NaN    NaN       NaN       NaN           NaN        NaN      NaN   \n",
       "2   NaN    NaN    NaN       NaN       NaN           NaN        NaN      NaN   \n",
       "3   NaN    NaN    NaN       NaN       NaN           NaN        NaN      NaN   \n",
       "4   NaN    NaN    NaN       NaN       NaN           NaN        NaN      NaN   \n",
       "\n",
       "                                 user_public_metrics    user_location  \\\n",
       "0  {'followers_count': 1288, 'following_count': 1...   Lagos, Nigeria   \n",
       "1  {'followers_count': 224, 'following_count': 10...   Lagos, Nigeria   \n",
       "2  {'followers_count': 384, 'following_count': 13...   Lagos, Nigeria   \n",
       "3  {'followers_count': 647, 'following_count': 13...  Ilorin, Nigeria   \n",
       "4  {'followers_count': 1173, 'following_count': 9...              NaN   \n",
       "\n",
       "            user_created_at            user_name      username user_verified  \n",
       "0  2011-11-06T20:55:51.000Z            Alexander   xanderwayne         False  \n",
       "1  2014-10-28T18:33:01.000Z           Carrot Top   carrotop_ds         False  \n",
       "2  2018-01-05T09:47:27.000Z                kenny  proudtwinnie         False  \n",
       "3  2015-02-25T18:46:16.000Z        A.A: ELDORADO  Eldorado4eva         False  \n",
       "4  2019-01-06T19:11:01.000Z  Florence Ade Bimpe👑       Flobim1         False  "
      ]
     },
     "execution_count": 27,
     "metadata": {},
     "output_type": "execute_result"
    }
   ],
   "source": [
    "tweets_df.head()"
   ]
  },
  {
   "cell_type": "code",
   "execution_count": 29,
   "metadata": {
    "hidden": true
   },
   "outputs": [
    {
     "name": "stdout",
     "output_type": "stream",
     "text": [
      "<class 'pandas.core.frame.DataFrame'>\n",
      "Int64Index: 288358 entries, 0 to 288357\n",
      "Data columns (total 23 columns):\n",
      " #   Column               Non-Null Count   Dtype              \n",
      "---  ------               --------------   -----              \n",
      " 0   id                   282330 non-null  object             \n",
      " 1   author_id            282330 non-null  object             \n",
      " 2   text                 282330 non-null  object             \n",
      " 3   created_at           282330 non-null  datetime64[ns, UTC]\n",
      " 4   entities             280690 non-null  object             \n",
      " 5   public_metrics       282330 non-null  object             \n",
      " 6   referenced_tweets    266609 non-null  object             \n",
      " 7   in_reply_to_user_id  11115 non-null   object             \n",
      " 8   geo                  1001 non-null    object             \n",
      " 9   users                3014 non-null    object             \n",
      " 10  tweets               3014 non-null    object             \n",
      " 11  places               751 non-null     object             \n",
      " 12  newest_id            3014 non-null    object             \n",
      " 13  oldest_id            3014 non-null    object             \n",
      " 14  result_count         3014 non-null    float64            \n",
      " 15  next_token           2986 non-null    object             \n",
      " 16  withheld             4 non-null       object             \n",
      " 17  user_public_metrics  282052 non-null  object             \n",
      " 18  user_location        206040 non-null  object             \n",
      " 19  user_created_at      282052 non-null  object             \n",
      " 20  user_name            282052 non-null  object             \n",
      " 21  username             282052 non-null  object             \n",
      " 22  user_verified        282052 non-null  object             \n",
      "dtypes: datetime64[ns, UTC](1), float64(1), object(21)\n",
      "memory usage: 52.8+ MB\n"
     ]
    }
   ],
   "source": [
    "tweets_df.info()"
   ]
  },
  {
   "cell_type": "code",
   "execution_count": 55,
   "metadata": {
    "hidden": true
   },
   "outputs": [],
   "source": [
    "tweets_df.to_pickle(\"./data/endsars_tweets_master_db.pkl\")"
   ]
  },
  {
   "cell_type": "code",
   "execution_count": 1,
   "metadata": {
    "hidden": true
   },
   "outputs": [
    {
     "ename": "NameError",
     "evalue": "name 'pd' is not defined",
     "output_type": "error",
     "traceback": [
      "\u001b[0;31m---------------------------------------------------------------------------\u001b[0m",
      "\u001b[0;31mNameError\u001b[0m                                 Traceback (most recent call last)",
      "\u001b[0;32m<ipython-input-1-5db68273ead4>\u001b[0m in \u001b[0;36m<module>\u001b[0;34m\u001b[0m\n\u001b[0;32m----> 1\u001b[0;31m \u001b[0mtweets_df\u001b[0m \u001b[0;34m=\u001b[0m \u001b[0mpd\u001b[0m\u001b[0;34m.\u001b[0m\u001b[0mread_pickle\u001b[0m\u001b[0;34m(\u001b[0m\u001b[0;34m\"./data/endsars_tweets_master_db.pkl\"\u001b[0m\u001b[0;34m)\u001b[0m\u001b[0;34m\u001b[0m\u001b[0;34m\u001b[0m\u001b[0m\n\u001b[0m\u001b[1;32m      2\u001b[0m \u001b[0mtweets_df\u001b[0m\u001b[0;34m.\u001b[0m\u001b[0mshape\u001b[0m\u001b[0;34m\u001b[0m\u001b[0;34m\u001b[0m\u001b[0m\n",
      "\u001b[0;31mNameError\u001b[0m: name 'pd' is not defined"
     ]
    }
   ],
   "source": [
    "tweets_df = pd.read_pickle(\"./data/endsars_tweets_master_db.pkl\")\n",
    "tweets_df.shape"
   ]
  },
  {
   "cell_type": "code",
   "execution_count": 57,
   "metadata": {
    "hidden": true
   },
   "outputs": [],
   "source": [
    "tweets_df['created_at'] = pd.to_datetime(tweets_df['created_at'])"
   ]
  },
  {
   "cell_type": "code",
   "execution_count": 58,
   "metadata": {
    "hidden": true
   },
   "outputs": [
    {
     "data": {
      "text/plain": [
       "created_at\n",
       "2020-01-05 00:00:00+00:00      914\n",
       "2020-01-12 00:00:00+00:00     4596\n",
       "2020-01-19 00:00:00+00:00     2267\n",
       "2020-01-26 00:00:00+00:00     2351\n",
       "2020-02-02 00:00:00+00:00      517\n",
       "2020-02-09 00:00:00+00:00     6722\n",
       "2020-02-16 00:00:00+00:00      797\n",
       "2020-02-23 00:00:00+00:00     5000\n",
       "2020-03-01 00:00:00+00:00     6796\n",
       "2020-03-08 00:00:00+00:00     6631\n",
       "2020-03-15 00:00:00+00:00     1030\n",
       "2020-03-22 00:00:00+00:00      680\n",
       "2020-03-29 00:00:00+00:00      407\n",
       "2020-04-05 00:00:00+00:00     2147\n",
       "2020-04-12 00:00:00+00:00     3613\n",
       "2020-04-19 00:00:00+00:00     2493\n",
       "2020-04-26 00:00:00+00:00     1635\n",
       "2020-05-03 00:00:00+00:00      434\n",
       "2020-05-10 00:00:00+00:00      463\n",
       "2020-05-17 00:00:00+00:00     4614\n",
       "2020-05-24 00:00:00+00:00      722\n",
       "2020-05-31 00:00:00+00:00     2070\n",
       "2020-06-07 00:00:00+00:00     2803\n",
       "2020-06-14 00:00:00+00:00      769\n",
       "2020-06-21 00:00:00+00:00     2473\n",
       "2020-06-28 00:00:00+00:00     5000\n",
       "2020-07-05 00:00:00+00:00     7225\n",
       "2020-07-12 00:00:00+00:00     4502\n",
       "2020-07-19 00:00:00+00:00     5673\n",
       "2020-07-26 00:00:00+00:00     1147\n",
       "2020-08-02 00:00:00+00:00      864\n",
       "2020-08-09 00:00:00+00:00      895\n",
       "2020-08-16 00:00:00+00:00     2543\n",
       "2020-08-23 00:00:00+00:00      661\n",
       "2020-08-30 00:00:00+00:00     1022\n",
       "2020-09-06 00:00:00+00:00     2369\n",
       "2020-09-13 00:00:00+00:00      294\n",
       "2020-09-20 00:00:00+00:00    30000\n",
       "2020-09-27 00:00:00+00:00    16394\n",
       "2020-10-04 00:00:00+00:00     6955\n",
       "2020-10-11 00:00:00+00:00    15000\n",
       "2020-10-18 00:00:00+00:00    15000\n",
       "2020-10-25 00:00:00+00:00    45000\n",
       "2020-11-01 00:00:00+00:00    15000\n",
       "2020-11-08 00:00:00+00:00    15000\n",
       "2020-11-15 00:00:00+00:00        0\n",
       "2020-11-22 00:00:00+00:00        0\n",
       "2020-11-29 00:00:00+00:00        0\n",
       "2020-12-06 00:00:00+00:00        0\n",
       "2020-12-13 00:00:00+00:00    15000\n",
       "2020-12-20 00:00:00+00:00    15000\n",
       "2020-12-27 00:00:00+00:00     5000\n",
       "2021-01-03 00:00:00+00:00     5000\n",
       "2021-01-10 00:00:00+00:00    10000\n",
       "2021-01-17 00:00:00+00:00     5000\n",
       "2021-01-24 00:00:00+00:00     5000\n",
       "2021-01-31 00:00:00+00:00     5000\n",
       "2021-02-07 00:00:00+00:00    10000\n",
       "2021-02-14 00:00:00+00:00     5000\n",
       "2021-02-21 00:00:00+00:00     5000\n",
       "2021-02-28 00:00:00+00:00     5000\n",
       "dtype: int64"
      ]
     },
     "execution_count": 58,
     "metadata": {},
     "output_type": "execute_result"
    }
   ],
   "source": [
    "tweets_df.groupby([pd.Grouper(key='created_at', freq='W')]).size()"
   ]
  },
  {
   "cell_type": "markdown",
   "metadata": {},
   "source": [
    "### Clean dataset"
   ]
  },
  {
   "cell_type": "code",
   "execution_count": null,
   "metadata": {},
   "outputs": [],
   "source": [
    "def delete_duplicates(df, str_len=25):\n",
    "    \"\"\"\n",
    "    Create a function that looks at the tweets in the tweets dataframe and other characters and delete \n",
    "    duplicates as sometimes we can get duplicate data/tweets. For example if I tweet something and someone else\n",
    "    retweets it then this could possibly be a duplicate. Is this useful information? You need to decide of course.\n",
    "    \"\"\"\n",
    "\n",
    "def preprocess_tweet(tweet):\n",
    "    \"\"\"\n",
    "    Create a function that preprocess the text in a single tweet. Suggestions for this function are:\n",
    "    - correct all multiple white spaces to a single white space\n",
    "    - convert all urls to string \"URL\"\n",
    "    - if the username isn't relevant then convert @username to \"AT_USER\"\n",
    "    - converts emoji's to text description of the emoji\n",
    "    \"\"\""
   ]
  },
  {
   "cell_type": "code",
   "execution_count": null,
   "metadata": {
    "scrolled": true
   },
   "outputs": [],
   "source": [
    "tweets_df = delete_duplicates(tweets_to_analyse)\n",
    "tweets_df.reset_index(inplace=True, drop=True)\n",
    "tweets_df['text_clean'] = tweets_df['text'].apply(preprocess_tweet)"
   ]
  },
  {
   "cell_type": "code",
   "execution_count": 2,
   "metadata": {},
   "outputs": [
    {
     "data": {
      "text/plain": [
       "(418624, 37)"
      ]
     },
     "execution_count": 2,
     "metadata": {},
     "output_type": "execute_result"
    }
   ],
   "source": [
    "tweets_df = pd.read_pickle(\"./data/endsars_tweets_master_clean_data.pkl\")\n",
    "tweets_df.shape"
   ]
  },
  {
   "cell_type": "code",
   "execution_count": 3,
   "metadata": {},
   "outputs": [],
   "source": [
    "tweets_df.reset_index(drop=True, inplace=True)"
   ]
  },
  {
   "cell_type": "code",
   "execution_count": 4,
   "metadata": {},
   "outputs": [
    {
     "data": {
      "text/html": [
       "<div>\n",
       "<style scoped>\n",
       "    .dataframe tbody tr th:only-of-type {\n",
       "        vertical-align: middle;\n",
       "    }\n",
       "\n",
       "    .dataframe tbody tr th {\n",
       "        vertical-align: top;\n",
       "    }\n",
       "\n",
       "    .dataframe thead th {\n",
       "        text-align: right;\n",
       "    }\n",
       "</style>\n",
       "<table border=\"1\" class=\"dataframe\">\n",
       "  <thead>\n",
       "    <tr style=\"text-align: right;\">\n",
       "      <th></th>\n",
       "      <th>id</th>\n",
       "      <th>author_id</th>\n",
       "      <th>text</th>\n",
       "      <th>created_at</th>\n",
       "      <th>entities</th>\n",
       "      <th>public_metrics</th>\n",
       "      <th>referenced_tweets</th>\n",
       "      <th>in_reply_to_user_id</th>\n",
       "      <th>geo</th>\n",
       "      <th>users</th>\n",
       "      <th>tweets</th>\n",
       "      <th>places</th>\n",
       "      <th>newest_id</th>\n",
       "      <th>oldest_id</th>\n",
       "      <th>result_count</th>\n",
       "      <th>next_token</th>\n",
       "      <th>withheld</th>\n",
       "      <th>user_public_metrics</th>\n",
       "      <th>user_location</th>\n",
       "      <th>user_created_at</th>\n",
       "      <th>user_name</th>\n",
       "      <th>username</th>\n",
       "      <th>user_verified</th>\n",
       "      <th>possibly_sensitive</th>\n",
       "      <th>context_annotations</th>\n",
       "      <th>reply_count</th>\n",
       "      <th>user_reply_count</th>\n",
       "      <th>like_count</th>\n",
       "      <th>user_like_count</th>\n",
       "      <th>quote_count</th>\n",
       "      <th>user_quote_count</th>\n",
       "      <th>retweet_count</th>\n",
       "      <th>user_retweet_count</th>\n",
       "      <th>hashtags</th>\n",
       "      <th>state</th>\n",
       "      <th>country</th>\n",
       "      <th>mentions</th>\n",
       "    </tr>\n",
       "  </thead>\n",
       "  <tbody>\n",
       "    <tr>\n",
       "      <th>0</th>\n",
       "      <td>1225932212933144581</td>\n",
       "      <td>406533892</td>\n",
       "      <td>RT @bbcnewspidgin: Victor, Ifeanyi &amp;amp; Osaze...</td>\n",
       "      <td>2020-02-07 23:59:50+00:00</td>\n",
       "      <td>{'mentions': [{'start': 3, 'end': 17, 'usernam...</td>\n",
       "      <td>{'retweet_count': 2097, 'reply_count': 0, 'lik...</td>\n",
       "      <td>[{'type': 'retweeted', 'id': '1225671357100199...</td>\n",
       "      <td>NaN</td>\n",
       "      <td>NaN</td>\n",
       "      <td>NaN</td>\n",
       "      <td>NaN</td>\n",
       "      <td>NaN</td>\n",
       "      <td>NaN</td>\n",
       "      <td>NaN</td>\n",
       "      <td>NaN</td>\n",
       "      <td>NaN</td>\n",
       "      <td>NaN</td>\n",
       "      <td>{'followers_count': 1288, 'following_count': 1...</td>\n",
       "      <td>Lagos, Nigeria</td>\n",
       "      <td>2011-11-06T20:55:51.000Z</td>\n",
       "      <td>Alexander</td>\n",
       "      <td>xanderwayne</td>\n",
       "      <td>False</td>\n",
       "      <td>NaN</td>\n",
       "      <td>NaN</td>\n",
       "      <td>0.0</td>\n",
       "      <td>None</td>\n",
       "      <td>0.0</td>\n",
       "      <td>None</td>\n",
       "      <td>0.0</td>\n",
       "      <td>None</td>\n",
       "      <td>2097.0</td>\n",
       "      <td>None</td>\n",
       "      <td>[]</td>\n",
       "      <td>None</td>\n",
       "      <td>None</td>\n",
       "      <td>[bbcnewspidgin]</td>\n",
       "    </tr>\n",
       "    <tr>\n",
       "      <th>1</th>\n",
       "      <td>1225932207711281152</td>\n",
       "      <td>2848603625</td>\n",
       "      <td>Even God love dreads that was why he gave sams...</td>\n",
       "      <td>2020-02-07 23:59:49+00:00</td>\n",
       "      <td>{'hashtags': [{'start': 112, 'end': 120, 'tag'...</td>\n",
       "      <td>{'retweet_count': 0, 'reply_count': 0, 'like_c...</td>\n",
       "      <td>NaN</td>\n",
       "      <td>NaN</td>\n",
       "      <td>NaN</td>\n",
       "      <td>NaN</td>\n",
       "      <td>NaN</td>\n",
       "      <td>NaN</td>\n",
       "      <td>NaN</td>\n",
       "      <td>NaN</td>\n",
       "      <td>NaN</td>\n",
       "      <td>NaN</td>\n",
       "      <td>NaN</td>\n",
       "      <td>{'followers_count': 224, 'following_count': 10...</td>\n",
       "      <td>Lagos, Nigeria</td>\n",
       "      <td>2014-10-28T18:33:01.000Z</td>\n",
       "      <td>Carrot Top</td>\n",
       "      <td>carrotop_ds</td>\n",
       "      <td>False</td>\n",
       "      <td>NaN</td>\n",
       "      <td>NaN</td>\n",
       "      <td>0.0</td>\n",
       "      <td>None</td>\n",
       "      <td>0.0</td>\n",
       "      <td>None</td>\n",
       "      <td>0.0</td>\n",
       "      <td>None</td>\n",
       "      <td>0.0</td>\n",
       "      <td>None</td>\n",
       "      <td>[EndSARS]</td>\n",
       "      <td>None</td>\n",
       "      <td>None</td>\n",
       "      <td>None</td>\n",
       "    </tr>\n",
       "    <tr>\n",
       "      <th>2</th>\n",
       "      <td>1225932128002678792</td>\n",
       "      <td>949215757988171776</td>\n",
       "      <td>RT @bbcnewspidgin: Victor, Ifeanyi &amp;amp; Osaze...</td>\n",
       "      <td>2020-02-07 23:59:30+00:00</td>\n",
       "      <td>{'mentions': [{'start': 3, 'end': 17, 'usernam...</td>\n",
       "      <td>{'retweet_count': 2097, 'reply_count': 0, 'lik...</td>\n",
       "      <td>[{'type': 'retweeted', 'id': '1225671357100199...</td>\n",
       "      <td>NaN</td>\n",
       "      <td>NaN</td>\n",
       "      <td>NaN</td>\n",
       "      <td>NaN</td>\n",
       "      <td>NaN</td>\n",
       "      <td>NaN</td>\n",
       "      <td>NaN</td>\n",
       "      <td>NaN</td>\n",
       "      <td>NaN</td>\n",
       "      <td>NaN</td>\n",
       "      <td>{'followers_count': 384, 'following_count': 13...</td>\n",
       "      <td>Lagos, Nigeria</td>\n",
       "      <td>2018-01-05T09:47:27.000Z</td>\n",
       "      <td>kenny</td>\n",
       "      <td>proudtwinnie</td>\n",
       "      <td>False</td>\n",
       "      <td>NaN</td>\n",
       "      <td>NaN</td>\n",
       "      <td>0.0</td>\n",
       "      <td>None</td>\n",
       "      <td>0.0</td>\n",
       "      <td>None</td>\n",
       "      <td>0.0</td>\n",
       "      <td>None</td>\n",
       "      <td>2097.0</td>\n",
       "      <td>None</td>\n",
       "      <td>[]</td>\n",
       "      <td>None</td>\n",
       "      <td>None</td>\n",
       "      <td>[bbcnewspidgin]</td>\n",
       "    </tr>\n",
       "    <tr>\n",
       "      <th>3</th>\n",
       "      <td>1225932101926707200</td>\n",
       "      <td>3062901987</td>\n",
       "      <td>RT @bbcnewspidgin: Victor, Ifeanyi &amp;amp; Osaze...</td>\n",
       "      <td>2020-02-07 23:59:24+00:00</td>\n",
       "      <td>{'mentions': [{'start': 3, 'end': 17, 'usernam...</td>\n",
       "      <td>{'retweet_count': 2097, 'reply_count': 0, 'lik...</td>\n",
       "      <td>[{'type': 'retweeted', 'id': '1225671357100199...</td>\n",
       "      <td>NaN</td>\n",
       "      <td>NaN</td>\n",
       "      <td>NaN</td>\n",
       "      <td>NaN</td>\n",
       "      <td>NaN</td>\n",
       "      <td>NaN</td>\n",
       "      <td>NaN</td>\n",
       "      <td>NaN</td>\n",
       "      <td>NaN</td>\n",
       "      <td>NaN</td>\n",
       "      <td>{'followers_count': 647, 'following_count': 13...</td>\n",
       "      <td>Ilorin, Nigeria</td>\n",
       "      <td>2015-02-25T18:46:16.000Z</td>\n",
       "      <td>A.A: ELDORADO</td>\n",
       "      <td>Eldorado4eva</td>\n",
       "      <td>False</td>\n",
       "      <td>NaN</td>\n",
       "      <td>NaN</td>\n",
       "      <td>0.0</td>\n",
       "      <td>None</td>\n",
       "      <td>0.0</td>\n",
       "      <td>None</td>\n",
       "      <td>0.0</td>\n",
       "      <td>None</td>\n",
       "      <td>2097.0</td>\n",
       "      <td>None</td>\n",
       "      <td>[]</td>\n",
       "      <td>None</td>\n",
       "      <td>None</td>\n",
       "      <td>[bbcnewspidgin]</td>\n",
       "    </tr>\n",
       "    <tr>\n",
       "      <th>4</th>\n",
       "      <td>1225932076735700992</td>\n",
       "      <td>1081991545497284608</td>\n",
       "      <td>RT @bbcnewspidgin: Victor, Ifeanyi &amp;amp; Osaze...</td>\n",
       "      <td>2020-02-07 23:59:18+00:00</td>\n",
       "      <td>{'mentions': [{'start': 3, 'end': 17, 'usernam...</td>\n",
       "      <td>{'retweet_count': 2097, 'reply_count': 0, 'lik...</td>\n",
       "      <td>[{'type': 'retweeted', 'id': '1225671357100199...</td>\n",
       "      <td>NaN</td>\n",
       "      <td>NaN</td>\n",
       "      <td>NaN</td>\n",
       "      <td>NaN</td>\n",
       "      <td>NaN</td>\n",
       "      <td>NaN</td>\n",
       "      <td>NaN</td>\n",
       "      <td>NaN</td>\n",
       "      <td>NaN</td>\n",
       "      <td>NaN</td>\n",
       "      <td>{'followers_count': 1173, 'following_count': 9...</td>\n",
       "      <td>NaN</td>\n",
       "      <td>2019-01-06T19:11:01.000Z</td>\n",
       "      <td>Florence Ade Bimpe👑</td>\n",
       "      <td>Flobim1</td>\n",
       "      <td>False</td>\n",
       "      <td>NaN</td>\n",
       "      <td>NaN</td>\n",
       "      <td>0.0</td>\n",
       "      <td>None</td>\n",
       "      <td>0.0</td>\n",
       "      <td>None</td>\n",
       "      <td>0.0</td>\n",
       "      <td>None</td>\n",
       "      <td>2097.0</td>\n",
       "      <td>None</td>\n",
       "      <td>[]</td>\n",
       "      <td>None</td>\n",
       "      <td>None</td>\n",
       "      <td>[bbcnewspidgin]</td>\n",
       "    </tr>\n",
       "  </tbody>\n",
       "</table>\n",
       "</div>"
      ],
      "text/plain": [
       "                    id            author_id  \\\n",
       "0  1225932212933144581            406533892   \n",
       "1  1225932207711281152           2848603625   \n",
       "2  1225932128002678792   949215757988171776   \n",
       "3  1225932101926707200           3062901987   \n",
       "4  1225932076735700992  1081991545497284608   \n",
       "\n",
       "                                                text  \\\n",
       "0  RT @bbcnewspidgin: Victor, Ifeanyi &amp; Osaze...   \n",
       "1  Even God love dreads that was why he gave sams...   \n",
       "2  RT @bbcnewspidgin: Victor, Ifeanyi &amp; Osaze...   \n",
       "3  RT @bbcnewspidgin: Victor, Ifeanyi &amp; Osaze...   \n",
       "4  RT @bbcnewspidgin: Victor, Ifeanyi &amp; Osaze...   \n",
       "\n",
       "                 created_at  \\\n",
       "0 2020-02-07 23:59:50+00:00   \n",
       "1 2020-02-07 23:59:49+00:00   \n",
       "2 2020-02-07 23:59:30+00:00   \n",
       "3 2020-02-07 23:59:24+00:00   \n",
       "4 2020-02-07 23:59:18+00:00   \n",
       "\n",
       "                                            entities  \\\n",
       "0  {'mentions': [{'start': 3, 'end': 17, 'usernam...   \n",
       "1  {'hashtags': [{'start': 112, 'end': 120, 'tag'...   \n",
       "2  {'mentions': [{'start': 3, 'end': 17, 'usernam...   \n",
       "3  {'mentions': [{'start': 3, 'end': 17, 'usernam...   \n",
       "4  {'mentions': [{'start': 3, 'end': 17, 'usernam...   \n",
       "\n",
       "                                      public_metrics  \\\n",
       "0  {'retweet_count': 2097, 'reply_count': 0, 'lik...   \n",
       "1  {'retweet_count': 0, 'reply_count': 0, 'like_c...   \n",
       "2  {'retweet_count': 2097, 'reply_count': 0, 'lik...   \n",
       "3  {'retweet_count': 2097, 'reply_count': 0, 'lik...   \n",
       "4  {'retweet_count': 2097, 'reply_count': 0, 'lik...   \n",
       "\n",
       "                                   referenced_tweets in_reply_to_user_id  geo  \\\n",
       "0  [{'type': 'retweeted', 'id': '1225671357100199...                 NaN  NaN   \n",
       "1                                                NaN                 NaN  NaN   \n",
       "2  [{'type': 'retweeted', 'id': '1225671357100199...                 NaN  NaN   \n",
       "3  [{'type': 'retweeted', 'id': '1225671357100199...                 NaN  NaN   \n",
       "4  [{'type': 'retweeted', 'id': '1225671357100199...                 NaN  NaN   \n",
       "\n",
       "  users tweets places newest_id oldest_id  result_count next_token withheld  \\\n",
       "0   NaN    NaN    NaN       NaN       NaN           NaN        NaN      NaN   \n",
       "1   NaN    NaN    NaN       NaN       NaN           NaN        NaN      NaN   \n",
       "2   NaN    NaN    NaN       NaN       NaN           NaN        NaN      NaN   \n",
       "3   NaN    NaN    NaN       NaN       NaN           NaN        NaN      NaN   \n",
       "4   NaN    NaN    NaN       NaN       NaN           NaN        NaN      NaN   \n",
       "\n",
       "                                 user_public_metrics    user_location  \\\n",
       "0  {'followers_count': 1288, 'following_count': 1...   Lagos, Nigeria   \n",
       "1  {'followers_count': 224, 'following_count': 10...   Lagos, Nigeria   \n",
       "2  {'followers_count': 384, 'following_count': 13...   Lagos, Nigeria   \n",
       "3  {'followers_count': 647, 'following_count': 13...  Ilorin, Nigeria   \n",
       "4  {'followers_count': 1173, 'following_count': 9...              NaN   \n",
       "\n",
       "            user_created_at            user_name      username user_verified  \\\n",
       "0  2011-11-06T20:55:51.000Z            Alexander   xanderwayne         False   \n",
       "1  2014-10-28T18:33:01.000Z           Carrot Top   carrotop_ds         False   \n",
       "2  2018-01-05T09:47:27.000Z                kenny  proudtwinnie         False   \n",
       "3  2015-02-25T18:46:16.000Z        A.A: ELDORADO  Eldorado4eva         False   \n",
       "4  2019-01-06T19:11:01.000Z  Florence Ade Bimpe👑       Flobim1         False   \n",
       "\n",
       "  possibly_sensitive context_annotations  reply_count user_reply_count  \\\n",
       "0                NaN                 NaN          0.0             None   \n",
       "1                NaN                 NaN          0.0             None   \n",
       "2                NaN                 NaN          0.0             None   \n",
       "3                NaN                 NaN          0.0             None   \n",
       "4                NaN                 NaN          0.0             None   \n",
       "\n",
       "   like_count user_like_count  quote_count user_quote_count  retweet_count  \\\n",
       "0         0.0            None          0.0             None         2097.0   \n",
       "1         0.0            None          0.0             None            0.0   \n",
       "2         0.0            None          0.0             None         2097.0   \n",
       "3         0.0            None          0.0             None         2097.0   \n",
       "4         0.0            None          0.0             None         2097.0   \n",
       "\n",
       "  user_retweet_count   hashtags state country         mentions  \n",
       "0               None         []  None    None  [bbcnewspidgin]  \n",
       "1               None  [EndSARS]  None    None             None  \n",
       "2               None         []  None    None  [bbcnewspidgin]  \n",
       "3               None         []  None    None  [bbcnewspidgin]  \n",
       "4               None         []  None    None  [bbcnewspidgin]  "
      ]
     },
     "execution_count": 4,
     "metadata": {},
     "output_type": "execute_result"
    }
   ],
   "source": [
    "tweets_df.head()"
   ]
  },
  {
   "cell_type": "code",
   "execution_count": 5,
   "metadata": {},
   "outputs": [
    {
     "name": "stdout",
     "output_type": "stream",
     "text": [
      "<class 'pandas.core.frame.DataFrame'>\n",
      "RangeIndex: 418624 entries, 0 to 418623\n",
      "Data columns (total 37 columns):\n",
      " #   Column               Non-Null Count   Dtype              \n",
      "---  ------               --------------   -----              \n",
      " 0   id                   411234 non-null  object             \n",
      " 1   author_id            411234 non-null  object             \n",
      " 2   text                 411234 non-null  object             \n",
      " 3   created_at           411234 non-null  datetime64[ns, UTC]\n",
      " 4   entities             409126 non-null  object             \n",
      " 5   public_metrics       411234 non-null  object             \n",
      " 6   referenced_tweets    387530 non-null  object             \n",
      " 7   in_reply_to_user_id  14026 non-null   object             \n",
      " 8   geo                  1454 non-null    object             \n",
      " 9   users                3695 non-null    object             \n",
      " 10  tweets               3695 non-null    object             \n",
      " 11  places               932 non-null     object             \n",
      " 12  newest_id            3695 non-null    object             \n",
      " 13  oldest_id            3695 non-null    object             \n",
      " 14  result_count         3695 non-null    float64            \n",
      " 15  next_token           3659 non-null    object             \n",
      " 16  withheld             4 non-null       object             \n",
      " 17  user_public_metrics  410851 non-null  object             \n",
      " 18  user_location        298380 non-null  object             \n",
      " 19  user_created_at      410851 non-null  object             \n",
      " 20  user_name            410851 non-null  object             \n",
      " 21  username             410851 non-null  object             \n",
      " 22  user_verified        410851 non-null  object             \n",
      " 23  possibly_sensitive   67746 non-null   object             \n",
      " 24  context_annotations  15414 non-null   object             \n",
      " 25  reply_count          411234 non-null  float64            \n",
      " 26  user_reply_count     0 non-null       object             \n",
      " 27  like_count           411234 non-null  float64            \n",
      " 28  user_like_count      0 non-null       object             \n",
      " 29  quote_count          411234 non-null  float64            \n",
      " 30  user_quote_count     0 non-null       object             \n",
      " 31  retweet_count        411234 non-null  float64            \n",
      " 32  user_retweet_count   0 non-null       object             \n",
      " 33  hashtags             409126 non-null  object             \n",
      " 34  state                899 non-null     object             \n",
      " 35  country              899 non-null     object             \n",
      " 36  mentions             369490 non-null  object             \n",
      "dtypes: datetime64[ns, UTC](1), float64(5), object(31)\n",
      "memory usage: 118.2+ MB\n"
     ]
    }
   ],
   "source": [
    "tweets_df.info()"
   ]
  },
  {
   "cell_type": "markdown",
   "metadata": {
    "heading_collapsed": true
   },
   "source": [
    "## Alt data"
   ]
  },
  {
   "cell_type": "code",
   "execution_count": null,
   "metadata": {
    "hidden": true
   },
   "outputs": [],
   "source": [
    "df = pd.read_excel('https://query.data.world/s/rghc6hq5b32ertwgebgwuyx2lcpxvt')"
   ]
  },
  {
   "cell_type": "markdown",
   "metadata": {},
   "source": [
    "## Tweets Analysis\n",
    "\n",
    "Now it's time to analyse this data to try and get some interesting insights. Below are some questions you can answer to get started but the best Data Scientists are creative thinkers so think out of th ebox to decide what will be interesting insight"
   ]
  },
  {
   "cell_type": "markdown",
   "metadata": {},
   "source": [
    "**What locations in Nigeria and around the world were the hashtags popular?**"
   ]
  },
  {
   "cell_type": "code",
   "execution_count": 20,
   "metadata": {},
   "outputs": [
    {
     "data": {
      "text/plain": [
       "Lagos, Nigeria                    47252\n",
       "Nigeria                           31038\n",
       "Abuja, Nigeria                     8401\n",
       "Lagos                              7858\n",
       "Ibadan, Nigeria                    2943\n",
       "Port Harcourt, Nigeria             2688\n",
       "Earth                              2372\n",
       "Africa                             2338\n",
       "Federal Capital Territory, Nig     2147\n",
       "Abuja                              1960\n",
       "Name: user_location, dtype: int64"
      ]
     },
     "execution_count": 20,
     "metadata": {},
     "output_type": "execute_result"
    }
   ],
   "source": [
    "tweets_df.user_location.value_counts()[:10]"
   ]
  },
  {
   "cell_type": "code",
   "execution_count": 18,
   "metadata": {},
   "outputs": [
    {
     "data": {
      "text/plain": [
       "Lagos                        153\n",
       "Ikeja                        128\n",
       "Abuja                         68\n",
       "Victoria Island               43\n",
       "Port Harcourt                 37\n",
       "Ibadan                        30\n",
       "Enugu                         20\n",
       "Ikorudu                       18\n",
       "Federal Capital Territory     15\n",
       "Benin-City                    11\n",
       "Name: state, dtype: int64"
      ]
     },
     "execution_count": 18,
     "metadata": {},
     "output_type": "execute_result"
    }
   ],
   "source": [
    "tweets_df.state.value_counts()[:10]"
   ]
  },
  {
   "cell_type": "code",
   "execution_count": 19,
   "metadata": {},
   "outputs": [
    {
     "data": {
      "text/plain": [
       "Nigeria           771\n",
       "United States      49\n",
       "United Kingdom     22\n",
       "Deutschland        14\n",
       "Canada              9\n",
       "Ghana               8\n",
       "South Africa        6\n",
       "Australia           3\n",
       "Liberia             2\n",
       "भारत                2\n",
       "Name: country, dtype: int64"
      ]
     },
     "execution_count": 19,
     "metadata": {},
     "output_type": "execute_result"
    }
   ],
   "source": [
    "tweets_df.country.value_counts()[:10]"
   ]
  },
  {
   "cell_type": "code",
   "execution_count": null,
   "metadata": {},
   "outputs": [],
   "source": []
  },
  {
   "cell_type": "markdown",
   "metadata": {},
   "source": [
    "**How far did the hashtag reach and how deep was this reach?**"
   ]
  },
  {
   "cell_type": "code",
   "execution_count": null,
   "metadata": {},
   "outputs": [],
   "source": []
  },
  {
   "cell_type": "markdown",
   "metadata": {},
   "source": [
    "**When the did movement start on social media? When did it reach critical mass?**"
   ]
  },
  {
   "cell_type": "code",
   "execution_count": null,
   "metadata": {},
   "outputs": [],
   "source": [
    "tw"
   ]
  },
  {
   "cell_type": "markdown",
   "metadata": {},
   "source": [
    "**What were the most popular words or terms used during the movement?**"
   ]
  },
  {
   "cell_type": "code",
   "execution_count": null,
   "metadata": {},
   "outputs": [],
   "source": []
  },
  {
   "cell_type": "markdown",
   "metadata": {},
   "source": [
    "**Who were the key influences and proponents involved in the movement?**"
   ]
  },
  {
   "cell_type": "code",
   "execution_count": null,
   "metadata": {},
   "outputs": [],
   "source": []
  },
  {
   "cell_type": "markdown",
   "metadata": {},
   "source": [
    "**What was the most popular tweet?**"
   ]
  },
  {
   "cell_type": "code",
   "execution_count": null,
   "metadata": {},
   "outputs": [],
   "source": []
  },
  {
   "cell_type": "markdown",
   "metadata": {},
   "source": [
    "**What is the general sentiment of the tweets about the movement? How has this changed from the start of the movement till now?**"
   ]
  },
  {
   "cell_type": "code",
   "execution_count": null,
   "metadata": {},
   "outputs": [],
   "source": []
  },
  {
   "cell_type": "markdown",
   "metadata": {},
   "source": [
    "**Were there any bots or bad actors spreading fake news around the movement?**"
   ]
  },
  {
   "cell_type": "code",
   "execution_count": null,
   "metadata": {},
   "outputs": [],
   "source": []
  },
  {
   "cell_type": "markdown",
   "metadata": {},
   "source": [
    "**What are some examples of this fake news?**"
   ]
  },
  {
   "cell_type": "code",
   "execution_count": null,
   "metadata": {},
   "outputs": [],
   "source": []
  },
  {
   "cell_type": "markdown",
   "metadata": {},
   "source": [
    "## Network Analysis"
   ]
  },
  {
   "cell_type": "code",
   "execution_count": 25,
   "metadata": {},
   "outputs": [],
   "source": [
    "G = nx.DiGraph()\n",
    "\n",
    "G.add_nodes_from(['A', 'B', 'C', 'D'])\n",
    "G.add_edge('A', 'B')\n",
    "G.add_edge('B', 'C')\n",
    "G.add_edge('D', 'B')\n",
    "G.add_edge('C', 'B')\n",
    "G.add_edge('C', 'E')"
   ]
  },
  {
   "cell_type": "code",
   "execution_count": 28,
   "metadata": {},
   "outputs": [
    {
     "data": {
      "image/png": "[encoded data removed]",
      "text/plain": [
       "<Figure size 432x288 with 1 Axes>"
      ]
     },
     "metadata": {},
     "output_type": "display_data"
    }
   ],
   "source": [
    "nx.draw_networkx(G)"
   ]
  },
  {
   "cell_type": "code",
   "execution_count": 24,
   "metadata": {},
   "outputs": [
    {
     "data": {
      "text/plain": [
       "{'A': 0.3333333333333333,\n",
       " 'B': 1.0,\n",
       " 'C': 0.3333333333333333,\n",
       " 'D': 0.3333333333333333}"
      ]
     },
     "execution_count": 24,
     "metadata": {},
     "output_type": "execute_result"
    }
   ],
   "source": [
    "nx.degree_centrality(G)"
   ]
  },
  {
   "cell_type": "code",
   "execution_count": 11,
   "metadata": {},
   "outputs": [
    {
     "data": {
      "text/plain": [
       "id                                                   1225932212933144581\n",
       "author_id                                                      406533892\n",
       "text                   RT @bbcnewspidgin: Victor, Ifeanyi &amp; Osaze...\n",
       "created_at                                     2020-02-07 23:59:50+00:00\n",
       "entities               {'mentions': [{'start': 3, 'end': 17, 'usernam...\n",
       "public_metrics         {'retweet_count': 2097, 'reply_count': 0, 'lik...\n",
       "referenced_tweets      [{'type': 'retweeted', 'id': '1225671357100199...\n",
       "in_reply_to_user_id                                                  NaN\n",
       "geo                                                                  NaN\n",
       "users                                                                NaN\n",
       "tweets                                                               NaN\n",
       "places                                                               NaN\n",
       "newest_id                                                            NaN\n",
       "oldest_id                                                            NaN\n",
       "result_count                                                         NaN\n",
       "next_token                                                           NaN\n",
       "withheld                                                             NaN\n",
       "user_public_metrics    {'followers_count': 1288, 'following_count': 1...\n",
       "user_location                                             Lagos, Nigeria\n",
       "user_created_at                                 2011-11-06T20:55:51.000Z\n",
       "user_name                                                      Alexander\n",
       "username                                                     xanderwayne\n",
       "user_verified                                                      False\n",
       "possibly_sensitive                                                   NaN\n",
       "context_annotations                                                  NaN\n",
       "reply_count                                                          0.0\n",
       "user_reply_count                                                    None\n",
       "like_count                                                           0.0\n",
       "user_like_count                                                     None\n",
       "quote_count                                                          0.0\n",
       "user_quote_count                                                    None\n",
       "retweet_count                                                     2097.0\n",
       "user_retweet_count                                                  None\n",
       "hashtags                                                              []\n",
       "state                                                               None\n",
       "country                                                             None\n",
       "mentions                                                 [bbcnewspidgin]\n",
       "Name: 0, dtype: object"
      ]
     },
     "execution_count": 11,
     "metadata": {},
     "output_type": "execute_result"
    }
   ],
   "source": [
    "tweets_df.iloc[0]"
   ]
  },
  {
   "cell_type": "code",
   "execution_count": 5,
   "metadata": {},
   "outputs": [],
   "source": [
    "G = nx.DiGraph()\n",
    "for i, j in tweets_df.iterrows():\n",
    "    if isinstance(j['mentions'], list):\n",
    "        for mention in j['mentions']:\n",
    "            G.add_edge(j['username'], mention)"
   ]
  },
  {
   "cell_type": "code",
   "execution_count": 6,
   "metadata": {},
   "outputs": [
    {
     "data": {
      "text/plain": [
       "['segalink',\n",
       " 'PoliceNG',\n",
       " 'MBuhari',\n",
       " 'AmnestyNigeria',\n",
       " 'Tcheek_',\n",
       " 'DrOlufunmilayo',\n",
       " 'effodu',\n",
       " 'renoomokri',\n",
       " 'AishaYesufu',\n",
       " 'EugeneIheanacho',\n",
       " 'SnowChiff',\n",
       " 'YeleSowore',\n",
       " 'falzthebahdguy',\n",
       " 'iam_Yhemie',\n",
       " 'Mochievous',\n",
       " 'SaharaReporters',\n",
       " 'NigeriaPolice',\n",
       " 'kingsleyebere4',\n",
       " 'dammiedammie35',\n",
       " 'KemiOlunloyo']"
      ]
     },
     "execution_count": 6,
     "metadata": {},
     "output_type": "execute_result"
    }
   ],
   "source": [
    "user_ntwk_centrality = nx.degree_centrality(G)\n",
    "sorted(user_ntwk_centrality, key=user_ntwk_centrality.get, reverse=True)[:20]"
   ]
  },
  {
   "cell_type": "code",
   "execution_count": 10,
   "metadata": {},
   "outputs": [
    {
     "ename": "ModuleNotFoundError",
     "evalue": "No module named 'pydot'",
     "output_type": "error",
     "traceback": [
      "\u001b[0;31m---------------------------------------------------------------------------\u001b[0m",
      "\u001b[0;31mModuleNotFoundError\u001b[0m                       Traceback (most recent call last)",
      "\u001b[0;32m<ipython-input-10-267dfdfe60a9>\u001b[0m in \u001b[0;36m<module>\u001b[0;34m\u001b[0m\n\u001b[0;32m----> 1\u001b[0;31m \u001b[0mgraph\u001b[0m \u001b[0;34m=\u001b[0m \u001b[0mnx\u001b[0m\u001b[0;34m.\u001b[0m\u001b[0mdrawing\u001b[0m\u001b[0;34m.\u001b[0m\u001b[0mnx_pydot\u001b[0m\u001b[0;34m.\u001b[0m\u001b[0mto_pydot\u001b[0m\u001b[0;34m(\u001b[0m\u001b[0mG\u001b[0m\u001b[0;34m)\u001b[0m\u001b[0;34m\u001b[0m\u001b[0;34m\u001b[0m\u001b[0m\n\u001b[0m",
      "\u001b[0;32m~/anaconda3/envs/endsars/lib/python3.8/site-packages/networkx/drawing/nx_pydot.py\u001b[0m in \u001b[0;36mto_pydot\u001b[0;34m(N)\u001b[0m\n\u001b[1;32m    180\u001b[0m \u001b[0;34m\u001b[0m\u001b[0m\n\u001b[1;32m    181\u001b[0m     \"\"\"\n\u001b[0;32m--> 182\u001b[0;31m     \u001b[0;32mimport\u001b[0m \u001b[0mpydot\u001b[0m\u001b[0;34m\u001b[0m\u001b[0;34m\u001b[0m\u001b[0m\n\u001b[0m\u001b[1;32m    183\u001b[0m \u001b[0;34m\u001b[0m\u001b[0m\n\u001b[1;32m    184\u001b[0m     \u001b[0;31m# set Graphviz graph type\u001b[0m\u001b[0;34m\u001b[0m\u001b[0;34m\u001b[0m\u001b[0;34m\u001b[0m\u001b[0m\n",
      "\u001b[0;31mModuleNotFoundError\u001b[0m: No module named 'pydot'"
     ]
    }
   ],
   "source": [
    "graph = nx.drawing.nx_pydot.to_pydot(G)"
   ]
  },
  {
   "cell_type": "code",
   "execution_count": 8,
   "metadata": {},
   "outputs": [
    {
     "ename": "ModuleNotFoundError",
     "evalue": "No module named 'pydot'",
     "output_type": "error",
     "traceback": [
      "\u001b[0;31m---------------------------------------------------------------------------\u001b[0m",
      "\u001b[0;31mModuleNotFoundError\u001b[0m                       Traceback (most recent call last)",
      "\u001b[0;32m<ipython-input-8-68e5e3ceb9ac>\u001b[0m in \u001b[0;36m<module>\u001b[0;34m\u001b[0m\n\u001b[0;32m----> 1\u001b[0;31m \u001b[0mpos\u001b[0m \u001b[0;34m=\u001b[0m \u001b[0mnx\u001b[0m\u001b[0;34m.\u001b[0m\u001b[0mnx_pydot\u001b[0m\u001b[0;34m.\u001b[0m\u001b[0mgraphviz_layout\u001b[0m\u001b[0;34m(\u001b[0m\u001b[0mG\u001b[0m\u001b[0;34m)\u001b[0m\u001b[0;34m\u001b[0m\u001b[0;34m\u001b[0m\u001b[0m\n\u001b[0m",
      "\u001b[0;32m~/anaconda3/envs/endsars/lib/python3.8/site-packages/networkx/drawing/nx_pydot.py\u001b[0m in \u001b[0;36mgraphviz_layout\u001b[0;34m(G, prog, root)\u001b[0m\n\u001b[1;32m    255\u001b[0m     \u001b[0mThis\u001b[0m \u001b[0;32mis\u001b[0m \u001b[0ma\u001b[0m \u001b[0mwrapper\u001b[0m \u001b[0;32mfor\u001b[0m \u001b[0mpydot_layout\u001b[0m\u001b[0;34m.\u001b[0m\u001b[0;34m\u001b[0m\u001b[0;34m\u001b[0m\u001b[0m\n\u001b[1;32m    256\u001b[0m     \"\"\"\n\u001b[0;32m--> 257\u001b[0;31m     \u001b[0;32mreturn\u001b[0m \u001b[0mpydot_layout\u001b[0m\u001b[0;34m(\u001b[0m\u001b[0mG\u001b[0m\u001b[0;34m=\u001b[0m\u001b[0mG\u001b[0m\u001b[0;34m,\u001b[0m \u001b[0mprog\u001b[0m\u001b[0;34m=\u001b[0m\u001b[0mprog\u001b[0m\u001b[0;34m,\u001b[0m \u001b[0mroot\u001b[0m\u001b[0;34m=\u001b[0m\u001b[0mroot\u001b[0m\u001b[0;34m)\u001b[0m\u001b[0;34m\u001b[0m\u001b[0;34m\u001b[0m\u001b[0m\n\u001b[0m\u001b[1;32m    258\u001b[0m \u001b[0;34m\u001b[0m\u001b[0m\n\u001b[1;32m    259\u001b[0m \u001b[0;34m\u001b[0m\u001b[0m\n",
      "\u001b[0;32m~/anaconda3/envs/endsars/lib/python3.8/site-packages/networkx/drawing/nx_pydot.py\u001b[0m in \u001b[0;36mpydot_layout\u001b[0;34m(G, prog, root)\u001b[0m\n\u001b[1;32m    296\u001b[0m \u001b[0;34m\u001b[0m\u001b[0m\n\u001b[1;32m    297\u001b[0m     \"\"\"\n\u001b[0;32m--> 298\u001b[0;31m     \u001b[0;32mimport\u001b[0m \u001b[0mpydot\u001b[0m\u001b[0;34m\u001b[0m\u001b[0;34m\u001b[0m\u001b[0m\n\u001b[0m\u001b[1;32m    299\u001b[0m \u001b[0;34m\u001b[0m\u001b[0m\n\u001b[1;32m    300\u001b[0m     \u001b[0mP\u001b[0m \u001b[0;34m=\u001b[0m \u001b[0mto_pydot\u001b[0m\u001b[0;34m(\u001b[0m\u001b[0mG\u001b[0m\u001b[0;34m)\u001b[0m\u001b[0;34m\u001b[0m\u001b[0;34m\u001b[0m\u001b[0m\n",
      "\u001b[0;31mModuleNotFoundError\u001b[0m: No module named 'pydot'"
     ]
    }
   ],
   "source": [
    "pos = nx.nx_pydot.graphviz_layout(G)"
   ]
  },
  {
   "cell_type": "code",
   "execution_count": 28,
   "metadata": {},
   "outputs": [
    {
     "data": {
      "text/plain": [
       "'RT @blossomozurumba: Happy birthday @segalink. You are the quintessential knight and I applaud you for creating a pipeline to rescue Nigeri…'"
      ]
     },
     "execution_count": 28,
     "metadata": {},
     "output_type": "execute_result"
    }
   ],
   "source": [
    "tweets_df.query(\"username == 'segalink'\")['text'].iloc[0]"
   ]
  },
  {
   "cell_type": "code",
   "execution_count": 11,
   "metadata": {},
   "outputs": [
    {
     "ename": "KeyboardInterrupt",
     "evalue": "",
     "output_type": "error",
     "traceback": [
      "\u001b[0;31m---------------------------------------------------------------------------\u001b[0m",
      "\u001b[0;31mKeyboardInterrupt\u001b[0m                         Traceback (most recent call last)",
      "\u001b[0;32m<ipython-input-11-cea9b642bbe2>\u001b[0m in \u001b[0;36m<module>\u001b[0;34m\u001b[0m\n\u001b[0;32m----> 1\u001b[0;31m \u001b[0mnx\u001b[0m\u001b[0;34m.\u001b[0m\u001b[0mdraw_networkx\u001b[0m\u001b[0;34m(\u001b[0m\u001b[0mG\u001b[0m\u001b[0;34m)\u001b[0m\u001b[0;34m\u001b[0m\u001b[0;34m\u001b[0m\u001b[0m\n\u001b[0m",
      "\u001b[0;32m~/anaconda3/envs/endsars/lib/python3.8/site-packages/networkx/drawing/nx_pylab.py\u001b[0m in \u001b[0;36mdraw_networkx\u001b[0;34m(G, pos, arrows, with_labels, **kwds)\u001b[0m\n\u001b[1;32m    331\u001b[0m \u001b[0;34m\u001b[0m\u001b[0m\n\u001b[1;32m    332\u001b[0m     \u001b[0;32mif\u001b[0m \u001b[0mpos\u001b[0m \u001b[0;32mis\u001b[0m \u001b[0;32mNone\u001b[0m\u001b[0;34m:\u001b[0m\u001b[0;34m\u001b[0m\u001b[0;34m\u001b[0m\u001b[0m\n\u001b[0;32m--> 333\u001b[0;31m         \u001b[0mpos\u001b[0m \u001b[0;34m=\u001b[0m \u001b[0mnx\u001b[0m\u001b[0;34m.\u001b[0m\u001b[0mdrawing\u001b[0m\u001b[0;34m.\u001b[0m\u001b[0mspring_layout\u001b[0m\u001b[0;34m(\u001b[0m\u001b[0mG\u001b[0m\u001b[0;34m)\u001b[0m  \u001b[0;31m# default to spring layout\u001b[0m\u001b[0;34m\u001b[0m\u001b[0;34m\u001b[0m\u001b[0m\n\u001b[0m\u001b[1;32m    334\u001b[0m \u001b[0;34m\u001b[0m\u001b[0m\n\u001b[1;32m    335\u001b[0m     \u001b[0mdraw_networkx_nodes\u001b[0m\u001b[0;34m(\u001b[0m\u001b[0mG\u001b[0m\u001b[0;34m,\u001b[0m \u001b[0mpos\u001b[0m\u001b[0;34m,\u001b[0m \u001b[0;34m**\u001b[0m\u001b[0mnode_kwds\u001b[0m\u001b[0;34m)\u001b[0m\u001b[0;34m\u001b[0m\u001b[0;34m\u001b[0m\u001b[0m\n",
      "\u001b[0;32m<decorator-gen-852>\u001b[0m in \u001b[0;36mfruchterman_reingold_layout\u001b[0;34m(G, k, pos, fixed, iterations, threshold, weight, scale, center, dim, seed)\u001b[0m\n",
      "\u001b[0;32m~/anaconda3/envs/endsars/lib/python3.8/site-packages/networkx/utils/decorators.py\u001b[0m in \u001b[0;36m_random_state\u001b[0;34m(func, *args, **kwargs)\u001b[0m\n\u001b[1;32m    406\u001b[0m         \u001b[0mnew_args\u001b[0m \u001b[0;34m=\u001b[0m \u001b[0mlist\u001b[0m\u001b[0;34m(\u001b[0m\u001b[0margs\u001b[0m\u001b[0;34m)\u001b[0m\u001b[0;34m\u001b[0m\u001b[0;34m\u001b[0m\u001b[0m\n\u001b[1;32m    407\u001b[0m         \u001b[0mnew_args\u001b[0m\u001b[0;34m[\u001b[0m\u001b[0mrandom_state_index\u001b[0m\u001b[0;34m]\u001b[0m \u001b[0;34m=\u001b[0m \u001b[0mrandom_state\u001b[0m\u001b[0;34m\u001b[0m\u001b[0;34m\u001b[0m\u001b[0m\n\u001b[0;32m--> 408\u001b[0;31m         \u001b[0;32mreturn\u001b[0m \u001b[0mfunc\u001b[0m\u001b[0;34m(\u001b[0m\u001b[0;34m*\u001b[0m\u001b[0mnew_args\u001b[0m\u001b[0;34m,\u001b[0m \u001b[0;34m**\u001b[0m\u001b[0mkwargs\u001b[0m\u001b[0;34m)\u001b[0m\u001b[0;34m\u001b[0m\u001b[0;34m\u001b[0m\u001b[0m\n\u001b[0m\u001b[1;32m    409\u001b[0m \u001b[0;34m\u001b[0m\u001b[0m\n\u001b[1;32m    410\u001b[0m     \u001b[0;32mreturn\u001b[0m \u001b[0m_random_state\u001b[0m\u001b[0;34m\u001b[0m\u001b[0;34m\u001b[0m\u001b[0m\n",
      "\u001b[0;32m~/anaconda3/envs/endsars/lib/python3.8/site-packages/networkx/drawing/layout.py\u001b[0m in \u001b[0;36mfruchterman_reingold_layout\u001b[0;34m(G, k, pos, fixed, iterations, threshold, weight, scale, center, dim, seed)\u001b[0m\n\u001b[1;32m    489\u001b[0m             \u001b[0mnnodes\u001b[0m\u001b[0;34m,\u001b[0m \u001b[0m_\u001b[0m \u001b[0;34m=\u001b[0m \u001b[0mA\u001b[0m\u001b[0;34m.\u001b[0m\u001b[0mshape\u001b[0m\u001b[0;34m\u001b[0m\u001b[0;34m\u001b[0m\u001b[0m\n\u001b[1;32m    490\u001b[0m             \u001b[0mk\u001b[0m \u001b[0;34m=\u001b[0m \u001b[0mdom_size\u001b[0m \u001b[0;34m/\u001b[0m \u001b[0mnp\u001b[0m\u001b[0;34m.\u001b[0m\u001b[0msqrt\u001b[0m\u001b[0;34m(\u001b[0m\u001b[0mnnodes\u001b[0m\u001b[0;34m)\u001b[0m\u001b[0;34m\u001b[0m\u001b[0;34m\u001b[0m\u001b[0m\n\u001b[0;32m--> 491\u001b[0;31m         pos = _sparse_fruchterman_reingold(\n\u001b[0m\u001b[1;32m    492\u001b[0m             \u001b[0mA\u001b[0m\u001b[0;34m,\u001b[0m \u001b[0mk\u001b[0m\u001b[0;34m,\u001b[0m \u001b[0mpos_arr\u001b[0m\u001b[0;34m,\u001b[0m \u001b[0mfixed\u001b[0m\u001b[0;34m,\u001b[0m \u001b[0miterations\u001b[0m\u001b[0;34m,\u001b[0m \u001b[0mthreshold\u001b[0m\u001b[0;34m,\u001b[0m \u001b[0mdim\u001b[0m\u001b[0;34m,\u001b[0m \u001b[0mseed\u001b[0m\u001b[0;34m\u001b[0m\u001b[0;34m\u001b[0m\u001b[0m\n\u001b[1;32m    493\u001b[0m         )\n",
      "\u001b[0;32m<decorator-gen-856>\u001b[0m in \u001b[0;36m_sparse_fruchterman_reingold\u001b[0;34m(A, k, pos, fixed, iterations, threshold, dim, seed)\u001b[0m\n",
      "\u001b[0;32m~/anaconda3/envs/endsars/lib/python3.8/site-packages/networkx/utils/decorators.py\u001b[0m in \u001b[0;36m_random_state\u001b[0;34m(func, *args, **kwargs)\u001b[0m\n\u001b[1;32m    406\u001b[0m         \u001b[0mnew_args\u001b[0m \u001b[0;34m=\u001b[0m \u001b[0mlist\u001b[0m\u001b[0;34m(\u001b[0m\u001b[0margs\u001b[0m\u001b[0;34m)\u001b[0m\u001b[0;34m\u001b[0m\u001b[0;34m\u001b[0m\u001b[0m\n\u001b[1;32m    407\u001b[0m         \u001b[0mnew_args\u001b[0m\u001b[0;34m[\u001b[0m\u001b[0mrandom_state_index\u001b[0m\u001b[0;34m]\u001b[0m \u001b[0;34m=\u001b[0m \u001b[0mrandom_state\u001b[0m\u001b[0;34m\u001b[0m\u001b[0;34m\u001b[0m\u001b[0m\n\u001b[0;32m--> 408\u001b[0;31m         \u001b[0;32mreturn\u001b[0m \u001b[0mfunc\u001b[0m\u001b[0;34m(\u001b[0m\u001b[0;34m*\u001b[0m\u001b[0mnew_args\u001b[0m\u001b[0;34m,\u001b[0m \u001b[0;34m**\u001b[0m\u001b[0mkwargs\u001b[0m\u001b[0;34m)\u001b[0m\u001b[0;34m\u001b[0m\u001b[0;34m\u001b[0m\u001b[0m\n\u001b[0m\u001b[1;32m    409\u001b[0m \u001b[0;34m\u001b[0m\u001b[0m\n\u001b[1;32m    410\u001b[0m     \u001b[0;32mreturn\u001b[0m \u001b[0m_random_state\u001b[0m\u001b[0;34m\u001b[0m\u001b[0;34m\u001b[0m\u001b[0m\n",
      "\u001b[0;32m~/anaconda3/envs/endsars/lib/python3.8/site-packages/networkx/drawing/layout.py\u001b[0m in \u001b[0;36m_sparse_fruchterman_reingold\u001b[0;34m(A, k, pos, fixed, iterations, threshold, dim, seed)\u001b[0m\n\u001b[1;32m    635\u001b[0m             \u001b[0mAi\u001b[0m \u001b[0;34m=\u001b[0m \u001b[0mnp\u001b[0m\u001b[0;34m.\u001b[0m\u001b[0masarray\u001b[0m\u001b[0;34m(\u001b[0m\u001b[0mA\u001b[0m\u001b[0;34m.\u001b[0m\u001b[0mgetrowview\u001b[0m\u001b[0;34m(\u001b[0m\u001b[0mi\u001b[0m\u001b[0;34m)\u001b[0m\u001b[0;34m.\u001b[0m\u001b[0mtoarray\u001b[0m\u001b[0;34m(\u001b[0m\u001b[0;34m)\u001b[0m\u001b[0;34m)\u001b[0m\u001b[0;34m\u001b[0m\u001b[0;34m\u001b[0m\u001b[0m\n\u001b[1;32m    636\u001b[0m             \u001b[0;31m# displacement \"force\"\u001b[0m\u001b[0;34m\u001b[0m\u001b[0;34m\u001b[0m\u001b[0;34m\u001b[0m\u001b[0m\n\u001b[0;32m--> 637\u001b[0;31m             displacement[:, i] += (\n\u001b[0m\u001b[1;32m    638\u001b[0m                 \u001b[0mdelta\u001b[0m \u001b[0;34m*\u001b[0m \u001b[0;34m(\u001b[0m\u001b[0mk\u001b[0m \u001b[0;34m*\u001b[0m \u001b[0mk\u001b[0m \u001b[0;34m/\u001b[0m \u001b[0mdistance\u001b[0m \u001b[0;34m**\u001b[0m \u001b[0;36m2\u001b[0m \u001b[0;34m-\u001b[0m \u001b[0mAi\u001b[0m \u001b[0;34m*\u001b[0m \u001b[0mdistance\u001b[0m \u001b[0;34m/\u001b[0m \u001b[0mk\u001b[0m\u001b[0;34m)\u001b[0m\u001b[0;34m\u001b[0m\u001b[0;34m\u001b[0m\u001b[0m\n\u001b[1;32m    639\u001b[0m             ).sum(axis=1)\n",
      "\u001b[0;32m~/anaconda3/envs/endsars/lib/python3.8/site-packages/numpy/core/_methods.py\u001b[0m in \u001b[0;36m_sum\u001b[0;34m(a, axis, dtype, out, keepdims, initial, where)\u001b[0m\n\u001b[1;32m     45\u001b[0m def _sum(a, axis=None, dtype=None, out=None, keepdims=False,\n\u001b[1;32m     46\u001b[0m          initial=_NoValue, where=True):\n\u001b[0;32m---> 47\u001b[0;31m     \u001b[0;32mreturn\u001b[0m \u001b[0mumr_sum\u001b[0m\u001b[0;34m(\u001b[0m\u001b[0ma\u001b[0m\u001b[0;34m,\u001b[0m \u001b[0maxis\u001b[0m\u001b[0;34m,\u001b[0m \u001b[0mdtype\u001b[0m\u001b[0;34m,\u001b[0m \u001b[0mout\u001b[0m\u001b[0;34m,\u001b[0m \u001b[0mkeepdims\u001b[0m\u001b[0;34m,\u001b[0m \u001b[0minitial\u001b[0m\u001b[0;34m,\u001b[0m \u001b[0mwhere\u001b[0m\u001b[0;34m)\u001b[0m\u001b[0;34m\u001b[0m\u001b[0;34m\u001b[0m\u001b[0m\n\u001b[0m\u001b[1;32m     48\u001b[0m \u001b[0;34m\u001b[0m\u001b[0m\n\u001b[1;32m     49\u001b[0m def _prod(a, axis=None, dtype=None, out=None, keepdims=False,\n",
      "\u001b[0;31mKeyboardInterrupt\u001b[0m: "
     ]
    }
   ],
   "source": [
    "nx.draw_networkx(G)"
   ]
  },
  {
   "cell_type": "markdown",
   "metadata": {
    "heading_collapsed": true
   },
   "source": [
    "## Sentiment Modelling\n",
    "Train model on labelled twitter sentiment data from another dataset\n",
    "<br>Next steps:\n",
    "- Download Sentiment140 data\n",
    "- preprocess tweet data\n",
    "- Apply word embeddings to the text\n",
    "- apply fasttext text classification\n",
    "- Pickle model\n",
    "- Apply model to endsars tweets text"
   ]
  },
  {
   "cell_type": "markdown",
   "metadata": {
    "hidden": true
   },
   "source": [
    "### Get data ready for fastText training"
   ]
  },
  {
   "cell_type": "markdown",
   "metadata": {
    "hidden": true
   },
   "source": [
    "Save as .txt file for the fastText classifer"
   ]
  },
  {
   "cell_type": "code",
   "execution_count": null,
   "metadata": {
    "hidden": true
   },
   "outputs": [],
   "source": [
    "def prep_data(df, filename=\"\"):\n",
    "    \"\"\"\n",
    "    Create a functions that prepares the endsars data in a format that the fasttext model likes\n",
    "    \"\"\""
   ]
  },
  {
   "cell_type": "markdown",
   "metadata": {
    "hidden": true
   },
   "source": [
    "**Train Model**"
   ]
  },
  {
   "cell_type": "code",
   "execution_count": null,
   "metadata": {
    "hidden": true
   },
   "outputs": [],
   "source": []
  },
  {
   "cell_type": "markdown",
   "metadata": {
    "hidden": true
   },
   "source": [
    "**Apply Modelto Test data**"
   ]
  },
  {
   "cell_type": "code",
   "execution_count": null,
   "metadata": {
    "hidden": true
   },
   "outputs": [],
   "source": []
  },
  {
   "cell_type": "markdown",
   "metadata": {
    "hidden": true
   },
   "source": [
    "**Score Model**"
   ]
  },
  {
   "cell_type": "code",
   "execution_count": null,
   "metadata": {
    "hidden": true
   },
   "outputs": [],
   "source": []
  },
  {
   "cell_type": "markdown",
   "metadata": {
    "hidden": true
   },
   "source": [
    "**Check labels on example tweets**"
   ]
  },
  {
   "cell_type": "code",
   "execution_count": null,
   "metadata": {
    "hidden": true
   },
   "outputs": [],
   "source": []
  },
  {
   "cell_type": "markdown",
   "metadata": {
    "hidden": true
   },
   "source": [
    "### Apply trained fastText model to tweets df"
   ]
  },
  {
   "cell_type": "code",
   "execution_count": null,
   "metadata": {
    "hidden": true,
    "scrolled": true
   },
   "outputs": [],
   "source": [
    "tweets_df['ft_predict'] = tweets_df.text.apply(ft_model.predict)\n",
    "tweets_df[\"sentiment\"] = tweets_df.ft_predict.apply(lambda x: 1 if x[0][0] == '__label__positive' else\n",
    "                                                               0)\n",
    "tweets_df['sentiment_prob'] = tweets_df.ft_predict.apply(lambda x: x[1][0])"
   ]
  },
  {
   "cell_type": "code",
   "execution_count": null,
   "metadata": {
    "hidden": true
   },
   "outputs": [],
   "source": [
    "def print_tweet_sentiment(index=0):\n",
    "    \"\"\"\n",
    "    Create function where you either pass the index of the tweet in the tweets_df or a tweet and it returns the \n",
    "    sentiment for the tweet\n",
    "    \"\"\""
   ]
  },
  {
   "cell_type": "code",
   "execution_count": null,
   "metadata": {
    "hidden": true
   },
   "outputs": [],
   "source": []
  }
 ],
 "metadata": {
  "kernelspec": {
   "display_name": "Python [conda env:endsars] *",
   "language": "python",
   "name": "conda-env-endsars-py"
  },
  "language_info": {
   "codemirror_mode": {
    "name": "ipython",
    "version": 3
   },
   "file_extension": ".py",
   "mimetype": "text/x-python",
   "name": "python",
   "nbconvert_exporter": "python",
   "pygments_lexer": "ipython3",
   "version": "3.8.5"
  },
  "toc": {
   "base_numbering": 1,
   "nav_menu": {},
   "number_sections": true,
   "sideBar": true,
   "skip_h1_title": true,
   "title_cell": "Table of Contents",
   "title_sidebar": "Contents",
   "toc_cell": false,
   "toc_position": {
    "height": "calc(100% - 180px)",
    "left": "10px",
    "top": "150px",
    "width": "335px"
   },
   "toc_section_display": true,
   "toc_window_display": true
  }
 },
 "nbformat": 4,
 "nbformat_minor": 2
}
