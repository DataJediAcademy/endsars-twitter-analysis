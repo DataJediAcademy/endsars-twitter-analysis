{
 "cells": [
  {
   "cell_type": "markdown",
   "metadata": {},
   "source": [
    "# EndSARS Twitter Analysis\n",
    "\n",
    "Sentiment and Network Analysis of the #EndSARS protest movement that occured in 2020 in Nigeria. "
   ]
  },
  {
   "cell_type": "markdown",
   "metadata": {},
   "source": [
    "## SetUp"
   ]
  },
  {
   "cell_type": "markdown",
   "metadata": {},
   "source": [
    "### Import Python Libraries"
   ]
  },
  {
   "cell_type": "code",
   "execution_count": 51,
   "metadata": {},
   "outputs": [],
   "source": [
    "import pandas as pd\n",
    "import numpy as np\n",
    "import seaborn as sns\n",
    "import yaml\n",
    "import os\n",
    "import json\n",
    "import re\n",
    "import ast\n",
    "import csv\n",
    "import gensim\n",
    "from searchtweets import ResultStream, gen_request_parameters, load_credentials, collect_results\n",
    "# import fastText as ft\n",
    "from sklearn.model_selection import train_test_split\n",
    "import numpy as np\n",
    "from datetime import datetime, timedelta\n",
    "\n",
    "\n",
    "%matplotlib inline\n",
    "pd.set_option(\"display.max_rows\", 500)"
   ]
  },
  {
   "cell_type": "markdown",
   "metadata": {},
   "source": [
    "### Connecting to Twitter\n",
    "\n",
    "I suggest you use Twitter's official searchtweets api which is easy to use and reliable.\n",
    "<br>In order to get past the tweets retrieval limit, you might also need to  use the premium search api."
   ]
  },
  {
   "cell_type": "markdown",
   "metadata": {},
   "source": [
    "- Create a hidden yaml file (.yaml) which contains details about your twitter api keys\n",
    "- Create a variable that stores the twitter api credentials from the hiddem yaml file above."
   ]
  },
  {
   "cell_type": "markdown",
   "metadata": {},
   "source": [
    "**Keywords**: EndSARS, Soro Soke, Police Brutality, lekki toll gate, anti-robbery, lekki massacre, End bad governance,\n",
    "End swat, buhari is a bad boy, sanwa-olu is a murderer, #LekkiMassacre"
   ]
  },
  {
   "cell_type": "markdown",
   "metadata": {},
   "source": [
    "Helpful links:\n",
    "- https://developer.twitter.com/en/docs/twitter-api/tweets/search/api-reference/get-tweets-search-recent\n",
    "- https://github.com/twitterdev/search-tweets-python/tree/v2#using-the-twitter-search-apis-python-wrapper"
   ]
  },
  {
   "cell_type": "code",
   "execution_count": 82,
   "metadata": {},
   "outputs": [],
   "source": [
    "bode_all_search_args = load_credentials(\".twitter_keys.yaml\",\n",
    "                               yaml_key=\"search_tweets_all_bode_v2\",\n",
    "                               env_overwrite=False)"
   ]
  },
  {
   "cell_type": "code",
   "execution_count": 83,
   "metadata": {},
   "outputs": [],
   "source": [
    "def retrieve_tweets(start_date, \n",
    "                    end_date,\n",
    "                    max_tweets=30000,\n",
    "                    results_per_call=100,\n",
    "                    search_args=bode_all_search_args,\n",
    "                    keywords_query=\"\"\"#EndSARS OR \"Soro Soke\" OR \"lekki toll gate\" OR \"anti-robbery squad\" OR\n",
    "\"lekki massacre\" OR \"End bad governance\" OR \"End swat\" OR #LekkiMassacre lang:en\"\"\",\n",
    "                    tweet_resp_fields=\"id,author_id,created_at,text,geo,referenced_tweets,in_reply_to_user_id,\\\n",
    "                    entities,public_metrics\", \n",
    "                    expansions_resp_fields=\"author_id,entities.mentions.username,geo.place_id,in_reply_to_user_id,\\\n",
    "referenced_tweets.id,referenced_tweets.id.author_id\", \n",
    "                    user_resp_fields=\"id,created_at,location,username,verified,public_metrics\",\n",
    "                    place_resp_fields=\"country,country_code,full_name,geo,id,name,place_type\"):\n",
    "    \"\"\"\n",
    "    Create a function that gets tweets using the premium search API where matching a certain keyword during a\n",
    "    certain date range and returns all these tweets as a list\n",
    "    \"\"\"\n",
    "    tweets_query = gen_request_parameters(query=keywords_query, \n",
    "                                          start_time=start_date, \n",
    "                                          end_time=end_date,\n",
    "                                          expansions=expansions_resp_fields,\n",
    "                                          tweet_fields=tweet_response_fields,\n",
    "                                          user_fields=user_resp_fields,\n",
    "                                          place_fields=place_resp_fields,\n",
    "                                          results_per_call=results_per_call)\n",
    "    tweets = collect_results(tweets_query,\n",
    "                             max_tweets=max_tweets,\n",
    "                             result_stream_args=search_args)\n",
    "    return tweets"
   ]
  },
  {
   "cell_type": "code",
   "execution_count": 84,
   "metadata": {},
   "outputs": [],
   "source": [
    "def get_dt_after(start_date, delta=timedelta(days=7)):\n",
    "    start_dt = datetime.strptime(start_date, \"%Y-%m-%d\")\n",
    "    end_dt = start_dt + delta\n",
    "    return end_dt.strftime(\"%Y-%m-%d\")"
   ]
  },
  {
   "cell_type": "code",
   "execution_count": 90,
   "metadata": {},
   "outputs": [],
   "source": [
    "def create_tweets_df(date_list, \n",
    "                     max_tweets=30000,\n",
    "                     results_per_call=100,\n",
    "                     search_args=bode_all_search_args,\n",
    "                     keywords_query=\"\"\"#EndSARS OR \"Soro Soke\" OR \"lekki toll gate\" OR \"anti-robbery squad\" OR\n",
    "\"lekki massacre\" OR \"End bad governance\" OR \"End swat\" OR #LekkiMassacre lang:en\"\"\",\n",
    "                     tweet_resp_fields=\"id,author_id,created_at,text,geo,referenced_tweets,in_reply_to_user_id,\\\n",
    "                    entities,public_metrics\", \n",
    "                     expansions_resp_fields=\"author_id,entities.mentions.username,geo.place_id,in_reply_to_user_id,\\\n",
    "referenced_tweets.id,referenced_tweets.id.author_id\", \n",
    "                     user_resp_fields=\"id,created_at,location,username,verified,public_metrics\",\n",
    "                     place_resp_fields=\"country,country_code,full_name,geo,id,name,place_type\"):\n",
    "    \"\"\"\n",
    "    Create a function that Creates a dataframe from the tweets you've retrieved using the retieve_tweets function \n",
    "    you created above. This functions should also take a list of datest you want to get tweets from\n",
    "    \"\"\"\n",
    "    tweets = []\n",
    "    for date in dates_list:\n",
    "        tweets += retrieve_tweets(start_date=date, end_date=get_dt_after(start_date=date),\n",
    "                                  max_tweets=max_tweets, results_per_call=results_per_call, \n",
    "                                  search_args=search_args, keywords_query=keywords_query, \n",
    "                                  tweet_resp_fields=tweet_resp_fields, user_resp_fields=user_resp_fields, \n",
    "                                  place_resp_fields=place_resp_fields, expansions_resp_fields=expansions_resp_fields\n",
    "                                 )\n",
    "    df = pd.DataFrame(tweets)\n",
    "    df.to_pickle(f\"./data/endsars_tweets_{dates_list[0].replace('-', '')}_{dates_list[-1].replace('-', '')}.pkl\")\n",
    "    return df"
   ]
  },
  {
   "cell_type": "code",
   "execution_count": 86,
   "metadata": {},
   "outputs": [
    {
     "data": {
      "text/plain": [
       "'2021-03-01'"
      ]
     },
     "execution_count": 86,
     "metadata": {},
     "output_type": "execute_result"
    }
   ],
   "source": [
    "get_dt_after(\"2021-02-22\")"
   ]
  },
  {
   "cell_type": "code",
   "execution_count": 91,
   "metadata": {},
   "outputs": [],
   "source": [
    "tweets_df.to_pickle(\"./data/endsars_tweets_20201219_20201220.pkl\")"
   ]
  },
  {
   "cell_type": "markdown",
   "metadata": {},
   "source": [
    "## Fetch and Clean Data"
   ]
  },
  {
   "cell_type": "markdown",
   "metadata": {},
   "source": [
    "Use the functions you've created above to collect all the tweets"
   ]
  },
  {
   "cell_type": "code",
   "execution_count": 92,
   "metadata": {},
   "outputs": [],
   "source": [
    "dates_list = [\"2020-12-01\",  \"2020-12-08\"]"
   ]
  },
  {
   "cell_type": "code",
   "execution_count": 93,
   "metadata": {
    "scrolled": true
   },
   "outputs": [
    {
     "name": "stderr",
     "output_type": "stream",
     "text": [
      " HTTP Error code: 429: {\"title\":\"Too Many Requests\",\"type\":\"about:blank\",\"status\":429,\"detail\":\"Too Many Requests\"} | Too Many Requests\n",
      " Request payload: {'query': '#EndSARS OR \"Soro Soke\" OR \"lekki toll gate\" OR \"anti-robbery squad\" OR \"lekki massacre\" OR \"End bad governance\" OR \"End swat\" OR #LekkiMassacre lang:en', 'max_results': 100, 'start_time': '2020-12-01T00:00:00Z', 'end_time': '2020-12-08T00:00:00Z', 'tweet.fields': 'id,author_id,created_at,text,geo,referenced_tweets,in_reply_to_user_id,entities,public_metrics', 'user.fields': 'id,created_at,location,username,verified,public_metrics', 'place.fields': 'country,country_code,full_name,geo,id,name,place_type', 'expansions': 'author_id,entities.mentions.username,geo.place_id,in_reply_to_user_id,referenced_tweets.id,referenced_tweets.id.author_id', 'next_token': 'b26v89c19zqg8o3foseufn23jwqe1f4gslo1fic7gy9h9'}\n",
      "Rate limit hit... Will retry...\n",
      "Will retry in 4 seconds...\n",
      " HTTP Error code: 429: {\"title\":\"Too Many Requests\",\"type\":\"about:blank\",\"status\":429,\"detail\":\"Too Many Requests\"} | Too Many Requests\n",
      " Request payload: {'query': '#EndSARS OR \"Soro Soke\" OR \"lekki toll gate\" OR \"anti-robbery squad\" OR \"lekki massacre\" OR \"End bad governance\" OR \"End swat\" OR #LekkiMassacre lang:en', 'max_results': 100, 'start_time': '2020-12-01T00:00:00Z', 'end_time': '2020-12-08T00:00:00Z', 'tweet.fields': 'id,author_id,created_at,text,geo,referenced_tweets,in_reply_to_user_id,entities,public_metrics', 'user.fields': 'id,created_at,location,username,verified,public_metrics', 'place.fields': 'country,country_code,full_name,geo,id,name,place_type', 'expansions': 'author_id,entities.mentions.username,geo.place_id,in_reply_to_user_id,referenced_tweets.id,referenced_tweets.id.author_id', 'next_token': 'b26v89c19zqg8o3foseufn23ifljbksfs4370ut0xjud9'}\n",
      "Rate limit hit... Will retry...\n",
      "Will retry in 4 seconds...\n",
      " HTTP Error code: 429: {\"title\":\"Too Many Requests\",\"type\":\"about:blank\",\"status\":429,\"detail\":\"Too Many Requests\"} | Too Many Requests\n",
      " Request payload: {'query': '#EndSARS OR \"Soro Soke\" OR \"lekki toll gate\" OR \"anti-robbery squad\" OR \"lekki massacre\" OR \"End bad governance\" OR \"End swat\" OR #LekkiMassacre lang:en', 'max_results': 100, 'start_time': '2020-12-01T00:00:00Z', 'end_time': '2020-12-08T00:00:00Z', 'tweet.fields': 'id,author_id,created_at,text,geo,referenced_tweets,in_reply_to_user_id,entities,public_metrics', 'user.fields': 'id,created_at,location,username,verified,public_metrics', 'place.fields': 'country,country_code,full_name,geo,id,name,place_type', 'expansions': 'author_id,entities.mentions.username,geo.place_id,in_reply_to_user_id,referenced_tweets.id,referenced_tweets.id.author_id', 'next_token': 'b26v89c19zqg8o3foseufn23ieqxj4g34stxqrl4q4jnh'}\n",
      "Rate limit hit... Will retry...\n",
      "Will retry in 4 seconds...\n",
      " HTTP Error code: 429: {\"title\":\"Too Many Requests\",\"type\":\"about:blank\",\"status\":429,\"detail\":\"Too Many Requests\"} | Too Many Requests\n",
      " Request payload: {'query': '#EndSARS OR \"Soro Soke\" OR \"lekki toll gate\" OR \"anti-robbery squad\" OR \"lekki massacre\" OR \"End bad governance\" OR \"End swat\" OR #LekkiMassacre lang:en', 'max_results': 100, 'start_time': '2020-12-01T00:00:00Z', 'end_time': '2020-12-08T00:00:00Z', 'tweet.fields': 'id,author_id,created_at,text,geo,referenced_tweets,in_reply_to_user_id,entities,public_metrics', 'user.fields': 'id,created_at,location,username,verified,public_metrics', 'place.fields': 'country,country_code,full_name,geo,id,name,place_type', 'expansions': 'author_id,entities.mentions.username,geo.place_id,in_reply_to_user_id,referenced_tweets.id,referenced_tweets.id.author_id', 'next_token': 'b26v89c19zqg8o3foseufn23fcv5ibaqupqcn2w7tffjx'}\n",
      "Rate limit hit... Will retry...\n",
      "Will retry in 4 seconds...\n",
      " HTTP Error code: 429: {\"title\":\"Too Many Requests\",\"type\":\"about:blank\",\"status\":429,\"detail\":\"Too Many Requests\"} | Too Many Requests\n",
      " Request payload: {'query': '#EndSARS OR \"Soro Soke\" OR \"lekki toll gate\" OR \"anti-robbery squad\" OR \"lekki massacre\" OR \"End bad governance\" OR \"End swat\" OR #LekkiMassacre lang:en', 'max_results': 100, 'start_time': '2020-12-01T00:00:00Z', 'end_time': '2020-12-08T00:00:00Z', 'tweet.fields': 'id,author_id,created_at,text,geo,referenced_tweets,in_reply_to_user_id,entities,public_metrics', 'user.fields': 'id,created_at,location,username,verified,public_metrics', 'place.fields': 'country,country_code,full_name,geo,id,name,place_type', 'expansions': 'author_id,entities.mentions.username,geo.place_id,in_reply_to_user_id,referenced_tweets.id,referenced_tweets.id.author_id', 'next_token': 'b26v89c19zqg8o3foseufn23cc96yclun3la20ta5b059'}\n",
      "Rate limit hit... Will retry...\n",
      "Will retry in 4 seconds...\n",
      " HTTP Error code: 429: {\"title\":\"Too Many Requests\",\"type\":\"about:blank\",\"status\":429,\"detail\":\"Too Many Requests\"} | Too Many Requests\n",
      " Request payload: {'query': '#EndSARS OR \"Soro Soke\" OR \"lekki toll gate\" OR \"anti-robbery squad\" OR \"lekki massacre\" OR \"End bad governance\" OR \"End swat\" OR #LekkiMassacre lang:en', 'max_results': 100, 'start_time': '2020-12-01T00:00:00Z', 'end_time': '2020-12-08T00:00:00Z', 'tweet.fields': 'id,author_id,created_at,text,geo,referenced_tweets,in_reply_to_user_id,entities,public_metrics', 'user.fields': 'id,created_at,location,username,verified,public_metrics', 'place.fields': 'country,country_code,full_name,geo,id,name,place_type', 'expansions': 'author_id,entities.mentions.username,geo.place_id,in_reply_to_user_id,referenced_tweets.id,referenced_tweets.id.author_id', 'next_token': 'b26v89c19zqg8o3foseufn23cbel553c2t0w2rwu4xc3h'}\n",
      "Rate limit hit... Will retry...\n",
      "Will retry in 4 seconds...\n",
      " HTTP Error code: 429: {\"title\":\"Too Many Requests\",\"type\":\"about:blank\",\"status\":429,\"detail\":\"Too Many Requests\"} | Too Many Requests\n",
      " Request payload: {'query': '#EndSARS OR \"Soro Soke\" OR \"lekki toll gate\" OR \"anti-robbery squad\" OR \"lekki massacre\" OR \"End bad governance\" OR \"End swat\" OR #LekkiMassacre lang:en', 'max_results': 100, 'start_time': '2020-12-01T00:00:00Z', 'end_time': '2020-12-08T00:00:00Z', 'tweet.fields': 'id,author_id,created_at,text,geo,referenced_tweets,in_reply_to_user_id,entities,public_metrics', 'user.fields': 'id,created_at,location,username,verified,public_metrics', 'place.fields': 'country,country_code,full_name,geo,id,name,place_type', 'expansions': 'author_id,entities.mentions.username,geo.place_id,in_reply_to_user_id,referenced_tweets.id,referenced_tweets.id.author_id', 'next_token': 'b26v89c19zqg8o3foseufn1sxl4g990thu0qgg2j1fv5p'}\n",
      "Rate limit hit... Will retry...\n",
      "Will retry in 4 seconds...\n",
      " HTTP Error code: 429: {\"title\":\"Too Many Requests\",\"type\":\"about:blank\",\"status\":429,\"detail\":\"Too Many Requests\"} | Too Many Requests\n",
      " Request payload: {'query': '#EndSARS OR \"Soro Soke\" OR \"lekki toll gate\" OR \"anti-robbery squad\" OR \"lekki massacre\" OR \"End bad governance\" OR \"End swat\" OR #LekkiMassacre lang:en', 'max_results': 100, 'start_time': '2020-12-01T00:00:00Z', 'end_time': '2020-12-08T00:00:00Z', 'tweet.fields': 'id,author_id,created_at,text,geo,referenced_tweets,in_reply_to_user_id,entities,public_metrics', 'user.fields': 'id,created_at,location,username,verified,public_metrics', 'place.fields': 'country,country_code,full_name,geo,id,name,place_type', 'expansions': 'author_id,entities.mentions.username,geo.place_id,in_reply_to_user_id,referenced_tweets.id,referenced_tweets.id.author_id', 'next_token': 'b26v89c19zqg8o3foseufn1sxk9saq57r4nt0uccy9o59'}\n",
      "Rate limit hit... Will retry...\n",
      "Will retry in 4 seconds...\n",
      " HTTP Error code: 429: {\"title\":\"Too Many Requests\",\"type\":\"about:blank\",\"status\":429,\"detail\":\"Too Many Requests\"} | Too Many Requests\n",
      " Request payload: {'query': '#EndSARS OR \"Soro Soke\" OR \"lekki toll gate\" OR \"anti-robbery squad\" OR \"lekki massacre\" OR \"End bad governance\" OR \"End swat\" OR #LekkiMassacre lang:en', 'max_results': 100, 'start_time': '2020-12-01T00:00:00Z', 'end_time': '2020-12-08T00:00:00Z', 'tweet.fields': 'id,author_id,created_at,text,geo,referenced_tweets,in_reply_to_user_id,entities,public_metrics', 'user.fields': 'id,created_at,location,username,verified,public_metrics', 'place.fields': 'country,country_code,full_name,geo,id,name,place_type', 'expansions': 'author_id,entities.mentions.username,geo.place_id,in_reply_to_user_id,referenced_tweets.id,referenced_tweets.id.author_id', 'next_token': 'b26v89c19zqg8o3foseufn1sxjmv12z98n2lxjd3u17jx'}\n"
     ]
    },
    {
     "name": "stderr",
     "output_type": "stream",
     "text": [
      "Rate limit hit... Will retry...\n",
      "Will retry in 4 seconds...\n",
      " HTTP Error code: 429: {\"title\":\"Too Many Requests\",\"type\":\"about:blank\",\"status\":429,\"detail\":\"Too Many Requests\"} | Too Many Requests\n",
      " Request payload: {'query': '#EndSARS OR \"Soro Soke\" OR \"lekki toll gate\" OR \"anti-robbery squad\" OR \"lekki massacre\" OR \"End bad governance\" OR \"End swat\" OR #LekkiMassacre lang:en', 'max_results': 100, 'start_time': '2020-12-01T00:00:00Z', 'end_time': '2020-12-08T00:00:00Z', 'tweet.fields': 'id,author_id,created_at,text,geo,referenced_tweets,in_reply_to_user_id,entities,public_metrics', 'user.fields': 'id,created_at,location,username,verified,public_metrics', 'place.fields': 'country,country_code,full_name,geo,id,name,place_type', 'expansions': 'author_id,entities.mentions.username,geo.place_id,in_reply_to_user_id,referenced_tweets.id,referenced_tweets.id.author_id', 'next_token': 'b26v89c19zqg8o3foseufn1sw2i7w1wvzxvotkmeka8al'}\n",
      "Rate limit hit... Will retry...\n",
      "Will retry in 4 seconds...\n",
      " HTTP Error code: 429: {\"title\":\"Too Many Requests\",\"type\":\"about:blank\",\"status\":429,\"detail\":\"Too Many Requests\"} | Too Many Requests\n",
      " Request payload: {'query': '#EndSARS OR \"Soro Soke\" OR \"lekki toll gate\" OR \"anti-robbery squad\" OR \"lekki massacre\" OR \"End bad governance\" OR \"End swat\" OR #LekkiMassacre lang:en', 'max_results': 100, 'start_time': '2020-12-01T00:00:00Z', 'end_time': '2020-12-08T00:00:00Z', 'tweet.fields': 'id,author_id,created_at,text,geo,referenced_tweets,in_reply_to_user_id,entities,public_metrics', 'user.fields': 'id,created_at,location,username,verified,public_metrics', 'place.fields': 'country,country_code,full_name,geo,id,name,place_type', 'expansions': 'author_id,entities.mentions.username,geo.place_id,in_reply_to_user_id,referenced_tweets.id,referenced_tweets.id.author_id', 'next_token': 'b26v89c19zqg8o3foseufn1suk3hk6oym0kmrwg1qo67x'}\n",
      "Rate limit hit... Will retry...\n",
      "Will retry in 4 seconds...\n",
      " HTTP Error code: 429: {\"title\":\"Too Many Requests\",\"type\":\"about:blank\",\"status\":429,\"detail\":\"Too Many Requests\"} | Too Many Requests\n",
      " Request payload: {'query': '#EndSARS OR \"Soro Soke\" OR \"lekki toll gate\" OR \"anti-robbery squad\" OR \"lekki massacre\" OR \"End bad governance\" OR \"End swat\" OR #LekkiMassacre lang:en', 'max_results': 100, 'start_time': '2020-12-01T00:00:00Z', 'end_time': '2020-12-08T00:00:00Z', 'tweet.fields': 'id,author_id,created_at,text,geo,referenced_tweets,in_reply_to_user_id,entities,public_metrics', 'user.fields': 'id,created_at,location,username,verified,public_metrics', 'place.fields': 'country,country_code,full_name,geo,id,name,place_type', 'expansions': 'author_id,entities.mentions.username,geo.place_id,in_reply_to_user_id,referenced_tweets.id,referenced_tweets.id.author_id', 'next_token': 'b26v89c19zqg8o3foseufn1sujg8f8zbesdxscm2pxh19'}\n",
      "Rate limit hit... Will retry...\n",
      "Will retry in 4 seconds...\n",
      " HTTP Error code: 429: {\"title\":\"Too Many Requests\",\"type\":\"about:blank\",\"status\":429,\"detail\":\"Too Many Requests\"} | Too Many Requests\n",
      " Request payload: {'query': '#EndSARS OR \"Soro Soke\" OR \"lekki toll gate\" OR \"anti-robbery squad\" OR \"lekki massacre\" OR \"End bad governance\" OR \"End swat\" OR #LekkiMassacre lang:en', 'max_results': 100, 'start_time': '2020-12-01T00:00:00Z', 'end_time': '2020-12-08T00:00:00Z', 'tweet.fields': 'id,author_id,created_at,text,geo,referenced_tweets,in_reply_to_user_id,entities,public_metrics', 'user.fields': 'id,created_at,location,username,verified,public_metrics', 'place.fields': 'country,country_code,full_name,geo,id,name,place_type', 'expansions': 'author_id,entities.mentions.username,geo.place_id,in_reply_to_user_id,referenced_tweets.id,referenced_tweets.id.author_id', 'next_token': 'b26v89c19zqg8o3foseufn1sszjsm90k0assi7ccljf5p'}\n",
      "Rate limit hit... Will retry...\n",
      "Will retry in 4 seconds...\n",
      " HTTP Error code: 429: {\"title\":\"Too Many Requests\",\"type\":\"about:blank\",\"status\":429,\"detail\":\"Too Many Requests\"} | Too Many Requests\n",
      " Request payload: {'query': '#EndSARS OR \"Soro Soke\" OR \"lekki toll gate\" OR \"anti-robbery squad\" OR \"lekki massacre\" OR \"End bad governance\" OR \"End swat\" OR #LekkiMassacre lang:en', 'max_results': 100, 'start_time': '2020-12-01T00:00:00Z', 'end_time': '2020-12-08T00:00:00Z', 'tweet.fields': 'id,author_id,created_at,text,geo,referenced_tweets,in_reply_to_user_id,entities,public_metrics', 'user.fields': 'id,created_at,location,username,verified,public_metrics', 'place.fields': 'country,country_code,full_name,geo,id,name,place_type', 'expansions': 'author_id,entities.mentions.username,geo.place_id,in_reply_to_user_id,referenced_tweets.id,referenced_tweets.id.author_id', 'next_token': 'b26v89c19zqg8o3foseufn1spyqgbqr9a6hq0wtwcd4sd'}\n",
      "Rate limit hit... Will retry...\n",
      "Will retry in 4 seconds...\n",
      " HTTP Error code: 429: {\"title\":\"Too Many Requests\",\"type\":\"about:blank\",\"status\":429,\"detail\":\"Too Many Requests\"} | Too Many Requests\n",
      " Request payload: {'query': '#EndSARS OR \"Soro Soke\" OR \"lekki toll gate\" OR \"anti-robbery squad\" OR \"lekki massacre\" OR \"End bad governance\" OR \"End swat\" OR #LekkiMassacre lang:en', 'max_results': 100, 'start_time': '2020-12-01T00:00:00Z', 'end_time': '2020-12-08T00:00:00Z', 'tweet.fields': 'id,author_id,created_at,text,geo,referenced_tweets,in_reply_to_user_id,entities,public_metrics', 'user.fields': 'id,created_at,location,username,verified,public_metrics', 'place.fields': 'country,country_code,full_name,geo,id,name,place_type', 'expansions': 'author_id,entities.mentions.username,geo.place_id,in_reply_to_user_id,referenced_tweets.id,referenced_tweets.id.author_id', 'next_token': 'b26v89c19zqg8o3foseufn1smyk06rm745ruoe1fjxugt'}\n",
      "Rate limit hit... Will retry...\n",
      "Will retry in 4 seconds...\n",
      " HTTP Error code: 429: {\"title\":\"Too Many Requests\",\"type\":\"about:blank\",\"status\":429,\"detail\":\"Too Many Requests\"} | Too Many Requests\n",
      " Request payload: {'query': '#EndSARS OR \"Soro Soke\" OR \"lekki toll gate\" OR \"anti-robbery squad\" OR \"lekki massacre\" OR \"End bad governance\" OR \"End swat\" OR #LekkiMassacre lang:en', 'max_results': 100, 'start_time': '2020-12-01T00:00:00Z', 'end_time': '2020-12-08T00:00:00Z', 'tweet.fields': 'id,author_id,created_at,text,geo,referenced_tweets,in_reply_to_user_id,entities,public_metrics', 'user.fields': 'id,created_at,location,username,verified,public_metrics', 'place.fields': 'country,country_code,full_name,geo,id,name,place_type', 'expansions': 'author_id,entities.mentions.username,geo.place_id,in_reply_to_user_id,referenced_tweets.id,referenced_tweets.id.author_id', 'next_token': 'b26v89c19zqg8o3foseufn1slfajskspabvsou1ow1kzh'}\n",
      "Rate limit hit... Will retry...\n",
      "Will retry in 4 seconds...\n",
      " HTTP Error code: 429: {\"title\":\"Too Many Requests\",\"type\":\"about:blank\",\"status\":429,\"detail\":\"Too Many Requests\"} | Too Many Requests\n",
      " Request payload: {'query': '#EndSARS OR \"Soro Soke\" OR \"lekki toll gate\" OR \"anti-robbery squad\" OR \"lekki massacre\" OR \"End bad governance\" OR \"End swat\" OR #LekkiMassacre lang:en', 'max_results': 100, 'start_time': '2020-12-01T00:00:00Z', 'end_time': '2020-12-08T00:00:00Z', 'tweet.fields': 'id,author_id,created_at,text,geo,referenced_tweets,in_reply_to_user_id,entities,public_metrics', 'user.fields': 'id,created_at,location,username,verified,public_metrics', 'place.fields': 'country,country_code,full_name,geo,id,name,place_type', 'expansions': 'author_id,entities.mentions.username,geo.place_id,in_reply_to_user_id,referenced_tweets.id,referenced_tweets.id.author_id', 'next_token': 'b26v89c19zqg8o3foseufn1sleng15wd5vqyfk7t1eu0t'}\n",
      "Rate limit hit... Will retry...\n",
      "Will retry in 4 seconds...\n",
      " HTTP Error code: 429: {\"title\":\"Too Many Requests\",\"type\":\"about:blank\",\"status\":429,\"detail\":\"Too Many Requests\"} | Too Many Requests\n",
      " Request payload: {'query': '#EndSARS OR \"Soro Soke\" OR \"lekki toll gate\" OR \"anti-robbery squad\" OR \"lekki massacre\" OR \"End bad governance\" OR \"End swat\" OR #LekkiMassacre lang:en', 'max_results': 100, 'start_time': '2020-12-01T00:00:00Z', 'end_time': '2020-12-08T00:00:00Z', 'tweet.fields': 'id,author_id,created_at,text,geo,referenced_tweets,in_reply_to_user_id,entities,public_metrics', 'user.fields': 'id,created_at,location,username,verified,public_metrics', 'place.fields': 'country,country_code,full_name,geo,id,name,place_type', 'expansions': 'author_id,entities.mentions.username,geo.place_id,in_reply_to_user_id,referenced_tweets.id,referenced_tweets.id.author_id', 'next_token': 'b26v89c19zqg8o3foseufn1sjvtblegadb7ft0c37qwe5'}\n"
     ]
    },
    {
     "name": "stderr",
     "output_type": "stream",
     "text": [
      "Rate limit hit... Will retry...\n",
      "Will retry in 4 seconds...\n",
      " HTTP Error code: 429: {\"title\":\"Too Many Requests\",\"type\":\"about:blank\",\"status\":429,\"detail\":\"Too Many Requests\"} | Too Many Requests\n",
      " Request payload: {'query': '#EndSARS OR \"Soro Soke\" OR \"lekki toll gate\" OR \"anti-robbery squad\" OR \"lekki massacre\" OR \"End bad governance\" OR \"End swat\" OR #LekkiMassacre lang:en', 'max_results': 100, 'start_time': '2020-12-01T00:00:00Z', 'end_time': '2020-12-08T00:00:00Z', 'tweet.fields': 'id,author_id,created_at,text,geo,referenced_tweets,in_reply_to_user_id,entities,public_metrics', 'user.fields': 'id,created_at,location,username,verified,public_metrics', 'place.fields': 'country,country_code,full_name,geo,id,name,place_type', 'expansions': 'author_id,entities.mentions.username,geo.place_id,in_reply_to_user_id,referenced_tweets.id,referenced_tweets.id.author_id', 'next_token': 'b26v89c19zqg8o3foseufn1i55qwag1qts6unnbmd23jx'}\n",
      "Rate limit hit... Will retry...\n",
      "Will retry in 4 seconds...\n",
      " HTTP Error code: 429: {\"title\":\"Too Many Requests\",\"type\":\"about:blank\",\"status\":429,\"detail\":\"Too Many Requests\"} | Too Many Requests\n",
      " Request payload: {'query': '#EndSARS OR \"Soro Soke\" OR \"lekki toll gate\" OR \"anti-robbery squad\" OR \"lekki massacre\" OR \"End bad governance\" OR \"End swat\" OR #LekkiMassacre lang:en', 'max_results': 100, 'start_time': '2020-12-01T00:00:00Z', 'end_time': '2020-12-08T00:00:00Z', 'tweet.fields': 'id,author_id,created_at,text,geo,referenced_tweets,in_reply_to_user_id,entities,public_metrics', 'user.fields': 'id,created_at,location,username,verified,public_metrics', 'place.fields': 'country,country_code,full_name,geo,id,name,place_type', 'expansions': 'author_id,entities.mentions.username,geo.place_id,in_reply_to_user_id,referenced_tweets.id,referenced_tweets.id.author_id', 'next_token': 'b26v89c19zqg8o3foseufn1i554295s4gx8ngw8s4wn0d'}\n",
      "Rate limit hit... Will retry...\n",
      "Will retry in 4 seconds...\n",
      " HTTP Error code: 429: {\"title\":\"Too Many Requests\",\"type\":\"about:blank\",\"status\":429,\"detail\":\"Too Many Requests\"} | Too Many Requests\n",
      " Request payload: {'query': '#EndSARS OR \"Soro Soke\" OR \"lekki toll gate\" OR \"anti-robbery squad\" OR \"lekki massacre\" OR \"End bad governance\" OR \"End swat\" OR #LekkiMassacre lang:en', 'max_results': 100, 'start_time': '2020-12-01T00:00:00Z', 'end_time': '2020-12-08T00:00:00Z', 'tweet.fields': 'id,author_id,created_at,text,geo,referenced_tweets,in_reply_to_user_id,entities,public_metrics', 'user.fields': 'id,created_at,location,username,verified,public_metrics', 'place.fields': 'country,country_code,full_name,geo,id,name,place_type', 'expansions': 'author_id,entities.mentions.username,geo.place_id,in_reply_to_user_id,referenced_tweets.id,referenced_tweets.id.author_id', 'next_token': 'b26v89c19zqg8o3foseufn1i3m9rcudbxio3f8d5n10n1'}\n",
      "Rate limit hit... Will retry...\n",
      "Will retry in 4 seconds...\n",
      " HTTP Error code: 429: {\"title\":\"Too Many Requests\",\"type\":\"about:blank\",\"status\":429,\"detail\":\"Too Many Requests\"} | Too Many Requests\n",
      " Request payload: {'query': '#EndSARS OR \"Soro Soke\" OR \"lekki toll gate\" OR \"anti-robbery squad\" OR \"lekki massacre\" OR \"End bad governance\" OR \"End swat\" OR #LekkiMassacre lang:en', 'max_results': 100, 'start_time': '2020-12-01T00:00:00Z', 'end_time': '2020-12-08T00:00:00Z', 'tweet.fields': 'id,author_id,created_at,text,geo,referenced_tweets,in_reply_to_user_id,entities,public_metrics', 'user.fields': 'id,created_at,location,username,verified,public_metrics', 'place.fields': 'country,country_code,full_name,geo,id,name,place_type', 'expansions': 'author_id,entities.mentions.username,geo.place_id,in_reply_to_user_id,referenced_tweets.id,referenced_tweets.id.author_id', 'next_token': 'b26v89c19zqg8o3foseufn1i230axfobdqk8a725bv6v1'}\n",
      "Rate limit hit... Will retry...\n",
      "Will retry in 4 seconds...\n",
      " HTTP Error code: 429: {\"title\":\"Too Many Requests\",\"type\":\"about:blank\",\"status\":429,\"detail\":\"Too Many Requests\"} | Too Many Requests\n",
      " Request payload: {'query': '#EndSARS OR \"Soro Soke\" OR \"lekki toll gate\" OR \"anti-robbery squad\" OR \"lekki massacre\" OR \"End bad governance\" OR \"End swat\" OR #LekkiMassacre lang:en', 'max_results': 100, 'start_time': '2020-12-01T00:00:00Z', 'end_time': '2020-12-08T00:00:00Z', 'tweet.fields': 'id,author_id,created_at,text,geo,referenced_tweets,in_reply_to_user_id,entities,public_metrics', 'user.fields': 'id,created_at,location,username,verified,public_metrics', 'place.fields': 'country,country_code,full_name,geo,id,name,place_type', 'expansions': 'author_id,entities.mentions.username,geo.place_id,in_reply_to_user_id,referenced_tweets.id,referenced_tweets.id.author_id', 'next_token': 'b26v89c19zqg8o3foseufn1i0lvwevx0lrll4xxgc4c59'}\n",
      "Rate limit hit... Will retry...\n",
      "Will retry in 4 seconds...\n",
      " HTTP Error code: 429: {\"title\":\"Too Many Requests\",\"type\":\"about:blank\",\"status\":429,\"detail\":\"Too Many Requests\"} | Too Many Requests\n",
      " Request payload: {'query': '#EndSARS OR \"Soro Soke\" OR \"lekki toll gate\" OR \"anti-robbery squad\" OR \"lekki massacre\" OR \"End bad governance\" OR \"End swat\" OR #LekkiMassacre lang:en', 'max_results': 100, 'start_time': '2020-12-01T00:00:00Z', 'end_time': '2020-12-08T00:00:00Z', 'tweet.fields': 'id,author_id,created_at,text,geo,referenced_tweets,in_reply_to_user_id,entities,public_metrics', 'user.fields': 'id,created_at,location,username,verified,public_metrics', 'place.fields': 'country,country_code,full_name,geo,id,name,place_type', 'expansions': 'author_id,entities.mentions.username,geo.place_id,in_reply_to_user_id,referenced_tweets.id,referenced_tweets.id.author_id', 'next_token': 'b26v89c19zqg8o3foseufn1hz3h0ow6i9vwk5y13wx5dp'}\n",
      "Rate limit hit... Will retry...\n",
      "Will retry in 4 seconds...\n",
      " HTTP Error code: 429: {\"title\":\"Too Many Requests\",\"type\":\"about:blank\",\"status\":429,\"detail\":\"Too Many Requests\"} | Too Many Requests\n",
      " Request payload: {'query': '#EndSARS OR \"Soro Soke\" OR \"lekki toll gate\" OR \"anti-robbery squad\" OR \"lekki massacre\" OR \"End bad governance\" OR \"End swat\" OR #LekkiMassacre lang:en', 'max_results': 100, 'start_time': '2020-12-01T00:00:00Z', 'end_time': '2020-12-08T00:00:00Z', 'tweet.fields': 'id,author_id,created_at,text,geo,referenced_tweets,in_reply_to_user_id,entities,public_metrics', 'user.fields': 'id,created_at,location,username,verified,public_metrics', 'place.fields': 'country,country_code,full_name,geo,id,name,place_type', 'expansions': 'author_id,entities.mentions.username,geo.place_id,in_reply_to_user_id,referenced_tweets.id,referenced_tweets.id.author_id', 'next_token': 'b26v89c19zqg8o3foseufn1hz31nnq8bk9if3pf1eho59'}\n",
      "Rate limit hit... Will retry...\n",
      "Will retry in 4 seconds...\n",
      " HTTP Error code: 429: {\"title\":\"Too Many Requests\",\"type\":\"about:blank\",\"status\":429,\"detail\":\"Too Many Requests\"} | Too Many Requests\n",
      " Request payload: {'query': '#EndSARS OR \"Soro Soke\" OR \"lekki toll gate\" OR \"anti-robbery squad\" OR \"lekki massacre\" OR \"End bad governance\" OR \"End swat\" OR #LekkiMassacre lang:en', 'max_results': 100, 'start_time': '2020-12-01T00:00:00Z', 'end_time': '2020-12-08T00:00:00Z', 'tweet.fields': 'id,author_id,created_at,text,geo,referenced_tweets,in_reply_to_user_id,entities,public_metrics', 'user.fields': 'id,created_at,location,username,verified,public_metrics', 'place.fields': 'country,country_code,full_name,geo,id,name,place_type', 'expansions': 'author_id,entities.mentions.username,geo.place_id,in_reply_to_user_id,referenced_tweets.id,referenced_tweets.id.author_id', 'next_token': 'b26v89c19zqg8o3foseufn1hz2malt1obm72ph6xerk3h'}\n",
      "Rate limit hit... Will retry...\n",
      "Will retry in 4 seconds...\n",
      " HTTP Error code: 429: {\"title\":\"Too Many Requests\",\"type\":\"about:blank\",\"status\":429,\"detail\":\"Too Many Requests\"} | Too Many Requests\n",
      " Request payload: {'query': '#EndSARS OR \"Soro Soke\" OR \"lekki toll gate\" OR \"anti-robbery squad\" OR \"lekki massacre\" OR \"End bad governance\" OR \"End swat\" OR #LekkiMassacre lang:en', 'max_results': 100, 'start_time': '2020-12-01T00:00:00Z', 'end_time': '2020-12-08T00:00:00Z', 'tweet.fields': 'id,author_id,created_at,text,geo,referenced_tweets,in_reply_to_user_id,entities,public_metrics', 'user.fields': 'id,created_at,location,username,verified,public_metrics', 'place.fields': 'country,country_code,full_name,geo,id,name,place_type', 'expansions': 'author_id,entities.mentions.username,geo.place_id,in_reply_to_user_id,referenced_tweets.id,referenced_tweets.id.author_id', 'next_token': 'b26v89c19zqg8o3foseufn1hz26xiz12try7jp6negwal'}\n"
     ]
    },
    {
     "name": "stderr",
     "output_type": "stream",
     "text": [
      "Rate limit hit... Will retry...\n",
      "Will retry in 4 seconds...\n",
      " HTTP Error code: 429: {\"title\":\"Too Many Requests\",\"type\":\"about:blank\",\"status\":429,\"detail\":\"Too Many Requests\"} | Too Many Requests\n",
      " Request payload: {'query': '#EndSARS OR \"Soro Soke\" OR \"lekki toll gate\" OR \"anti-robbery squad\" OR \"lekki massacre\" OR \"End bad governance\" OR \"End swat\" OR #LekkiMassacre lang:en', 'max_results': 100, 'start_time': '2020-12-01T00:00:00Z', 'end_time': '2020-12-08T00:00:00Z', 'tweet.fields': 'id,author_id,created_at,text,geo,referenced_tweets,in_reply_to_user_id,entities,public_metrics', 'user.fields': 'id,created_at,location,username,verified,public_metrics', 'place.fields': 'country,country_code,full_name,geo,id,name,place_type', 'expansions': 'author_id,entities.mentions.username,geo.place_id,in_reply_to_user_id,referenced_tweets.id,referenced_tweets.id.author_id', 'next_token': 'b26v89c19zqg8o3foseufn1hz1ribkvuw9yevytfrinwd'}\n",
      "Rate limit hit... Will retry...\n",
      "Will retry in 4 seconds...\n",
      " HTTP Error code: 429: {\"title\":\"Too Many Requests\",\"type\":\"about:blank\",\"status\":429,\"detail\":\"Too Many Requests\"} | Too Many Requests\n",
      " Request payload: {'query': '#EndSARS OR \"Soro Soke\" OR \"lekki toll gate\" OR \"anti-robbery squad\" OR \"lekki massacre\" OR \"End bad governance\" OR \"End swat\" OR #LekkiMassacre lang:en', 'max_results': 100, 'start_time': '2020-12-01T00:00:00Z', 'end_time': '2020-12-08T00:00:00Z', 'tweet.fields': 'id,author_id,created_at,text,geo,referenced_tweets,in_reply_to_user_id,entities,public_metrics', 'user.fields': 'id,created_at,location,username,verified,public_metrics', 'place.fields': 'country,country_code,full_name,geo,id,name,place_type', 'expansions': 'author_id,entities.mentions.username,geo.place_id,in_reply_to_user_id,referenced_tweets.id,referenced_tweets.id.author_id', 'next_token': 'b26v89c19zqg8o3foseufn1hxkujptcxfmoibics3qut9'}\n",
      "Rate limit hit... Will retry...\n",
      "Will retry in 4 seconds...\n",
      " HTTP Error code: 429: {\"title\":\"Too Many Requests\",\"type\":\"about:blank\",\"status\":429,\"detail\":\"Too Many Requests\"} | Too Many Requests\n",
      " Request payload: {'query': '#EndSARS OR \"Soro Soke\" OR \"lekki toll gate\" OR \"anti-robbery squad\" OR \"lekki massacre\" OR \"End bad governance\" OR \"End swat\" OR #LekkiMassacre lang:en', 'max_results': 100, 'start_time': '2020-12-01T00:00:00Z', 'end_time': '2020-12-08T00:00:00Z', 'tweet.fields': 'id,author_id,created_at,text,geo,referenced_tweets,in_reply_to_user_id,entities,public_metrics', 'user.fields': 'id,created_at,location,username,verified,public_metrics', 'place.fields': 'country,country_code,full_name,geo,id,name,place_type', 'expansions': 'author_id,entities.mentions.username,geo.place_id,in_reply_to_user_id,referenced_tweets.id,referenced_tweets.id.author_id', 'next_token': 'b26v89c19zqg8o3foseufn1hw1di0epcv47pf77swb5h9'}\n",
      "Rate limit hit... Will retry...\n",
      "Will retry in 4 seconds...\n",
      " HTTP Error code: 429: {\"title\":\"Too Many Requests\",\"type\":\"about:blank\",\"status\":429,\"detail\":\"Too Many Requests\"} | Too Many Requests\n",
      " Request payload: {'query': '#EndSARS OR \"Soro Soke\" OR \"lekki toll gate\" OR \"anti-robbery squad\" OR \"lekki massacre\" OR \"End bad governance\" OR \"End swat\" OR #LekkiMassacre lang:en', 'max_results': 100, 'start_time': '2020-12-01T00:00:00Z', 'end_time': '2020-12-08T00:00:00Z', 'tweet.fields': 'id,author_id,created_at,text,geo,referenced_tweets,in_reply_to_user_id,entities,public_metrics', 'user.fields': 'id,created_at,location,username,verified,public_metrics', 'place.fields': 'country,country_code,full_name,geo,id,name,place_type', 'expansions': 'author_id,entities.mentions.username,geo.place_id,in_reply_to_user_id,referenced_tweets.id,referenced_tweets.id.author_id', 'next_token': 'b26v89c19zqg8o3foseufn1huibvi8ur19snj5ec19htp'}\n",
      "Rate limit hit... Will retry...\n",
      "Will retry in 4 seconds...\n",
      " HTTP Error code: 429: {\"title\":\"Too Many Requests\",\"type\":\"about:blank\",\"status\":429,\"detail\":\"Too Many Requests\"} | Too Many Requests\n",
      " Request payload: {'query': '#EndSARS OR \"Soro Soke\" OR \"lekki toll gate\" OR \"anti-robbery squad\" OR \"lekki massacre\" OR \"End bad governance\" OR \"End swat\" OR #LekkiMassacre lang:en', 'max_results': 100, 'start_time': '2020-12-01T00:00:00Z', 'end_time': '2020-12-08T00:00:00Z', 'tweet.fields': 'id,author_id,created_at,text,geo,referenced_tweets,in_reply_to_user_id,entities,public_metrics', 'user.fields': 'id,created_at,location,username,verified,public_metrics', 'place.fields': 'country,country_code,full_name,geo,id,name,place_type', 'expansions': 'author_id,entities.mentions.username,geo.place_id,in_reply_to_user_id,referenced_tweets.id,referenced_tweets.id.author_id', 'next_token': 'b26v89c19zqg8o3foseufn1hszwvi83d2l2r8v8kuinp9'}\n",
      "Rate limit hit... Will retry...\n",
      "Will retry in 4 seconds...\n",
      " HTTP Error code: 429: {\"title\":\"Too Many Requests\",\"type\":\"about:blank\",\"status\":429,\"detail\":\"Too Many Requests\"} | Too Many Requests\n",
      " Request payload: {'query': '#EndSARS OR \"Soro Soke\" OR \"lekki toll gate\" OR \"anti-robbery squad\" OR \"lekki massacre\" OR \"End bad governance\" OR \"End swat\" OR #LekkiMassacre lang:en', 'max_results': 100, 'start_time': '2020-12-01T00:00:00Z', 'end_time': '2020-12-08T00:00:00Z', 'tweet.fields': 'id,author_id,created_at,text,geo,referenced_tweets,in_reply_to_user_id,entities,public_metrics', 'user.fields': 'id,created_at,location,username,verified,public_metrics', 'place.fields': 'country,country_code,full_name,geo,id,name,place_type', 'expansions': 'author_id,entities.mentions.username,geo.place_id,in_reply_to_user_id,referenced_tweets.id,referenced_tweets.id.author_id', 'next_token': 'b26v89c19zqg8o3foseufn1hszhkl0msopo8nn59xkiv1'}\n",
      "Rate limit hit... Will retry...\n",
      "Will retry in 4 seconds...\n",
      " HTTP Error code: 429: {\"title\":\"Too Many Requests\",\"type\":\"about:blank\",\"status\":429,\"detail\":\"Too Many Requests\"} | Too Many Requests\n",
      " Request payload: {'query': '#EndSARS OR \"Soro Soke\" OR \"lekki toll gate\" OR \"anti-robbery squad\" OR \"lekki massacre\" OR \"End bad governance\" OR \"End swat\" OR #LekkiMassacre lang:en', 'max_results': 100, 'start_time': '2020-12-01T00:00:00Z', 'end_time': '2020-12-08T00:00:00Z', 'tweet.fields': 'id,author_id,created_at,text,geo,referenced_tweets,in_reply_to_user_id,entities,public_metrics', 'user.fields': 'id,created_at,location,username,verified,public_metrics', 'place.fields': 'country,country_code,full_name,geo,id,name,place_type', 'expansions': 'author_id,entities.mentions.username,geo.place_id,in_reply_to_user_id,referenced_tweets.id,referenced_tweets.id.author_id', 'next_token': 'b26v89c19zqg8o3foseufn1hsz29ph1qgv6er666jet19'}\n",
      "Rate limit hit... Will retry...\n",
      "Will retry in 4 seconds...\n",
      " HTTP Error code: 429: {\"title\":\"Too Many Requests\",\"type\":\"about:blank\",\"status\":429,\"detail\":\"Too Many Requests\"} | Too Many Requests\n",
      " Request payload: {'query': '#EndSARS OR \"Soro Soke\" OR \"lekki toll gate\" OR \"anti-robbery squad\" OR \"lekki massacre\" OR \"End bad governance\" OR \"End swat\" OR #LekkiMassacre lang:en', 'max_results': 100, 'start_time': '2020-12-01T00:00:00Z', 'end_time': '2020-12-08T00:00:00Z', 'tweet.fields': 'id,author_id,created_at,text,geo,referenced_tweets,in_reply_to_user_id,entities,public_metrics', 'user.fields': 'id,created_at,location,username,verified,public_metrics', 'place.fields': 'country,country_code,full_name,geo,id,name,place_type', 'expansions': 'author_id,entities.mentions.username,geo.place_id,in_reply_to_user_id,referenced_tweets.id,referenced_tweets.id.author_id', 'next_token': 'b26v89c19zqg8o3foseufn1hrgfqk0jhv7zun5p4ryw71'}\n",
      "Rate limit hit... Will retry...\n",
      "Will retry in 4 seconds...\n",
      " HTTP Error code: 429: {\"title\":\"Too Many Requests\",\"type\":\"about:blank\",\"status\":429,\"detail\":\"Too Many Requests\"} | Too Many Requests\n",
      " Request payload: {'query': '#EndSARS OR \"Soro Soke\" OR \"lekki toll gate\" OR \"anti-robbery squad\" OR \"lekki massacre\" OR \"End bad governance\" OR \"End swat\" OR #LekkiMassacre lang:en', 'max_results': 100, 'start_time': '2020-12-01T00:00:00Z', 'end_time': '2020-12-08T00:00:00Z', 'tweet.fields': 'id,author_id,created_at,text,geo,referenced_tweets,in_reply_to_user_id,entities,public_metrics', 'user.fields': 'id,created_at,location,username,verified,public_metrics', 'place.fields': 'country,country_code,full_name,geo,id,name,place_type', 'expansions': 'author_id,entities.mentions.username,geo.place_id,in_reply_to_user_id,referenced_tweets.id,referenced_tweets.id.author_id', 'next_token': 'b26v89c19zqg8o3foseufn17cqdhq82yopohr03vwl3zx'}\n"
     ]
    },
    {
     "name": "stderr",
     "output_type": "stream",
     "text": [
      "Rate limit hit... Will retry...\n",
      "Will retry in 4 seconds...\n",
      " HTTP Error code: 429: {\"title\":\"Too Many Requests\",\"type\":\"about:blank\",\"status\":429,\"detail\":\"Too Many Requests\"} | Too Many Requests\n",
      " Request payload: {'query': '#EndSARS OR \"Soro Soke\" OR \"lekki toll gate\" OR \"anti-robbery squad\" OR \"lekki massacre\" OR \"End bad governance\" OR \"End swat\" OR #LekkiMassacre lang:en', 'max_results': 100, 'start_time': '2020-12-01T00:00:00Z', 'end_time': '2020-12-08T00:00:00Z', 'tweet.fields': 'id,author_id,created_at,text,geo,referenced_tweets,in_reply_to_user_id,entities,public_metrics', 'user.fields': 'id,created_at,location,username,verified,public_metrics', 'place.fields': 'country,country_code,full_name,geo,id,name,place_type', 'expansions': 'author_id,entities.mentions.username,geo.place_id,in_reply_to_user_id,referenced_tweets.id,referenced_tweets.id.author_id', 'next_token': 'b26v89c19zqg8o3foseufn17cpyb5gy6c17trdfku8xh9'}\n",
      "Rate limit hit... Will retry...\n",
      "Will retry in 4 seconds...\n",
      " HTTP Error code: 429: {\"title\":\"Too Many Requests\",\"type\":\"about:blank\",\"status\":429,\"detail\":\"Too Many Requests\"} | Too Many Requests\n",
      " Request payload: {'query': '#EndSARS OR \"Soro Soke\" OR \"lekki toll gate\" OR \"anti-robbery squad\" OR \"lekki massacre\" OR \"End bad governance\" OR \"End swat\" OR #LekkiMassacre lang:en', 'max_results': 100, 'start_time': '2020-12-01T00:00:00Z', 'end_time': '2020-12-08T00:00:00Z', 'tweet.fields': 'id,author_id,created_at,text,geo,referenced_tweets,in_reply_to_user_id,entities,public_metrics', 'user.fields': 'id,created_at,location,username,verified,public_metrics', 'place.fields': 'country,country_code,full_name,geo,id,name,place_type', 'expansions': 'author_id,entities.mentions.username,geo.place_id,in_reply_to_user_id,referenced_tweets.id,referenced_tweets.id.author_id', 'next_token': 'b26v89c19zqg8o3foseufn17cpqg4a0kpnnw7sgfegjul'}\n",
      "Rate limit hit... Will retry...\n",
      "Will retry in 4 seconds...\n",
      " HTTP Error code: 429: {\"title\":\"Too Many Requests\",\"type\":\"about:blank\",\"status\":429,\"detail\":\"Too Many Requests\"} | Too Many Requests\n",
      " Request payload: {'query': '#EndSARS OR \"Soro Soke\" OR \"lekki toll gate\" OR \"anti-robbery squad\" OR \"lekki massacre\" OR \"End bad governance\" OR \"End swat\" OR #LekkiMassacre lang:en', 'max_results': 100, 'start_time': '2020-12-01T00:00:00Z', 'end_time': '2020-12-08T00:00:00Z', 'tweet.fields': 'id,author_id,created_at,text,geo,referenced_tweets,in_reply_to_user_id,entities,public_metrics', 'user.fields': 'id,created_at,location,username,verified,public_metrics', 'place.fields': 'country,country_code,full_name,geo,id,name,place_type', 'expansions': 'author_id,entities.mentions.username,geo.place_id,in_reply_to_user_id,referenced_tweets.id,referenced_tweets.id.author_id', 'next_token': 'b26v89c19zqg8o3foseufn17cpb0xyas3yjrr7i67e5j1'}\n",
      "Rate limit hit... Will retry...\n",
      "Will retry in 4 seconds...\n",
      " HTTP Error code: 429: {\"title\":\"Too Many Requests\",\"type\":\"about:blank\",\"status\":429,\"detail\":\"Too Many Requests\"} | Too Many Requests\n",
      " Request payload: {'query': '#EndSARS OR \"Soro Soke\" OR \"lekki toll gate\" OR \"anti-robbery squad\" OR \"lekki massacre\" OR \"End bad governance\" OR \"End swat\" OR #LekkiMassacre lang:en', 'max_results': 100, 'start_time': '2020-12-08T00:00:00Z', 'end_time': '2020-12-15T00:00:00Z', 'tweet.fields': 'id,author_id,created_at,text,geo,referenced_tweets,in_reply_to_user_id,entities,public_metrics', 'user.fields': 'id,created_at,location,username,verified,public_metrics', 'place.fields': 'country,country_code,full_name,geo,id,name,place_type', 'expansions': 'author_id,entities.mentions.username,geo.place_id,in_reply_to_user_id,referenced_tweets.id,referenced_tweets.id.author_id', 'next_token': 'b26v89c19zqg8o3fosevab08vkqogkdo3ek6jm72wgosd'}\n",
      "Rate limit hit... Will retry...\n",
      "Will retry in 4 seconds...\n",
      " HTTP Error code: 429: {\"title\":\"Too Many Requests\",\"type\":\"about:blank\",\"status\":429,\"detail\":\"Too Many Requests\"} | Too Many Requests\n",
      " Request payload: {'query': '#EndSARS OR \"Soro Soke\" OR \"lekki toll gate\" OR \"anti-robbery squad\" OR \"lekki massacre\" OR \"End bad governance\" OR \"End swat\" OR #LekkiMassacre lang:en', 'max_results': 100, 'start_time': '2020-12-08T00:00:00Z', 'end_time': '2020-12-15T00:00:00Z', 'tweet.fields': 'id,author_id,created_at,text,geo,referenced_tweets,in_reply_to_user_id,entities,public_metrics', 'user.fields': 'id,created_at,location,username,verified,public_metrics', 'place.fields': 'country,country_code,full_name,geo,id,name,place_type', 'expansions': 'author_id,entities.mentions.username,geo.place_id,in_reply_to_user_id,referenced_tweets.id,referenced_tweets.id.author_id', 'next_token': 'b26v89c19zqg8o3fosevab08kxy6wxssby5l9ewjg7o8t'}\n",
      "Rate limit hit... Will retry...\n",
      "Will retry in 4 seconds...\n",
      " HTTP Error code: 429: {\"title\":\"Too Many Requests\",\"type\":\"about:blank\",\"status\":429,\"detail\":\"Too Many Requests\"} | Too Many Requests\n",
      " Request payload: {'query': '#EndSARS OR \"Soro Soke\" OR \"lekki toll gate\" OR \"anti-robbery squad\" OR \"lekki massacre\" OR \"End bad governance\" OR \"End swat\" OR #LekkiMassacre lang:en', 'max_results': 100, 'start_time': '2020-12-08T00:00:00Z', 'end_time': '2020-12-15T00:00:00Z', 'tweet.fields': 'id,author_id,created_at,text,geo,referenced_tweets,in_reply_to_user_id,entities,public_metrics', 'user.fields': 'id,created_at,location,username,verified,public_metrics', 'place.fields': 'country,country_code,full_name,geo,id,name,place_type', 'expansions': 'author_id,entities.mentions.username,geo.place_id,in_reply_to_user_id,referenced_tweets.id,referenced_tweets.id.author_id', 'next_token': 'b26v89c19zqg8o3fosevaazxyla35t7hbsg6l8epf6ut9'}\n",
      "Rate limit hit... Will retry...\n",
      "Will retry in 4 seconds...\n",
      " HTTP Error code: 429: {\"title\":\"Too Many Requests\",\"type\":\"about:blank\",\"status\":429,\"detail\":\"Too Many Requests\"} | Too Many Requests\n",
      " Request payload: {'query': '#EndSARS OR \"Soro Soke\" OR \"lekki toll gate\" OR \"anti-robbery squad\" OR \"lekki massacre\" OR \"End bad governance\" OR \"End swat\" OR #LekkiMassacre lang:en', 'max_results': 100, 'start_time': '2020-12-08T00:00:00Z', 'end_time': '2020-12-15T00:00:00Z', 'tweet.fields': 'id,author_id,created_at,text,geo,referenced_tweets,in_reply_to_user_id,entities,public_metrics', 'user.fields': 'id,created_at,location,username,verified,public_metrics', 'place.fields': 'country,country_code,full_name,geo,id,name,place_type', 'expansions': 'author_id,entities.mentions.username,geo.place_id,in_reply_to_user_id,referenced_tweets.id,referenced_tweets.id.author_id', 'next_token': 'b26v89c19zqg8o3fosevaazxx2fzrki5zvo69w5u21zzx'}\n",
      "Rate limit hit... Will retry...\n",
      "Will retry in 4 seconds...\n",
      " HTTP Error code: 429: {\"title\":\"Too Many Requests\",\"type\":\"about:blank\",\"status\":429,\"detail\":\"Too Many Requests\"} | Too Many Requests\n",
      " Request payload: {'query': '#EndSARS OR \"Soro Soke\" OR \"lekki toll gate\" OR \"anti-robbery squad\" OR \"lekki massacre\" OR \"End bad governance\" OR \"End swat\" OR #LekkiMassacre lang:en', 'max_results': 100, 'start_time': '2020-12-08T00:00:00Z', 'end_time': '2020-12-15T00:00:00Z', 'tweet.fields': 'id,author_id,created_at,text,geo,referenced_tweets,in_reply_to_user_id,entities,public_metrics', 'user.fields': 'id,created_at,location,username,verified,public_metrics', 'place.fields': 'country,country_code,full_name,geo,id,name,place_type', 'expansions': 'author_id,entities.mentions.username,geo.place_id,in_reply_to_user_id,referenced_tweets.id,referenced_tweets.id.author_id', 'next_token': 'b26v89c19zqg8o3fosevaazn7obi4lgm9yrje5ujpv6gt'}\n",
      "Rate limit hit... Will retry...\n",
      "Will retry in 4 seconds...\n",
      " HTTP Error code: 429: {\"title\":\"Too Many Requests\",\"type\":\"about:blank\",\"status\":429,\"detail\":\"Too Many Requests\"} | Too Many Requests\n",
      " Request payload: {'query': '#EndSARS OR \"Soro Soke\" OR \"lekki toll gate\" OR \"anti-robbery squad\" OR \"lekki massacre\" OR \"End bad governance\" OR \"End swat\" OR #LekkiMassacre lang:en', 'max_results': 100, 'start_time': '2020-12-08T00:00:00Z', 'end_time': '2020-12-15T00:00:00Z', 'tweet.fields': 'id,author_id,created_at,text,geo,referenced_tweets,in_reply_to_user_id,entities,public_metrics', 'user.fields': 'id,created_at,location,username,verified,public_metrics', 'place.fields': 'country,country_code,full_name,geo,id,name,place_type', 'expansions': 'author_id,entities.mentions.username,geo.place_id,in_reply_to_user_id,referenced_tweets.id,referenced_tweets.id.author_id', 'next_token': 'b26v89c19zqg8o3fosevaazn65wqr7o3frf0sm2ql8131'}\n"
     ]
    },
    {
     "name": "stderr",
     "output_type": "stream",
     "text": [
      "Rate limit hit... Will retry...\n",
      "Will retry in 4 seconds...\n",
      " HTTP Error code: 429: {\"title\":\"Too Many Requests\",\"type\":\"about:blank\",\"status\":429,\"detail\":\"Too Many Requests\"} | Too Many Requests\n",
      " Request payload: {'query': '#EndSARS OR \"Soro Soke\" OR \"lekki toll gate\" OR \"anti-robbery squad\" OR \"lekki massacre\" OR \"End bad governance\" OR \"End swat\" OR #LekkiMassacre lang:en', 'max_results': 100, 'start_time': '2020-12-08T00:00:00Z', 'end_time': '2020-12-15T00:00:00Z', 'tweet.fields': 'id,author_id,created_at,text,geo,referenced_tweets,in_reply_to_user_id,entities,public_metrics', 'user.fields': 'id,created_at,location,username,verified,public_metrics', 'place.fields': 'country,country_code,full_name,geo,id,name,place_type', 'expansions': 'author_id,entities.mentions.username,geo.place_id,in_reply_to_user_id,referenced_tweets.id,referenced_tweets.id.author_id', 'next_token': 'b26v89c19zqg8o3fosevaazn04wx8zs3jugy2cjox9o59'}\n",
      "Rate limit hit... Will retry...\n",
      "Will retry in 4 seconds...\n",
      " HTTP Error code: 429: {\"title\":\"Too Many Requests\",\"type\":\"about:blank\",\"status\":429,\"detail\":\"Too Many Requests\"} | Too Many Requests\n",
      " Request payload: {'query': '#EndSARS OR \"Soro Soke\" OR \"lekki toll gate\" OR \"anti-robbery squad\" OR \"lekki massacre\" OR \"End bad governance\" OR \"End swat\" OR #LekkiMassacre lang:en', 'max_results': 100, 'start_time': '2020-12-08T00:00:00Z', 'end_time': '2020-12-15T00:00:00Z', 'tweet.fields': 'id,author_id,created_at,text,geo,referenced_tweets,in_reply_to_user_id,entities,public_metrics', 'user.fields': 'id,created_at,location,username,verified,public_metrics', 'place.fields': 'country,country_code,full_name,geo,id,name,place_type', 'expansions': 'author_id,entities.mentions.username,geo.place_id,in_reply_to_user_id,referenced_tweets.id,referenced_tweets.id.author_id', 'next_token': 'b26v89c19zqg8o3fosevaazn037cplvwoaooh2mucho59'}\n",
      "Rate limit hit... Will retry...\n",
      "Will retry in 4 seconds...\n",
      " HTTP Error code: 429: {\"title\":\"Too Many Requests\",\"type\":\"about:blank\",\"status\":429,\"detail\":\"Too Many Requests\"} | Too Many Requests\n",
      " Request payload: {'query': '#EndSARS OR \"Soro Soke\" OR \"lekki toll gate\" OR \"anti-robbery squad\" OR \"lekki massacre\" OR \"End bad governance\" OR \"End swat\" OR #LekkiMassacre lang:en', 'max_results': 100, 'start_time': '2020-12-08T00:00:00Z', 'end_time': '2020-12-15T00:00:00Z', 'tweet.fields': 'id,author_id,created_at,text,geo,referenced_tweets,in_reply_to_user_id,entities,public_metrics', 'user.fields': 'id,created_at,location,username,verified,public_metrics', 'place.fields': 'country,country_code,full_name,geo,id,name,place_type', 'expansions': 'author_id,entities.mentions.username,geo.place_id,in_reply_to_user_id,referenced_tweets.id,referenced_tweets.id.author_id', 'next_token': 'b26v89c19zqg8o3fosevaazmyl7v51591fyy3xu2fbrel'}\n",
      "Rate limit hit... Will retry...\n",
      "Will retry in 4 seconds...\n",
      " HTTP Error code: 429: {\"title\":\"Too Many Requests\",\"type\":\"about:blank\",\"status\":429,\"detail\":\"Too Many Requests\"} | Too Many Requests\n",
      " Request payload: {'query': '#EndSARS OR \"Soro Soke\" OR \"lekki toll gate\" OR \"anti-robbery squad\" OR \"lekki massacre\" OR \"End bad governance\" OR \"End swat\" OR #LekkiMassacre lang:en', 'max_results': 100, 'start_time': '2020-12-08T00:00:00Z', 'end_time': '2020-12-15T00:00:00Z', 'tweet.fields': 'id,author_id,created_at,text,geo,referenced_tweets,in_reply_to_user_id,entities,public_metrics', 'user.fields': 'id,created_at,location,username,verified,public_metrics', 'place.fields': 'country,country_code,full_name,geo,id,name,place_type', 'expansions': 'author_id,entities.mentions.username,geo.place_id,in_reply_to_user_id,referenced_tweets.id,referenced_tweets.id.author_id', 'next_token': 'b26v89c19zqg8o3foseva8xm4q0u8sbwvz1ux2fhzqid9'}\n",
      "Rate limit hit... Will retry...\n",
      "Will retry in 4 seconds...\n",
      " HTTP Error code: 429: {\"title\":\"Too Many Requests\",\"type\":\"about:blank\",\"status\":429,\"detail\":\"Too Many Requests\"} | Too Many Requests\n",
      " Request payload: {'query': '#EndSARS OR \"Soro Soke\" OR \"lekki toll gate\" OR \"anti-robbery squad\" OR \"lekki massacre\" OR \"End bad governance\" OR \"End swat\" OR #LekkiMassacre lang:en', 'max_results': 100, 'start_time': '2020-12-08T00:00:00Z', 'end_time': '2020-12-15T00:00:00Z', 'tweet.fields': 'id,author_id,created_at,text,geo,referenced_tweets,in_reply_to_user_id,entities,public_metrics', 'user.fields': 'id,created_at,location,username,verified,public_metrics', 'place.fields': 'country,country_code,full_name,geo,id,name,place_type', 'expansions': 'author_id,entities.mentions.username,geo.place_id,in_reply_to_user_id,referenced_tweets.id,referenced_tweets.id.author_id', 'next_token': 'b26v89c19zqg8o3foseva8xlynjcahwmcyfxjyclvgvwd'}\n",
      "Rate limit hit... Will retry...\n",
      "Will retry in 4 seconds...\n",
      " HTTP Error code: 429: {\"title\":\"Too Many Requests\",\"type\":\"about:blank\",\"status\":429,\"detail\":\"Too Many Requests\"} | Too Many Requests\n",
      " Request payload: {'query': '#EndSARS OR \"Soro Soke\" OR \"lekki toll gate\" OR \"anti-robbery squad\" OR \"lekki massacre\" OR \"End bad governance\" OR \"End swat\" OR #LekkiMassacre lang:en', 'max_results': 100, 'start_time': '2020-12-08T00:00:00Z', 'end_time': '2020-12-15T00:00:00Z', 'tweet.fields': 'id,author_id,created_at,text,geo,referenced_tweets,in_reply_to_user_id,entities,public_metrics', 'user.fields': 'id,created_at,location,username,verified,public_metrics', 'place.fields': 'country,country_code,full_name,geo,id,name,place_type', 'expansions': 'author_id,entities.mentions.username,geo.place_id,in_reply_to_user_id,referenced_tweets.id,referenced_tweets.id.author_id', 'next_token': 'b26v89c19zqg8o3foseva8xlyltqozbwc5jrh5049108t'}\n",
      "Rate limit hit... Will retry...\n",
      "Will retry in 4 seconds...\n",
      " HTTP Error code: 429: {\"title\":\"Too Many Requests\",\"type\":\"about:blank\",\"status\":429,\"detail\":\"Too Many Requests\"} | Too Many Requests\n",
      " Request payload: {'query': '#EndSARS OR \"Soro Soke\" OR \"lekki toll gate\" OR \"anti-robbery squad\" OR \"lekki massacre\" OR \"End bad governance\" OR \"End swat\" OR #LekkiMassacre lang:en', 'max_results': 100, 'start_time': '2020-12-08T00:00:00Z', 'end_time': '2020-12-15T00:00:00Z', 'tweet.fields': 'id,author_id,created_at,text,geo,referenced_tweets,in_reply_to_user_id,entities,public_metrics', 'user.fields': 'id,created_at,location,username,verified,public_metrics', 'place.fields': 'country,country_code,full_name,geo,id,name,place_type', 'expansions': 'author_id,entities.mentions.username,geo.place_id,in_reply_to_user_id,referenced_tweets.id,referenced_tweets.id.author_id', 'next_token': 'b26v89c19zqg8o3foseva8xlx3f4onu9d07rfmtnf80ot'}\n",
      "Rate limit hit... Will retry...\n",
      "Will retry in 4 seconds...\n",
      " HTTP Error code: 429: {\"title\":\"Too Many Requests\",\"type\":\"about:blank\",\"status\":429,\"detail\":\"Too Many Requests\"} | Too Many Requests\n",
      " Request payload: {'query': '#EndSARS OR \"Soro Soke\" OR \"lekki toll gate\" OR \"anti-robbery squad\" OR \"lekki massacre\" OR \"End bad governance\" OR \"End swat\" OR #LekkiMassacre lang:en', 'max_results': 100, 'start_time': '2020-12-08T00:00:00Z', 'end_time': '2020-12-15T00:00:00Z', 'tweet.fields': 'id,author_id,created_at,text,geo,referenced_tweets,in_reply_to_user_id,entities,public_metrics', 'user.fields': 'id,created_at,location,username,verified,public_metrics', 'place.fields': 'country,country_code,full_name,geo,id,name,place_type', 'expansions': 'author_id,entities.mentions.username,geo.place_id,in_reply_to_user_id,referenced_tweets.id,referenced_tweets.id.author_id', 'next_token': 'b26v89c19zqg8o3foseva8xbds7fvo4k7txgxb77mrou5'}\n",
      "Rate limit hit... Will retry...\n",
      "Will retry in 4 seconds...\n",
      " HTTP Error code: 429: {\"title\":\"Too Many Requests\",\"type\":\"about:blank\",\"status\":429,\"detail\":\"Too Many Requests\"} | Too Many Requests\n",
      " Request payload: {'query': '#EndSARS OR \"Soro Soke\" OR \"lekki toll gate\" OR \"anti-robbery squad\" OR \"lekki massacre\" OR \"End bad governance\" OR \"End swat\" OR #LekkiMassacre lang:en', 'max_results': 100, 'start_time': '2020-12-08T00:00:00Z', 'end_time': '2020-12-15T00:00:00Z', 'tweet.fields': 'id,author_id,created_at,text,geo,referenced_tweets,in_reply_to_user_id,entities,public_metrics', 'user.fields': 'id,created_at,location,username,verified,public_metrics', 'place.fields': 'country,country_code,full_name,geo,id,name,place_type', 'expansions': 'author_id,entities.mentions.username,geo.place_id,in_reply_to_user_id,referenced_tweets.id,referenced_tweets.id.author_id', 'next_token': 'b26v89c19zqg8o3foseva8xbc9sohj4cuu8x2p7nwgdq5'}\n"
     ]
    },
    {
     "name": "stderr",
     "output_type": "stream",
     "text": [
      "Rate limit hit... Will retry...\n",
      "Will retry in 4 seconds...\n",
      " HTTP Error code: 429: {\"title\":\"Too Many Requests\",\"type\":\"about:blank\",\"status\":429,\"detail\":\"Too Many Requests\"} | Too Many Requests\n",
      " Request payload: {'query': '#EndSARS OR \"Soro Soke\" OR \"lekki toll gate\" OR \"anti-robbery squad\" OR \"lekki massacre\" OR \"End bad governance\" OR \"End swat\" OR #LekkiMassacre lang:en', 'max_results': 100, 'start_time': '2020-12-08T00:00:00Z', 'end_time': '2020-12-15T00:00:00Z', 'tweet.fields': 'id,author_id,created_at,text,geo,referenced_tweets,in_reply_to_user_id,entities,public_metrics', 'user.fields': 'id,created_at,location,username,verified,public_metrics', 'place.fields': 'country,country_code,full_name,geo,id,name,place_type', 'expansions': 'author_id,entities.mentions.username,geo.place_id,in_reply_to_user_id,referenced_tweets.id,referenced_tweets.id.author_id', 'next_token': 'b26v89c19zqg8o3foseva8xbarlkk7v6aeb6gcczfzxx9'}\n",
      "Rate limit hit... Will retry...\n",
      "Will retry in 4 seconds...\n",
      " HTTP Error code: 429: {\"title\":\"Too Many Requests\",\"type\":\"about:blank\",\"status\":429,\"detail\":\"Too Many Requests\"} | Too Many Requests\n",
      " Request payload: {'query': '#EndSARS OR \"Soro Soke\" OR \"lekki toll gate\" OR \"anti-robbery squad\" OR \"lekki massacre\" OR \"End bad governance\" OR \"End swat\" OR #LekkiMassacre lang:en', 'max_results': 100, 'start_time': '2020-12-08T00:00:00Z', 'end_time': '2020-12-15T00:00:00Z', 'tweet.fields': 'id,author_id,created_at,text,geo,referenced_tweets,in_reply_to_user_id,entities,public_metrics', 'user.fields': 'id,created_at,location,username,verified,public_metrics', 'place.fields': 'country,country_code,full_name,geo,id,name,place_type', 'expansions': 'author_id,entities.mentions.username,geo.place_id,in_reply_to_user_id,referenced_tweets.id,referenced_tweets.id.author_id', 'next_token': 'b26v89c19zqg8o3foseva8xb4p41jswpbh6jtzytmi5x9'}\n",
      "Rate limit hit... Will retry...\n",
      "Will retry in 4 seconds...\n",
      " HTTP Error code: 429: {\"title\":\"Too Many Requests\",\"type\":\"about:blank\",\"status\":429,\"detail\":\"Too Many Requests\"} | Too Many Requests\n",
      " Request payload: {'query': '#EndSARS OR \"Soro Soke\" OR \"lekki toll gate\" OR \"anti-robbery squad\" OR \"lekki massacre\" OR \"End bad governance\" OR \"End swat\" OR #LekkiMassacre lang:en', 'max_results': 100, 'start_time': '2020-12-08T00:00:00Z', 'end_time': '2020-12-15T00:00:00Z', 'tweet.fields': 'id,author_id,created_at,text,geo,referenced_tweets,in_reply_to_user_id,entities,public_metrics', 'user.fields': 'id,created_at,location,username,verified,public_metrics', 'place.fields': 'country,country_code,full_name,geo,id,name,place_type', 'expansions': 'author_id,entities.mentions.username,geo.place_id,in_reply_to_user_id,referenced_tweets.id,referenced_tweets.id.author_id', 'next_token': 'b26v89c19zqg8o3foseva8x0mv10y4k6eezyn79ozzt6l'}\n",
      "Rate limit hit... Will retry...\n",
      "Will retry in 4 seconds...\n",
      " HTTP Error code: 429: {\"title\":\"Too Many Requests\",\"type\":\"about:blank\",\"status\":429,\"detail\":\"Too Many Requests\"} | Too Many Requests\n",
      " Request payload: {'query': '#EndSARS OR \"Soro Soke\" OR \"lekki toll gate\" OR \"anti-robbery squad\" OR \"lekki massacre\" OR \"End bad governance\" OR \"End swat\" OR #LekkiMassacre lang:en', 'max_results': 100, 'start_time': '2020-12-08T00:00:00Z', 'end_time': '2020-12-15T00:00:00Z', 'tweet.fields': 'id,author_id,created_at,text,geo,referenced_tweets,in_reply_to_user_id,entities,public_metrics', 'user.fields': 'id,created_at,location,username,verified,public_metrics', 'place.fields': 'country,country_code,full_name,geo,id,name,place_type', 'expansions': 'author_id,entities.mentions.username,geo.place_id,in_reply_to_user_id,referenced_tweets.id,referenced_tweets.id.author_id', 'next_token': 'b26v89c19zqg8o3foseva8x0lcm7dr3oypsnuj221g1a5'}\n",
      "Rate limit hit... Will retry...\n",
      "Will retry in 4 seconds...\n",
      " HTTP Error code: 429: {\"title\":\"Too Many Requests\",\"type\":\"about:blank\",\"status\":429,\"detail\":\"Too Many Requests\"} | Too Many Requests\n",
      " Request payload: {'query': '#EndSARS OR \"Soro Soke\" OR \"lekki toll gate\" OR \"anti-robbery squad\" OR \"lekki massacre\" OR \"End bad governance\" OR \"End swat\" OR #LekkiMassacre lang:en', 'max_results': 100, 'start_time': '2020-12-08T00:00:00Z', 'end_time': '2020-12-15T00:00:00Z', 'tweet.fields': 'id,author_id,created_at,text,geo,referenced_tweets,in_reply_to_user_id,entities,public_metrics', 'user.fields': 'id,created_at,location,username,verified,public_metrics', 'place.fields': 'country,country_code,full_name,geo,id,name,place_type', 'expansions': 'author_id,entities.mentions.username,geo.place_id,in_reply_to_user_id,referenced_tweets.id,referenced_tweets.id.author_id', 'next_token': 'b26v89c19zqg8o3foseva8x0fak0cixajlayt7gr8e931'}\n",
      "Rate limit hit... Will retry...\n",
      "Will retry in 4 seconds...\n",
      " HTTP Error code: 429: {\"title\":\"Too Many Requests\",\"type\":\"about:blank\",\"status\":429,\"detail\":\"Too Many Requests\"} | Too Many Requests\n",
      " Request payload: {'query': '#EndSARS OR \"Soro Soke\" OR \"lekki toll gate\" OR \"anti-robbery squad\" OR \"lekki massacre\" OR \"End bad governance\" OR \"End swat\" OR #LekkiMassacre lang:en', 'max_results': 100, 'start_time': '2020-12-08T00:00:00Z', 'end_time': '2020-12-15T00:00:00Z', 'tweet.fields': 'id,author_id,created_at,text,geo,referenced_tweets,in_reply_to_user_id,entities,public_metrics', 'user.fields': 'id,created_at,location,username,verified,public_metrics', 'place.fields': 'country,country_code,full_name,geo,id,name,place_type', 'expansions': 'author_id,entities.mentions.username,geo.place_id,in_reply_to_user_id,referenced_tweets.id,referenced_tweets.id.author_id', 'next_token': 'b26v89c19zqg8o3foseva8wpxi6evsv7s1c2ib266ovwd'}\n",
      "Rate limit hit... Will retry...\n",
      "Will retry in 4 seconds...\n",
      " HTTP Error code: 429: {\"title\":\"Too Many Requests\",\"type\":\"about:blank\",\"status\":429,\"detail\":\"Too Many Requests\"} | Too Many Requests\n",
      " Request payload: {'query': '#EndSARS OR \"Soro Soke\" OR \"lekki toll gate\" OR \"anti-robbery squad\" OR \"lekki massacre\" OR \"End bad governance\" OR \"End swat\" OR #LekkiMassacre lang:en', 'max_results': 100, 'start_time': '2020-12-08T00:00:00Z', 'end_time': '2020-12-15T00:00:00Z', 'tweet.fields': 'id,author_id,created_at,text,geo,referenced_tweets,in_reply_to_user_id,entities,public_metrics', 'user.fields': 'id,created_at,location,username,verified,public_metrics', 'place.fields': 'country,country_code,full_name,geo,id,name,place_type', 'expansions': 'author_id,entities.mentions.username,geo.place_id,in_reply_to_user_id,referenced_tweets.id,referenced_tweets.id.author_id', 'next_token': 'b26v89c19zqg8o3foseva8wpxgoqffha9beaydq30itml'}\n",
      "Rate limit hit... Will retry...\n",
      "Will retry in 4 seconds...\n",
      " HTTP Error code: 429: {\"title\":\"Too Many Requests\",\"type\":\"about:blank\",\"status\":429,\"detail\":\"Too Many Requests\"} | Too Many Requests\n",
      " Request payload: {'query': '#EndSARS OR \"Soro Soke\" OR \"lekki toll gate\" OR \"anti-robbery squad\" OR \"lekki massacre\" OR \"End bad governance\" OR \"End swat\" OR #LekkiMassacre lang:en', 'max_results': 100, 'start_time': '2020-12-08T00:00:00Z', 'end_time': '2020-12-15T00:00:00Z', 'tweet.fields': 'id,author_id,created_at,text,geo,referenced_tweets,in_reply_to_user_id,entities,public_metrics', 'user.fields': 'id,created_at,location,username,verified,public_metrics', 'place.fields': 'country,country_code,full_name,geo,id,name,place_type', 'expansions': 'author_id,entities.mentions.username,geo.place_id,in_reply_to_user_id,referenced_tweets.id,referenced_tweets.id.author_id', 'next_token': 'b26v89c19zqg8o3foseva8wpvyx1qfb3jb5j0m7dd130d'}\n",
      "Rate limit hit... Will retry...\n",
      "Will retry in 4 seconds...\n",
      " HTTP Error code: 429: {\"title\":\"Too Many Requests\",\"type\":\"about:blank\",\"status\":429,\"detail\":\"Too Many Requests\"} | Too Many Requests\n",
      " Request payload: {'query': '#EndSARS OR \"Soro Soke\" OR \"lekki toll gate\" OR \"anti-robbery squad\" OR \"lekki massacre\" OR \"End bad governance\" OR \"End swat\" OR #LekkiMassacre lang:en', 'max_results': 100, 'start_time': '2020-12-08T00:00:00Z', 'end_time': '2020-12-15T00:00:00Z', 'tweet.fields': 'id,author_id,created_at,text,geo,referenced_tweets,in_reply_to_user_id,entities,public_metrics', 'user.fields': 'id,created_at,location,username,verified,public_metrics', 'place.fields': 'country,country_code,full_name,geo,id,name,place_type', 'expansions': 'author_id,entities.mentions.username,geo.place_id,in_reply_to_user_id,referenced_tweets.id,referenced_tweets.id.author_id', 'next_token': 'b26v89c19zqg8o3foseva8wpre721cbpvbwsvow8aw0vx'}\n"
     ]
    },
    {
     "name": "stderr",
     "output_type": "stream",
     "text": [
      "Rate limit hit... Will retry...\n",
      "Will retry in 4 seconds...\n",
      " HTTP Error code: 429: {\"title\":\"Too Many Requests\",\"type\":\"about:blank\",\"status\":429,\"detail\":\"Too Many Requests\"} | Too Many Requests\n",
      " Request payload: {'query': '#EndSARS OR \"Soro Soke\" OR \"lekki toll gate\" OR \"anti-robbery squad\" OR \"lekki massacre\" OR \"End bad governance\" OR \"End swat\" OR #LekkiMassacre lang:en', 'max_results': 100, 'start_time': '2020-12-08T00:00:00Z', 'end_time': '2020-12-15T00:00:00Z', 'tweet.fields': 'id,author_id,created_at,text,geo,referenced_tweets,in_reply_to_user_id,entities,public_metrics', 'user.fields': 'id,created_at,location,username,verified,public_metrics', 'place.fields': 'country,country_code,full_name,geo,id,name,place_type', 'expansions': 'author_id,entities.mentions.username,geo.place_id,in_reply_to_user_id,referenced_tweets.id,referenced_tweets.id.author_id', 'next_token': 'b26v89c19zqg8o3foseva8wplczgrnjvyovrlc386bfjx'}\n",
      "Rate limit hit... Will retry...\n",
      "Will retry in 4 seconds...\n",
      " HTTP Error code: 429: {\"title\":\"Too Many Requests\",\"type\":\"about:blank\",\"status\":429,\"detail\":\"Too Many Requests\"} | Too Many Requests\n",
      " Request payload: {'query': '#EndSARS OR \"Soro Soke\" OR \"lekki toll gate\" OR \"anti-robbery squad\" OR \"lekki massacre\" OR \"End bad governance\" OR \"End swat\" OR #LekkiMassacre lang:en', 'max_results': 100, 'start_time': '2020-12-08T00:00:00Z', 'end_time': '2020-12-15T00:00:00Z', 'tweet.fields': 'id,author_id,created_at,text,geo,referenced_tweets,in_reply_to_user_id,entities,public_metrics', 'user.fields': 'id,created_at,location,username,verified,public_metrics', 'place.fields': 'country,country_code,full_name,geo,id,name,place_type', 'expansions': 'author_id,entities.mentions.username,geo.place_id,in_reply_to_user_id,referenced_tweets.id,referenced_tweets.id.author_id', 'next_token': 'b26v89c19zqg8o3foseva8wf3jjl0kw45zzualikhlj7h'}\n",
      "Rate limit hit... Will retry...\n",
      "Will retry in 4 seconds...\n",
      " HTTP Error code: 429: {\"title\":\"Too Many Requests\",\"type\":\"about:blank\",\"status\":429,\"detail\":\"Too Many Requests\"} | Too Many Requests\n",
      " Request payload: {'query': '#EndSARS OR \"Soro Soke\" OR \"lekki toll gate\" OR \"anti-robbery squad\" OR \"lekki massacre\" OR \"End bad governance\" OR \"End swat\" OR #LekkiMassacre lang:en', 'max_results': 100, 'start_time': '2020-12-08T00:00:00Z', 'end_time': '2020-12-15T00:00:00Z', 'tweet.fields': 'id,author_id,created_at,text,geo,referenced_tweets,in_reply_to_user_id,entities,public_metrics', 'user.fields': 'id,created_at,location,username,verified,public_metrics', 'place.fields': 'country,country_code,full_name,geo,id,name,place_type', 'expansions': 'author_id,entities.mentions.username,geo.place_id,in_reply_to_user_id,referenced_tweets.id,referenced_tweets.id.author_id', 'next_token': 'b26v89c19zqg8o3foseva8wf3ih0zcc5o0h6k3d8uorr1'}\n",
      "Rate limit hit... Will retry...\n",
      "Will retry in 4 seconds...\n",
      " HTTP Error code: 429: {\"title\":\"Too Many Requests\",\"type\":\"about:blank\",\"status\":429,\"detail\":\"Too Many Requests\"} | Too Many Requests\n",
      " Request payload: {'query': '#EndSARS OR \"Soro Soke\" OR \"lekki toll gate\" OR \"anti-robbery squad\" OR \"lekki massacre\" OR \"End bad governance\" OR \"End swat\" OR #LekkiMassacre lang:en', 'max_results': 100, 'start_time': '2020-12-08T00:00:00Z', 'end_time': '2020-12-15T00:00:00Z', 'tweet.fields': 'id,author_id,created_at,text,geo,referenced_tweets,in_reply_to_user_id,entities,public_metrics', 'user.fields': 'id,created_at,location,username,verified,public_metrics', 'place.fields': 'country,country_code,full_name,geo,id,name,place_type', 'expansions': 'author_id,entities.mentions.username,geo.place_id,in_reply_to_user_id,referenced_tweets.id,referenced_tweets.id.author_id', 'next_token': 'b26v89c19zqg8o3foseva8weyz1c0du2s7jl75au6aagt'}\n",
      "Rate limit hit... Will retry...\n",
      "Will retry in 4 seconds...\n",
      " HTTP Error code: 429: {\"title\":\"Too Many Requests\",\"type\":\"about:blank\",\"status\":429,\"detail\":\"Too Many Requests\"} | Too Many Requests\n",
      " Request payload: {'query': '#EndSARS OR \"Soro Soke\" OR \"lekki toll gate\" OR \"anti-robbery squad\" OR \"lekki massacre\" OR \"End bad governance\" OR \"End swat\" OR #LekkiMassacre lang:en', 'max_results': 100, 'start_time': '2020-12-08T00:00:00Z', 'end_time': '2020-12-15T00:00:00Z', 'tweet.fields': 'id,author_id,created_at,text,geo,referenced_tweets,in_reply_to_user_id,entities,public_metrics', 'user.fields': 'id,created_at,location,username,verified,public_metrics', 'place.fields': 'country,country_code,full_name,geo,id,name,place_type', 'expansions': 'author_id,entities.mentions.username,geo.place_id,in_reply_to_user_id,referenced_tweets.id,referenced_tweets.id.author_id', 'next_token': 'b26v89c19zqg8o3foseva8wexh1vi8ka0gjrek4ulvmnx'}\n",
      "Rate limit hit... Will retry...\n",
      "Will retry in 4 seconds...\n",
      " HTTP Error code: 429: {\"title\":\"Too Many Requests\",\"type\":\"about:blank\",\"status\":429,\"detail\":\"Too Many Requests\"} | Too Many Requests\n",
      " Request payload: {'query': '#EndSARS OR \"Soro Soke\" OR \"lekki toll gate\" OR \"anti-robbery squad\" OR \"lekki massacre\" OR \"End bad governance\" OR \"End swat\" OR #LekkiMassacre lang:en', 'max_results': 100, 'start_time': '2020-12-08T00:00:00Z', 'end_time': '2020-12-15T00:00:00Z', 'tweet.fields': 'id,author_id,created_at,text,geo,referenced_tweets,in_reply_to_user_id,entities,public_metrics', 'user.fields': 'id,created_at,location,username,verified,public_metrics', 'place.fields': 'country,country_code,full_name,geo,id,name,place_type', 'expansions': 'author_id,entities.mentions.username,geo.place_id,in_reply_to_user_id,referenced_tweets.id,referenced_tweets.id.author_id', 'next_token': 'b26v89c19zqg8o3foseva8were4zfr603o4g9xzhxxvnh'}\n",
      "Rate limit hit... Will retry...\n",
      "Will retry in 4 seconds...\n",
      " HTTP Error code: 429: {\"title\":\"Too Many Requests\",\"type\":\"about:blank\",\"status\":429,\"detail\":\"Too Many Requests\"} | Too Many Requests\n",
      " Request payload: {'query': '#EndSARS OR \"Soro Soke\" OR \"lekki toll gate\" OR \"anti-robbery squad\" OR \"lekki massacre\" OR \"End bad governance\" OR \"End swat\" OR #LekkiMassacre lang:en', 'max_results': 100, 'start_time': '2020-12-08T00:00:00Z', 'end_time': '2020-12-15T00:00:00Z', 'tweet.fields': 'id,author_id,created_at,text,geo,referenced_tweets,in_reply_to_user_id,entities,public_metrics', 'user.fields': 'id,created_at,location,username,verified,public_metrics', 'place.fields': 'country,country_code,full_name,geo,id,name,place_type', 'expansions': 'author_id,entities.mentions.username,geo.place_id,in_reply_to_user_id,referenced_tweets.id,referenced_tweets.id.author_id', 'next_token': 'b26v89c19zqg8o3foseva8w49kosu54hv9lzta5p8lkl9'}\n",
      "Rate limit hit... Will retry...\n",
      "Will retry in 4 seconds...\n",
      " HTTP Error code: 429: {\"title\":\"Too Many Requests\",\"type\":\"about:blank\",\"status\":429,\"detail\":\"Too Many Requests\"} | Too Many Requests\n",
      " Request payload: {'query': '#EndSARS OR \"Soro Soke\" OR \"lekki toll gate\" OR \"anti-robbery squad\" OR \"lekki massacre\" OR \"End bad governance\" OR \"End swat\" OR #LekkiMassacre lang:en', 'max_results': 100, 'start_time': '2020-12-08T00:00:00Z', 'end_time': '2020-12-15T00:00:00Z', 'tweet.fields': 'id,author_id,created_at,text,geo,referenced_tweets,in_reply_to_user_id,entities,public_metrics', 'user.fields': 'id,created_at,location,username,verified,public_metrics', 'place.fields': 'country,country_code,full_name,geo,id,name,place_type', 'expansions': 'author_id,entities.mentions.username,geo.place_id,in_reply_to_user_id,referenced_tweets.id,referenced_tweets.id.author_id', 'next_token': 'b26v89c19zqg8o3foseva8w46j8dwbagwu9qithnbr0cd'}\n",
      "Rate limit hit... Will retry...\n",
      "Will retry in 4 seconds...\n",
      " HTTP Error code: 429: {\"title\":\"Too Many Requests\",\"type\":\"about:blank\",\"status\":429,\"detail\":\"Too Many Requests\"} | Too Many Requests\n",
      " Request payload: {'query': '#EndSARS OR \"Soro Soke\" OR \"lekki toll gate\" OR \"anti-robbery squad\" OR \"lekki massacre\" OR \"End bad governance\" OR \"End swat\" OR #LekkiMassacre lang:en', 'max_results': 100, 'start_time': '2020-12-08T00:00:00Z', 'end_time': '2020-12-15T00:00:00Z', 'tweet.fields': 'id,author_id,created_at,text,geo,referenced_tweets,in_reply_to_user_id,entities,public_metrics', 'user.fields': 'id,created_at,location,username,verified,public_metrics', 'place.fields': 'country,country_code,full_name,geo,id,name,place_type', 'expansions': 'author_id,entities.mentions.username,geo.place_id,in_reply_to_user_id,referenced_tweets.id,referenced_tweets.id.author_id', 'next_token': 'b26v89c19zqg8o3foseva8w45191pvd6jr7tf6wh7pu9p'}\n"
     ]
    },
    {
     "name": "stderr",
     "output_type": "stream",
     "text": [
      "Rate limit hit... Will retry...\n",
      "Will retry in 4 seconds...\n"
     ]
    },
    {
     "data": {
      "text/plain": [
       "(20424, 17)"
      ]
     },
     "execution_count": 93,
     "metadata": {},
     "output_type": "execute_result"
    }
   ],
   "source": [
    "tweets_df = create_tweets_df(dates_list, max_tweets=10000)\n",
    "tweets_df.shape"
   ]
  },
  {
   "cell_type": "code",
   "execution_count": 95,
   "metadata": {},
   "outputs": [
    {
     "data": {
      "text/html": [
       "<div>\n",
       "<style scoped>\n",
       "    .dataframe tbody tr th:only-of-type {\n",
       "        vertical-align: middle;\n",
       "    }\n",
       "\n",
       "    .dataframe tbody tr th {\n",
       "        vertical-align: top;\n",
       "    }\n",
       "\n",
       "    .dataframe thead th {\n",
       "        text-align: right;\n",
       "    }\n",
       "</style>\n",
       "<table border=\"1\" class=\"dataframe\">\n",
       "  <thead>\n",
       "    <tr style=\"text-align: right;\">\n",
       "      <th></th>\n",
       "      <th>entities</th>\n",
       "      <th>created_at</th>\n",
       "      <th>author_id</th>\n",
       "      <th>public_metrics</th>\n",
       "      <th>text</th>\n",
       "      <th>id</th>\n",
       "      <th>referenced_tweets</th>\n",
       "      <th>in_reply_to_user_id</th>\n",
       "      <th>users</th>\n",
       "      <th>tweets</th>\n",
       "      <th>newest_id</th>\n",
       "      <th>oldest_id</th>\n",
       "      <th>result_count</th>\n",
       "      <th>next_token</th>\n",
       "      <th>geo</th>\n",
       "      <th>places</th>\n",
       "      <th>withheld</th>\n",
       "    </tr>\n",
       "  </thead>\n",
       "  <tbody>\n",
       "    <tr>\n",
       "      <th>0</th>\n",
       "      <td>{'mentions': [{'start': 3, 'end': 13, 'usernam...</td>\n",
       "      <td>2020-12-07T23:59:59.000Z</td>\n",
       "      <td>1258938326591115271</td>\n",
       "      <td>{'retweet_count': 8588, 'reply_count': 0, 'lik...</td>\n",
       "      <td>RT @Mistakobz: Second wave of #EndSARS  protes...</td>\n",
       "      <td>1336098160754757632</td>\n",
       "      <td>[{'type': 'retweeted', 'id': '1335887653993132...</td>\n",
       "      <td>NaN</td>\n",
       "      <td>NaN</td>\n",
       "      <td>NaN</td>\n",
       "      <td>NaN</td>\n",
       "      <td>NaN</td>\n",
       "      <td>NaN</td>\n",
       "      <td>NaN</td>\n",
       "      <td>NaN</td>\n",
       "      <td>NaN</td>\n",
       "      <td>NaN</td>\n",
       "    </tr>\n",
       "    <tr>\n",
       "      <th>1</th>\n",
       "      <td>{'mentions': [{'start': 3, 'end': 16, 'usernam...</td>\n",
       "      <td>2020-12-07T23:59:59.000Z</td>\n",
       "      <td>921867476597649409</td>\n",
       "      <td>{'retweet_count': 61, 'reply_count': 0, 'like_...</td>\n",
       "      <td>RT @Richchinonso: I’m officially resuming my j...</td>\n",
       "      <td>1336098160507281410</td>\n",
       "      <td>[{'type': 'retweeted', 'id': '1335954601573556...</td>\n",
       "      <td>NaN</td>\n",
       "      <td>NaN</td>\n",
       "      <td>NaN</td>\n",
       "      <td>NaN</td>\n",
       "      <td>NaN</td>\n",
       "      <td>NaN</td>\n",
       "      <td>NaN</td>\n",
       "      <td>NaN</td>\n",
       "      <td>NaN</td>\n",
       "      <td>NaN</td>\n",
       "    </tr>\n",
       "    <tr>\n",
       "      <th>2</th>\n",
       "      <td>{'mentions': [{'start': 3, 'end': 13, 'usernam...</td>\n",
       "      <td>2020-12-07T23:59:56.000Z</td>\n",
       "      <td>2507830334</td>\n",
       "      <td>{'retweet_count': 890, 'reply_count': 0, 'like...</td>\n",
       "      <td>RT @EmekaGift: #WeMove, second wave of #EndSAR...</td>\n",
       "      <td>1336098147660021760</td>\n",
       "      <td>[{'type': 'retweeted', 'id': '1335899145475940...</td>\n",
       "      <td>NaN</td>\n",
       "      <td>NaN</td>\n",
       "      <td>NaN</td>\n",
       "      <td>NaN</td>\n",
       "      <td>NaN</td>\n",
       "      <td>NaN</td>\n",
       "      <td>NaN</td>\n",
       "      <td>NaN</td>\n",
       "      <td>NaN</td>\n",
       "      <td>NaN</td>\n",
       "    </tr>\n",
       "    <tr>\n",
       "      <th>3</th>\n",
       "      <td>{'mentions': [{'start': 3, 'end': 10, 'usernam...</td>\n",
       "      <td>2020-12-07T23:59:55.000Z</td>\n",
       "      <td>349431719</td>\n",
       "      <td>{'retweet_count': 12664, 'reply_count': 0, 'li...</td>\n",
       "      <td>RT @Praiz8: Whenever you see any #EndSARS twee...</td>\n",
       "      <td>1336098144677982209</td>\n",
       "      <td>[{'type': 'retweeted', 'id': '1335892081810812...</td>\n",
       "      <td>NaN</td>\n",
       "      <td>NaN</td>\n",
       "      <td>NaN</td>\n",
       "      <td>NaN</td>\n",
       "      <td>NaN</td>\n",
       "      <td>NaN</td>\n",
       "      <td>NaN</td>\n",
       "      <td>NaN</td>\n",
       "      <td>NaN</td>\n",
       "      <td>NaN</td>\n",
       "    </tr>\n",
       "    <tr>\n",
       "      <th>4</th>\n",
       "      <td>{'mentions': [{'start': 3, 'end': 16, 'usernam...</td>\n",
       "      <td>2020-12-07T23:59:55.000Z</td>\n",
       "      <td>3303513131</td>\n",
       "      <td>{'retweet_count': 993, 'reply_count': 0, 'like...</td>\n",
       "      <td>RT @Donteewrites: The Buhari administration fe...</td>\n",
       "      <td>1336098143138615296</td>\n",
       "      <td>[{'type': 'retweeted', 'id': '1336028890247155...</td>\n",
       "      <td>NaN</td>\n",
       "      <td>NaN</td>\n",
       "      <td>NaN</td>\n",
       "      <td>NaN</td>\n",
       "      <td>NaN</td>\n",
       "      <td>NaN</td>\n",
       "      <td>NaN</td>\n",
       "      <td>NaN</td>\n",
       "      <td>NaN</td>\n",
       "      <td>NaN</td>\n",
       "    </tr>\n",
       "  </tbody>\n",
       "</table>\n",
       "</div>"
      ],
      "text/plain": [
       "                                            entities  \\\n",
       "0  {'mentions': [{'start': 3, 'end': 13, 'usernam...   \n",
       "1  {'mentions': [{'start': 3, 'end': 16, 'usernam...   \n",
       "2  {'mentions': [{'start': 3, 'end': 13, 'usernam...   \n",
       "3  {'mentions': [{'start': 3, 'end': 10, 'usernam...   \n",
       "4  {'mentions': [{'start': 3, 'end': 16, 'usernam...   \n",
       "\n",
       "                 created_at            author_id  \\\n",
       "0  2020-12-07T23:59:59.000Z  1258938326591115271   \n",
       "1  2020-12-07T23:59:59.000Z   921867476597649409   \n",
       "2  2020-12-07T23:59:56.000Z           2507830334   \n",
       "3  2020-12-07T23:59:55.000Z            349431719   \n",
       "4  2020-12-07T23:59:55.000Z           3303513131   \n",
       "\n",
       "                                      public_metrics  \\\n",
       "0  {'retweet_count': 8588, 'reply_count': 0, 'lik...   \n",
       "1  {'retweet_count': 61, 'reply_count': 0, 'like_...   \n",
       "2  {'retweet_count': 890, 'reply_count': 0, 'like...   \n",
       "3  {'retweet_count': 12664, 'reply_count': 0, 'li...   \n",
       "4  {'retweet_count': 993, 'reply_count': 0, 'like...   \n",
       "\n",
       "                                                text                   id  \\\n",
       "0  RT @Mistakobz: Second wave of #EndSARS  protes...  1336098160754757632   \n",
       "1  RT @Richchinonso: I’m officially resuming my j...  1336098160507281410   \n",
       "2  RT @EmekaGift: #WeMove, second wave of #EndSAR...  1336098147660021760   \n",
       "3  RT @Praiz8: Whenever you see any #EndSARS twee...  1336098144677982209   \n",
       "4  RT @Donteewrites: The Buhari administration fe...  1336098143138615296   \n",
       "\n",
       "                                   referenced_tweets in_reply_to_user_id  \\\n",
       "0  [{'type': 'retweeted', 'id': '1335887653993132...                 NaN   \n",
       "1  [{'type': 'retweeted', 'id': '1335954601573556...                 NaN   \n",
       "2  [{'type': 'retweeted', 'id': '1335899145475940...                 NaN   \n",
       "3  [{'type': 'retweeted', 'id': '1335892081810812...                 NaN   \n",
       "4  [{'type': 'retweeted', 'id': '1336028890247155...                 NaN   \n",
       "\n",
       "  users tweets newest_id oldest_id  result_count next_token  geo places  \\\n",
       "0   NaN    NaN       NaN       NaN           NaN        NaN  NaN    NaN   \n",
       "1   NaN    NaN       NaN       NaN           NaN        NaN  NaN    NaN   \n",
       "2   NaN    NaN       NaN       NaN           NaN        NaN  NaN    NaN   \n",
       "3   NaN    NaN       NaN       NaN           NaN        NaN  NaN    NaN   \n",
       "4   NaN    NaN       NaN       NaN           NaN        NaN  NaN    NaN   \n",
       "\n",
       "  withheld  \n",
       "0      NaN  \n",
       "1      NaN  \n",
       "2      NaN  \n",
       "3      NaN  \n",
       "4      NaN  "
      ]
     },
     "execution_count": 95,
     "metadata": {},
     "output_type": "execute_result"
    }
   ],
   "source": [
    "tweets_df.head()"
   ]
  },
  {
   "cell_type": "markdown",
   "metadata": {},
   "source": [
    "Make sure to save the tweets after this process, use a file format that won't comprimise the characters in tweets"
   ]
  },
  {
   "cell_type": "code",
   "execution_count": null,
   "metadata": {},
   "outputs": [],
   "source": [
    "def delete_duplicates(df, str_len=25):\n",
    "    \"\"\"\n",
    "    Create a function that looks at the tweets in the tweets dataframe and other characters and delete \n",
    "    duplicates as sometimes we can get duplicate data/tweets. For example if I tweet something and someone else\n",
    "    retweets it then this could possibly be a duplicate. Is this useful information? You need to decide of course.\n",
    "    \"\"\"\n",
    "\n",
    "def preprocess_tweet(tweet):\n",
    "    \"\"\"\n",
    "    Create a function that preprocess the text in a single tweet. Suggestions for this function are:\n",
    "    - correct all multiple white spaces to a single white space\n",
    "    - convert all urls to string \"URL\"\n",
    "    - if the username isn't relevant then convert @username to \"AT_USER\"\n",
    "    - converts emoji's to text description of the emoji\n",
    "    \"\"\""
   ]
  },
  {
   "cell_type": "code",
   "execution_count": null,
   "metadata": {
    "scrolled": true
   },
   "outputs": [],
   "source": [
    "tweets_df = delete_duplicates(tweets_to_analyse)\n",
    "tweets_df.reset_index(inplace=True, drop=True)\n",
    "tweets_df['text_clean'] = tweets_df['text'].apply(preprocess_tweet)"
   ]
  },
  {
   "cell_type": "markdown",
   "metadata": {},
   "source": [
    "## Alt data"
   ]
  },
  {
   "cell_type": "code",
   "execution_count": null,
   "metadata": {},
   "outputs": [],
   "source": [
    "df = pd.read_excel('https://query.data.world/s/rghc6hq5b32ertwgebgwuyx2lcpxvt')"
   ]
  },
  {
   "cell_type": "markdown",
   "metadata": {},
   "source": [
    "## Tweets Analysis\n",
    "\n",
    "Now it's time to analyse this data to try and get some interesting insights. Below are some questions you can answer to get started but the best Data Scientists are creative thinkers so think out of th ebox to decide what will be interesting insight"
   ]
  },
  {
   "cell_type": "markdown",
   "metadata": {},
   "source": [
    "**What locations in Nigeria and around the world were the hashtags popular?**"
   ]
  },
  {
   "cell_type": "code",
   "execution_count": null,
   "metadata": {},
   "outputs": [],
   "source": []
  },
  {
   "cell_type": "markdown",
   "metadata": {},
   "source": [
    "**How far did the hashtag reach and how deep was this reach?**"
   ]
  },
  {
   "cell_type": "code",
   "execution_count": null,
   "metadata": {},
   "outputs": [],
   "source": []
  },
  {
   "cell_type": "markdown",
   "metadata": {},
   "source": [
    "**When the did movement start on social media? When did it reach critical mass?**"
   ]
  },
  {
   "cell_type": "code",
   "execution_count": null,
   "metadata": {},
   "outputs": [],
   "source": []
  },
  {
   "cell_type": "markdown",
   "metadata": {},
   "source": [
    "**What were the most popular words or terms used during the movement?**"
   ]
  },
  {
   "cell_type": "code",
   "execution_count": null,
   "metadata": {},
   "outputs": [],
   "source": []
  },
  {
   "cell_type": "markdown",
   "metadata": {},
   "source": [
    "**Who were the key influences and proponents involved in the movement?**"
   ]
  },
  {
   "cell_type": "code",
   "execution_count": null,
   "metadata": {},
   "outputs": [],
   "source": []
  },
  {
   "cell_type": "markdown",
   "metadata": {},
   "source": [
    "**What was the most popular tweet?**"
   ]
  },
  {
   "cell_type": "code",
   "execution_count": null,
   "metadata": {},
   "outputs": [],
   "source": []
  },
  {
   "cell_type": "markdown",
   "metadata": {},
   "source": [
    "**What is the general sentiment of the tweets about the movement? How has this changed from the start of the movement till now?**"
   ]
  },
  {
   "cell_type": "code",
   "execution_count": null,
   "metadata": {},
   "outputs": [],
   "source": []
  },
  {
   "cell_type": "markdown",
   "metadata": {},
   "source": [
    "**Were there any bots or bad actors spreading fake news around the movement?**"
   ]
  },
  {
   "cell_type": "code",
   "execution_count": null,
   "metadata": {},
   "outputs": [],
   "source": []
  },
  {
   "cell_type": "markdown",
   "metadata": {},
   "source": [
    "**What are some examples of this fake news?**"
   ]
  },
  {
   "cell_type": "code",
   "execution_count": null,
   "metadata": {},
   "outputs": [],
   "source": []
  },
  {
   "cell_type": "markdown",
   "metadata": {},
   "source": [
    "## Sentiment Modelling\n",
    "Train model on labelled twitter sentiment data from another dataset\n",
    "<br>Next steps:\n",
    "- Download Sentiment140 data\n",
    "- preprocess tweet data\n",
    "- Apply word embeddings to the text\n",
    "- apply fasttext text classification\n",
    "- Pickle model\n",
    "- Apply model to endsars tweets text"
   ]
  },
  {
   "cell_type": "markdown",
   "metadata": {},
   "source": [
    "### Get data ready for fastText training"
   ]
  },
  {
   "cell_type": "markdown",
   "metadata": {},
   "source": [
    "Save as .txt file for the fastText classifer"
   ]
  },
  {
   "cell_type": "code",
   "execution_count": null,
   "metadata": {},
   "outputs": [],
   "source": [
    "def prep_data(df, filename=\"\"):\n",
    "    \"\"\"\n",
    "    Create a functions that prepares the endsars data in a format that the fasttext model likes\n",
    "    \"\"\""
   ]
  },
  {
   "cell_type": "markdown",
   "metadata": {},
   "source": [
    "**Train Model**"
   ]
  },
  {
   "cell_type": "code",
   "execution_count": null,
   "metadata": {},
   "outputs": [],
   "source": []
  },
  {
   "cell_type": "markdown",
   "metadata": {},
   "source": [
    "**Apply Modelto Test data**"
   ]
  },
  {
   "cell_type": "code",
   "execution_count": null,
   "metadata": {},
   "outputs": [],
   "source": []
  },
  {
   "cell_type": "markdown",
   "metadata": {},
   "source": [
    "**Score Model**"
   ]
  },
  {
   "cell_type": "code",
   "execution_count": null,
   "metadata": {},
   "outputs": [],
   "source": []
  },
  {
   "cell_type": "markdown",
   "metadata": {},
   "source": [
    "**Check labels on example tweets**"
   ]
  },
  {
   "cell_type": "code",
   "execution_count": null,
   "metadata": {},
   "outputs": [],
   "source": []
  },
  {
   "cell_type": "markdown",
   "metadata": {},
   "source": [
    "### Apply trained fastText model to tweets df"
   ]
  },
  {
   "cell_type": "code",
   "execution_count": null,
   "metadata": {
    "scrolled": true
   },
   "outputs": [],
   "source": [
    "tweets_df['ft_predict'] = tweets_df.text.apply(ft_model.predict)\n",
    "tweets_df[\"sentiment\"] = tweets_df.ft_predict.apply(lambda x: 1 if x[0][0] == '__label__positive' else\n",
    "                                                               0)\n",
    "tweets_df['sentiment_prob'] = tweets_df.ft_predict.apply(lambda x: x[1][0])"
   ]
  },
  {
   "cell_type": "code",
   "execution_count": null,
   "metadata": {},
   "outputs": [],
   "source": [
    "def print_tweet_sentiment(index=0):\n",
    "    \"\"\"\n",
    "    Create function where you either pass the index of the tweet in the tweets_df or a tweet and it returns the \n",
    "    sentiment for the tweet\n",
    "    \"\"\""
   ]
  },
  {
   "cell_type": "code",
   "execution_count": null,
   "metadata": {},
   "outputs": [],
   "source": []
  }
 ],
 "metadata": {
  "kernelspec": {
   "display_name": "Python [conda env:endsars] *",
   "language": "python",
   "name": "conda-env-endsars-py"
  },
  "language_info": {
   "codemirror_mode": {
    "name": "ipython",
    "version": 3
   },
   "file_extension": ".py",
   "mimetype": "text/x-python",
   "name": "python",
   "nbconvert_exporter": "python",
   "pygments_lexer": "ipython3",
   "version": "3.8.5"
  },
  "toc": {
   "base_numbering": 1,
   "nav_menu": {},
   "number_sections": true,
   "sideBar": true,
   "skip_h1_title": true,
   "title_cell": "Table of Contents",
   "title_sidebar": "Contents",
   "toc_cell": false,
   "toc_position": {
    "height": "calc(100% - 180px)",
    "left": "10px",
    "top": "150px",
    "width": "321px"
   },
   "toc_section_display": true,
   "toc_window_display": true
  }
 },
 "nbformat": 4,
 "nbformat_minor": 2
}
